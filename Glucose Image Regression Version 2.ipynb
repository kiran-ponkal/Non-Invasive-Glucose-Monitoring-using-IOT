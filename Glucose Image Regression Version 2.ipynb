{
 "cells": [
  {
   "cell_type": "markdown",
   "metadata": {},
   "source": [
    "<h1>0 - Introduction</h1>"
   ]
  },
  {
   "cell_type": "markdown",
   "metadata": {},
   "source": [
    "<p>\n",
    "    For version of the GlucoCheck glucose-estimation model, I used a more novel approach to calculating the patient's glucose values. Our current working prototype is based off of a laser that is activated on a patient's finger with an image diode that captures a picture of the laser shining through the patient's finger. When the laser is aimed at a patient's finger different wavelength's of light (colors) are absorbed by the patient's skin tissue, resulting in the image that is captured by the image diode. Since most blue and green light is absorbed by the laser diode, the image is left with mostly red colors.\n",
    "</p>\n",
    "\n",
    "<p>\n",
    "    With these images, data manipulation, and machine learning models, we can easily estimate the patient's current blood glucose. To do this estimation, we find the intensity values of the images for different colors. Intensity values are the number of pixels in each image that have a certain value of red, blue, or green. To get all of the intensity values in an image, we find the number of pixels that have each possible value of red in them (0-255) and then map that to an array (number of images x 256). We can do this process for all three major RGB colors: red, green, and blue. For this model, we experimented with all three colors. \n",
    "</p>\n",
    "\n",
    "<p>\n",
    "    Prior to creating the datasets and models, we went through our current dataset and we compiled all of the folders of images (named according to the person) into one folder. Inside of that folder, we renamed all of the folders with images to measured glucose value of the corresponding person. This process resulted in a folder containing several other folders with glucose values as names of the folders and the folders containing images with those same glucose values. \n",
    "</p>\n",
    "<p>\n",
    "    We also removed many \"bad\" images from the datasets; these images were ones that were captured incorrectly. Furthermore, many of the images in the second image capture were renamed to random numbers to allow for the file-folders to be merged into one single folder with subdirectories described above.\n",
    "</p>"
   ]
  },
  {
   "cell_type": "markdown",
   "metadata": {},
   "source": [
    "<h1>1 - Initial Setup</h1>"
   ]
  },
  {
   "cell_type": "markdown",
   "metadata": {},
   "source": [
    "<h4>Import Python Libraries</h4>"
   ]
  },
  {
   "cell_type": "code",
   "execution_count": 1,
   "metadata": {},
   "outputs": [],
   "source": [
    "import os\n",
    "import glob\n",
    "import time\n",
    "import h5py\n",
    "import skimage\n",
    "import statistics\n",
    "import seaborn as sns\n",
    "from PIL import Image\n",
    "import numpy as np\n",
    "import pandas as pd\n",
    "from skimage import io\n",
    "from pathlib import Path\n",
    "import tensorflow as tf\n",
    "from sklearn.metrics import r2_score\n",
    "from sklearn.model_selection import train_test_split\n",
    "from sklearn.metrics import mean_absolute_percentage_error"
   ]
  },
  {
   "cell_type": "code",
   "execution_count": 2,
   "metadata": {},
   "outputs": [],
   "source": [
    "import warnings\n",
    "warnings.filterwarnings(\"ignore\")"
   ]
  },
  {
   "cell_type": "markdown",
   "metadata": {},
   "source": [
    "<h1>2 - Creating Datasets</h1>"
   ]
  },
  {
   "cell_type": "markdown",
   "metadata": {},
   "source": [
    "<h4>Finding the Data Directory</h4>"
   ]
  },
  {
   "cell_type": "code",
   "execution_count": 3,
   "metadata": {},
   "outputs": [
    {
     "name": "stdout",
     "output_type": "stream",
     "text": [
      "x:\\Machine Learning\\Glucose Estimation\\data_second_cleaned\n"
     ]
    }
   ],
   "source": [
    "directory = os.getcwd() + '\\data_second_cleaned'\n",
    "print(directory)"
   ]
  },
  {
   "cell_type": "markdown",
   "metadata": {},
   "source": [
    "<h4>Creating Series for Image Filepaths and Glucose Values</h4>"
   ]
  },
  {
   "cell_type": "code",
   "execution_count": 4,
   "metadata": {},
   "outputs": [],
   "source": [
    "#Creating list with all image filepaths and one for glucose values.\n",
    "files = glob.glob(directory + '\\**\\*')\n",
    "values = [None] * len(files)\n",
    "\n",
    "#Correcting all filepaths and adding their respective values to the other list. \n",
    "x = 0\n",
    "while x < len(files):\n",
    "    files[x] = files[x].replace('\\\\','/')\n",
    "    temp = files[x][59:]\n",
    "    values[x] = int(temp[0:temp.index('/')])\n",
    "    x = x + 1\n",
    "\n",
    "#Converting lists into Panda Series for creating a Dataframe\n",
    "files = pd.Series(files, name='Filepath')\n",
    "values = pd.Series(values, name='Glucose')"
   ]
  },
  {
   "cell_type": "markdown",
   "metadata": {},
   "source": [
    "<h4>Combining the Series into a Dataframe</h4>"
   ]
  },
  {
   "cell_type": "code",
   "execution_count": 4,
   "metadata": {},
   "outputs": [
    {
     "data": {
      "text/html": [
       "<div>\n",
       "<style scoped>\n",
       "    .dataframe tbody tr th:only-of-type {\n",
       "        vertical-align: middle;\n",
       "    }\n",
       "\n",
       "    .dataframe tbody tr th {\n",
       "        vertical-align: top;\n",
       "    }\n",
       "\n",
       "    .dataframe thead th {\n",
       "        text-align: right;\n",
       "    }\n",
       "</style>\n",
       "<table border=\"1\" class=\"dataframe\">\n",
       "  <thead>\n",
       "    <tr style=\"text-align: right;\">\n",
       "      <th></th>\n",
       "      <th>Filepath</th>\n",
       "      <th>Glucose</th>\n",
       "    </tr>\n",
       "  </thead>\n",
       "  <tbody>\n",
       "    <tr>\n",
       "      <th>0</th>\n",
       "      <td>x:/Machine Learning/Glucose Estimation/data_se...</td>\n",
       "      <td>100</td>\n",
       "    </tr>\n",
       "    <tr>\n",
       "      <th>1</th>\n",
       "      <td>x:/Machine Learning/Glucose Estimation/data_se...</td>\n",
       "      <td>100</td>\n",
       "    </tr>\n",
       "    <tr>\n",
       "      <th>2</th>\n",
       "      <td>x:/Machine Learning/Glucose Estimation/data_se...</td>\n",
       "      <td>100</td>\n",
       "    </tr>\n",
       "    <tr>\n",
       "      <th>3</th>\n",
       "      <td>x:/Machine Learning/Glucose Estimation/data_se...</td>\n",
       "      <td>100</td>\n",
       "    </tr>\n",
       "    <tr>\n",
       "      <th>4</th>\n",
       "      <td>x:/Machine Learning/Glucose Estimation/data_se...</td>\n",
       "      <td>100</td>\n",
       "    </tr>\n",
       "    <tr>\n",
       "      <th>...</th>\n",
       "      <td>...</td>\n",
       "      <td>...</td>\n",
       "    </tr>\n",
       "    <tr>\n",
       "      <th>1123</th>\n",
       "      <td>x:/Machine Learning/Glucose Estimation/data_se...</td>\n",
       "      <td>99</td>\n",
       "    </tr>\n",
       "    <tr>\n",
       "      <th>1124</th>\n",
       "      <td>x:/Machine Learning/Glucose Estimation/data_se...</td>\n",
       "      <td>99</td>\n",
       "    </tr>\n",
       "    <tr>\n",
       "      <th>1125</th>\n",
       "      <td>x:/Machine Learning/Glucose Estimation/data_se...</td>\n",
       "      <td>99</td>\n",
       "    </tr>\n",
       "    <tr>\n",
       "      <th>1126</th>\n",
       "      <td>x:/Machine Learning/Glucose Estimation/data_se...</td>\n",
       "      <td>99</td>\n",
       "    </tr>\n",
       "    <tr>\n",
       "      <th>1127</th>\n",
       "      <td>x:/Machine Learning/Glucose Estimation/data_se...</td>\n",
       "      <td>99</td>\n",
       "    </tr>\n",
       "  </tbody>\n",
       "</table>\n",
       "<p>1128 rows × 2 columns</p>\n",
       "</div>"
      ],
      "text/plain": [
       "                                               Filepath  Glucose\n",
       "0     x:/Machine Learning/Glucose Estimation/data_se...      100\n",
       "1     x:/Machine Learning/Glucose Estimation/data_se...      100\n",
       "2     x:/Machine Learning/Glucose Estimation/data_se...      100\n",
       "3     x:/Machine Learning/Glucose Estimation/data_se...      100\n",
       "4     x:/Machine Learning/Glucose Estimation/data_se...      100\n",
       "...                                                 ...      ...\n",
       "1123  x:/Machine Learning/Glucose Estimation/data_se...       99\n",
       "1124  x:/Machine Learning/Glucose Estimation/data_se...       99\n",
       "1125  x:/Machine Learning/Glucose Estimation/data_se...       99\n",
       "1126  x:/Machine Learning/Glucose Estimation/data_se...       99\n",
       "1127  x:/Machine Learning/Glucose Estimation/data_se...       99\n",
       "\n",
       "[1128 rows x 2 columns]"
      ]
     },
     "execution_count": 4,
     "metadata": {},
     "output_type": "execute_result"
    }
   ],
   "source": [
    "images = pd.concat([files, values], axis=1)\n",
    "images"
   ]
  },
  {
   "cell_type": "markdown",
   "metadata": {},
   "source": [
    "<h4>Shuffling the Dataset</h4>"
   ]
  },
  {
   "cell_type": "code",
   "execution_count": 5,
   "metadata": {},
   "outputs": [
    {
     "data": {
      "text/html": [
       "<div>\n",
       "<style scoped>\n",
       "    .dataframe tbody tr th:only-of-type {\n",
       "        vertical-align: middle;\n",
       "    }\n",
       "\n",
       "    .dataframe tbody tr th {\n",
       "        vertical-align: top;\n",
       "    }\n",
       "\n",
       "    .dataframe thead th {\n",
       "        text-align: right;\n",
       "    }\n",
       "</style>\n",
       "<table border=\"1\" class=\"dataframe\">\n",
       "  <thead>\n",
       "    <tr style=\"text-align: right;\">\n",
       "      <th></th>\n",
       "      <th>Filepath</th>\n",
       "      <th>Glucose</th>\n",
       "    </tr>\n",
       "  </thead>\n",
       "  <tbody>\n",
       "    <tr>\n",
       "      <th>0</th>\n",
       "      <td>x:/Machine Learning/Glucose Estimation/data_se...</td>\n",
       "      <td>101</td>\n",
       "    </tr>\n",
       "    <tr>\n",
       "      <th>1</th>\n",
       "      <td>x:/Machine Learning/Glucose Estimation/data_se...</td>\n",
       "      <td>83</td>\n",
       "    </tr>\n",
       "    <tr>\n",
       "      <th>2</th>\n",
       "      <td>x:/Machine Learning/Glucose Estimation/data_se...</td>\n",
       "      <td>83</td>\n",
       "    </tr>\n",
       "    <tr>\n",
       "      <th>3</th>\n",
       "      <td>x:/Machine Learning/Glucose Estimation/data_se...</td>\n",
       "      <td>131</td>\n",
       "    </tr>\n",
       "    <tr>\n",
       "      <th>4</th>\n",
       "      <td>x:/Machine Learning/Glucose Estimation/data_se...</td>\n",
       "      <td>113</td>\n",
       "    </tr>\n",
       "    <tr>\n",
       "      <th>...</th>\n",
       "      <td>...</td>\n",
       "      <td>...</td>\n",
       "    </tr>\n",
       "    <tr>\n",
       "      <th>1123</th>\n",
       "      <td>x:/Machine Learning/Glucose Estimation/data_se...</td>\n",
       "      <td>92</td>\n",
       "    </tr>\n",
       "    <tr>\n",
       "      <th>1124</th>\n",
       "      <td>x:/Machine Learning/Glucose Estimation/data_se...</td>\n",
       "      <td>111</td>\n",
       "    </tr>\n",
       "    <tr>\n",
       "      <th>1125</th>\n",
       "      <td>x:/Machine Learning/Glucose Estimation/data_se...</td>\n",
       "      <td>142</td>\n",
       "    </tr>\n",
       "    <tr>\n",
       "      <th>1126</th>\n",
       "      <td>x:/Machine Learning/Glucose Estimation/data_se...</td>\n",
       "      <td>147</td>\n",
       "    </tr>\n",
       "    <tr>\n",
       "      <th>1127</th>\n",
       "      <td>x:/Machine Learning/Glucose Estimation/data_se...</td>\n",
       "      <td>108</td>\n",
       "    </tr>\n",
       "  </tbody>\n",
       "</table>\n",
       "<p>1128 rows × 2 columns</p>\n",
       "</div>"
      ],
      "text/plain": [
       "                                               Filepath  Glucose\n",
       "0     x:/Machine Learning/Glucose Estimation/data_se...      101\n",
       "1     x:/Machine Learning/Glucose Estimation/data_se...       83\n",
       "2     x:/Machine Learning/Glucose Estimation/data_se...       83\n",
       "3     x:/Machine Learning/Glucose Estimation/data_se...      131\n",
       "4     x:/Machine Learning/Glucose Estimation/data_se...      113\n",
       "...                                                 ...      ...\n",
       "1123  x:/Machine Learning/Glucose Estimation/data_se...       92\n",
       "1124  x:/Machine Learning/Glucose Estimation/data_se...      111\n",
       "1125  x:/Machine Learning/Glucose Estimation/data_se...      142\n",
       "1126  x:/Machine Learning/Glucose Estimation/data_se...      147\n",
       "1127  x:/Machine Learning/Glucose Estimation/data_se...      108\n",
       "\n",
       "[1128 rows x 2 columns]"
      ]
     },
     "execution_count": 5,
     "metadata": {},
     "output_type": "execute_result"
    }
   ],
   "source": [
    "#Settings Random State for Replication and Resetting Indices for Ordering \n",
    "images = images.sample(1128, random_state=7).reset_index(drop=True)\n",
    "images"
   ]
  },
  {
   "cell_type": "markdown",
   "metadata": {},
   "source": [
    "<h4>Creating a Function for Declaring the Datasets</h4>"
   ]
  },
  {
   "cell_type": "code",
   "execution_count": 7,
   "metadata": {},
   "outputs": [],
   "source": [
    "from numba import jit\n",
    "\n",
    "#The following function creates an empty Dataframe with appropriate columns.\n",
    "#The user inputs the total number of images being used.\n",
    "\n",
    "def initDS(num):\n",
    "    cols = []\n",
    "    for x in range(0,256):\n",
    "        cols.append(x)\n",
    "    cols.append('Glucose')\n",
    "    dataset = pd.DataFrame(columns=cols,index=range(0,num))\n",
    "    for col in dataset.columns:\n",
    "        dataset[col].values[:] = 0\n",
    "    return dataset"
   ]
  },
  {
   "cell_type": "markdown",
   "metadata": {},
   "source": [
    "<h4>Creating a Function for Initializing the Datasets</h4>"
   ]
  },
  {
   "cell_type": "code",
   "execution_count": 8,
   "metadata": {},
   "outputs": [],
   "source": [
    "from numba import jit\n",
    "\n",
    "#This function inputs the intensity values for a specific color for a specific image.\n",
    "#   0 - Red   1 - Green   2 - Blue \n",
    "\n",
    "def fillDS(dataset,row,color,i):\n",
    "    image = io.imread(row['Filepath'])\n",
    "    rw = dataset.loc[i]\n",
    "    for a in range(0,480):\n",
    "        for b in range(0,640):\n",
    "            sum = image[a][b][color]\n",
    "            rw[sum] = rw[sum] + 1\n",
    "    rw.iloc[256] = row['Glucose']"
   ]
  },
  {
   "cell_type": "markdown",
   "metadata": {},
   "source": [
    "<h4>Using Functions to Create the Datasets</h4>"
   ]
  },
  {
   "cell_type": "code",
   "execution_count": 9,
   "metadata": {},
   "outputs": [
    {
     "data": {
      "text/plain": [
       "(1128, 257)"
      ]
     },
     "execution_count": 9,
     "metadata": {},
     "output_type": "execute_result"
    }
   ],
   "source": [
    "#Initializing Datasets\n",
    "red_dataset = initDS(1128)\n",
    "green_dataset = initDS(1128)\n",
    "blue_dataset = initDS(1128)\n",
    "\n",
    "red_dataset.shape"
   ]
  },
  {
   "cell_type": "code",
   "execution_count": 10,
   "metadata": {},
   "outputs": [],
   "source": [
    "#Filling Datasets\n",
    "\n",
    "for i, row in images.iterrows():  \n",
    "    fillDS(red_dataset,row,0,i)\n",
    "    fillDS(green_dataset,row,1,i)\n",
    "    fillDS(blue_dataset,row,2,i)"
   ]
  },
  {
   "cell_type": "markdown",
   "metadata": {},
   "source": [
    "<h4>Exporting the Datasets as CSV Files</h4>"
   ]
  },
  {
   "cell_type": "code",
   "execution_count": 11,
   "metadata": {},
   "outputs": [],
   "source": [
    "red_dataset.to_csv('red_data.csv')\n",
    "green_dataset.to_csv('green_data.csv')\n",
    "blue_dataset.to_csv('blue_data.csv')\n"
   ]
  },
  {
   "cell_type": "markdown",
   "metadata": {},
   "source": [
    "<p>\n",
    "    As the final step for this section of the procedure, we made an additional dataset that merged the values found in all three of the previously created datasets. This dataset contains 769 columns, featuring all of the intesity values of the image. This process was done in Excel using the previously exported CSV files and was exported as another CSV file.\n",
    "</p>"
   ]
  },
  {
   "cell_type": "markdown",
   "metadata": {},
   "source": [
    "<h1>3 - Data Processing / Model Preparation</h1>"
   ]
  },
  {
   "cell_type": "markdown",
   "metadata": {},
   "source": [
    "<h4>Loading the Merged Dataset</h4>"
   ]
  },
  {
   "cell_type": "code",
   "execution_count": 145,
   "metadata": {},
   "outputs": [
    {
     "data": {
      "text/html": [
       "<div>\n",
       "<style scoped>\n",
       "    .dataframe tbody tr th:only-of-type {\n",
       "        vertical-align: middle;\n",
       "    }\n",
       "\n",
       "    .dataframe tbody tr th {\n",
       "        vertical-align: top;\n",
       "    }\n",
       "\n",
       "    .dataframe thead th {\n",
       "        text-align: right;\n",
       "    }\n",
       "</style>\n",
       "<table border=\"1\" class=\"dataframe\">\n",
       "  <thead>\n",
       "    <tr style=\"text-align: right;\">\n",
       "      <th></th>\n",
       "      <th>r0</th>\n",
       "      <th>r1</th>\n",
       "      <th>r2</th>\n",
       "      <th>r3</th>\n",
       "      <th>r4</th>\n",
       "      <th>r5</th>\n",
       "      <th>r6</th>\n",
       "      <th>r7</th>\n",
       "      <th>r8</th>\n",
       "      <th>r9</th>\n",
       "      <th>...</th>\n",
       "      <th>b247</th>\n",
       "      <th>b248</th>\n",
       "      <th>b249</th>\n",
       "      <th>b250</th>\n",
       "      <th>b251</th>\n",
       "      <th>b252</th>\n",
       "      <th>b253</th>\n",
       "      <th>b254</th>\n",
       "      <th>b255</th>\n",
       "      <th>Glucose</th>\n",
       "    </tr>\n",
       "  </thead>\n",
       "  <tbody>\n",
       "    <tr>\n",
       "      <th>0</th>\n",
       "      <td>0</td>\n",
       "      <td>0</td>\n",
       "      <td>0</td>\n",
       "      <td>0</td>\n",
       "      <td>0</td>\n",
       "      <td>0</td>\n",
       "      <td>0</td>\n",
       "      <td>0</td>\n",
       "      <td>0</td>\n",
       "      <td>0</td>\n",
       "      <td>...</td>\n",
       "      <td>0</td>\n",
       "      <td>0</td>\n",
       "      <td>0</td>\n",
       "      <td>0</td>\n",
       "      <td>0</td>\n",
       "      <td>0</td>\n",
       "      <td>0</td>\n",
       "      <td>0</td>\n",
       "      <td>0</td>\n",
       "      <td>101</td>\n",
       "    </tr>\n",
       "    <tr>\n",
       "      <th>1</th>\n",
       "      <td>0</td>\n",
       "      <td>0</td>\n",
       "      <td>0</td>\n",
       "      <td>0</td>\n",
       "      <td>0</td>\n",
       "      <td>0</td>\n",
       "      <td>0</td>\n",
       "      <td>0</td>\n",
       "      <td>0</td>\n",
       "      <td>0</td>\n",
       "      <td>...</td>\n",
       "      <td>0</td>\n",
       "      <td>0</td>\n",
       "      <td>0</td>\n",
       "      <td>0</td>\n",
       "      <td>0</td>\n",
       "      <td>0</td>\n",
       "      <td>0</td>\n",
       "      <td>0</td>\n",
       "      <td>0</td>\n",
       "      <td>83</td>\n",
       "    </tr>\n",
       "    <tr>\n",
       "      <th>2</th>\n",
       "      <td>0</td>\n",
       "      <td>0</td>\n",
       "      <td>0</td>\n",
       "      <td>0</td>\n",
       "      <td>0</td>\n",
       "      <td>0</td>\n",
       "      <td>0</td>\n",
       "      <td>0</td>\n",
       "      <td>0</td>\n",
       "      <td>0</td>\n",
       "      <td>...</td>\n",
       "      <td>0</td>\n",
       "      <td>0</td>\n",
       "      <td>0</td>\n",
       "      <td>0</td>\n",
       "      <td>0</td>\n",
       "      <td>0</td>\n",
       "      <td>0</td>\n",
       "      <td>0</td>\n",
       "      <td>0</td>\n",
       "      <td>83</td>\n",
       "    </tr>\n",
       "    <tr>\n",
       "      <th>3</th>\n",
       "      <td>0</td>\n",
       "      <td>0</td>\n",
       "      <td>0</td>\n",
       "      <td>0</td>\n",
       "      <td>0</td>\n",
       "      <td>0</td>\n",
       "      <td>0</td>\n",
       "      <td>0</td>\n",
       "      <td>0</td>\n",
       "      <td>0</td>\n",
       "      <td>...</td>\n",
       "      <td>0</td>\n",
       "      <td>0</td>\n",
       "      <td>0</td>\n",
       "      <td>0</td>\n",
       "      <td>0</td>\n",
       "      <td>0</td>\n",
       "      <td>0</td>\n",
       "      <td>0</td>\n",
       "      <td>0</td>\n",
       "      <td>131</td>\n",
       "    </tr>\n",
       "    <tr>\n",
       "      <th>4</th>\n",
       "      <td>0</td>\n",
       "      <td>0</td>\n",
       "      <td>0</td>\n",
       "      <td>0</td>\n",
       "      <td>0</td>\n",
       "      <td>0</td>\n",
       "      <td>0</td>\n",
       "      <td>0</td>\n",
       "      <td>0</td>\n",
       "      <td>0</td>\n",
       "      <td>...</td>\n",
       "      <td>0</td>\n",
       "      <td>0</td>\n",
       "      <td>0</td>\n",
       "      <td>0</td>\n",
       "      <td>0</td>\n",
       "      <td>0</td>\n",
       "      <td>0</td>\n",
       "      <td>0</td>\n",
       "      <td>0</td>\n",
       "      <td>113</td>\n",
       "    </tr>\n",
       "    <tr>\n",
       "      <th>...</th>\n",
       "      <td>...</td>\n",
       "      <td>...</td>\n",
       "      <td>...</td>\n",
       "      <td>...</td>\n",
       "      <td>...</td>\n",
       "      <td>...</td>\n",
       "      <td>...</td>\n",
       "      <td>...</td>\n",
       "      <td>...</td>\n",
       "      <td>...</td>\n",
       "      <td>...</td>\n",
       "      <td>...</td>\n",
       "      <td>...</td>\n",
       "      <td>...</td>\n",
       "      <td>...</td>\n",
       "      <td>...</td>\n",
       "      <td>...</td>\n",
       "      <td>...</td>\n",
       "      <td>...</td>\n",
       "      <td>...</td>\n",
       "      <td>...</td>\n",
       "    </tr>\n",
       "    <tr>\n",
       "      <th>1123</th>\n",
       "      <td>0</td>\n",
       "      <td>0</td>\n",
       "      <td>0</td>\n",
       "      <td>0</td>\n",
       "      <td>0</td>\n",
       "      <td>0</td>\n",
       "      <td>0</td>\n",
       "      <td>0</td>\n",
       "      <td>0</td>\n",
       "      <td>0</td>\n",
       "      <td>...</td>\n",
       "      <td>0</td>\n",
       "      <td>0</td>\n",
       "      <td>0</td>\n",
       "      <td>0</td>\n",
       "      <td>0</td>\n",
       "      <td>0</td>\n",
       "      <td>0</td>\n",
       "      <td>0</td>\n",
       "      <td>0</td>\n",
       "      <td>92</td>\n",
       "    </tr>\n",
       "    <tr>\n",
       "      <th>1124</th>\n",
       "      <td>0</td>\n",
       "      <td>0</td>\n",
       "      <td>0</td>\n",
       "      <td>0</td>\n",
       "      <td>0</td>\n",
       "      <td>0</td>\n",
       "      <td>0</td>\n",
       "      <td>0</td>\n",
       "      <td>0</td>\n",
       "      <td>0</td>\n",
       "      <td>...</td>\n",
       "      <td>0</td>\n",
       "      <td>0</td>\n",
       "      <td>0</td>\n",
       "      <td>0</td>\n",
       "      <td>0</td>\n",
       "      <td>0</td>\n",
       "      <td>0</td>\n",
       "      <td>0</td>\n",
       "      <td>0</td>\n",
       "      <td>111</td>\n",
       "    </tr>\n",
       "    <tr>\n",
       "      <th>1125</th>\n",
       "      <td>0</td>\n",
       "      <td>0</td>\n",
       "      <td>0</td>\n",
       "      <td>0</td>\n",
       "      <td>0</td>\n",
       "      <td>0</td>\n",
       "      <td>0</td>\n",
       "      <td>0</td>\n",
       "      <td>0</td>\n",
       "      <td>0</td>\n",
       "      <td>...</td>\n",
       "      <td>0</td>\n",
       "      <td>0</td>\n",
       "      <td>0</td>\n",
       "      <td>0</td>\n",
       "      <td>0</td>\n",
       "      <td>0</td>\n",
       "      <td>0</td>\n",
       "      <td>0</td>\n",
       "      <td>0</td>\n",
       "      <td>142</td>\n",
       "    </tr>\n",
       "    <tr>\n",
       "      <th>1126</th>\n",
       "      <td>0</td>\n",
       "      <td>0</td>\n",
       "      <td>0</td>\n",
       "      <td>0</td>\n",
       "      <td>0</td>\n",
       "      <td>0</td>\n",
       "      <td>0</td>\n",
       "      <td>0</td>\n",
       "      <td>0</td>\n",
       "      <td>0</td>\n",
       "      <td>...</td>\n",
       "      <td>0</td>\n",
       "      <td>0</td>\n",
       "      <td>0</td>\n",
       "      <td>0</td>\n",
       "      <td>0</td>\n",
       "      <td>0</td>\n",
       "      <td>0</td>\n",
       "      <td>0</td>\n",
       "      <td>0</td>\n",
       "      <td>147</td>\n",
       "    </tr>\n",
       "    <tr>\n",
       "      <th>1127</th>\n",
       "      <td>0</td>\n",
       "      <td>0</td>\n",
       "      <td>0</td>\n",
       "      <td>0</td>\n",
       "      <td>0</td>\n",
       "      <td>0</td>\n",
       "      <td>0</td>\n",
       "      <td>0</td>\n",
       "      <td>0</td>\n",
       "      <td>0</td>\n",
       "      <td>...</td>\n",
       "      <td>0</td>\n",
       "      <td>0</td>\n",
       "      <td>0</td>\n",
       "      <td>0</td>\n",
       "      <td>0</td>\n",
       "      <td>0</td>\n",
       "      <td>0</td>\n",
       "      <td>0</td>\n",
       "      <td>0</td>\n",
       "      <td>108</td>\n",
       "    </tr>\n",
       "  </tbody>\n",
       "</table>\n",
       "<p>1128 rows × 769 columns</p>\n",
       "</div>"
      ],
      "text/plain": [
       "      r0  r1  r2  r3  r4  r5  r6  r7  r8  r9  ...  b247  b248  b249  b250  \\\n",
       "0      0   0   0   0   0   0   0   0   0   0  ...     0     0     0     0   \n",
       "1      0   0   0   0   0   0   0   0   0   0  ...     0     0     0     0   \n",
       "2      0   0   0   0   0   0   0   0   0   0  ...     0     0     0     0   \n",
       "3      0   0   0   0   0   0   0   0   0   0  ...     0     0     0     0   \n",
       "4      0   0   0   0   0   0   0   0   0   0  ...     0     0     0     0   \n",
       "...   ..  ..  ..  ..  ..  ..  ..  ..  ..  ..  ...   ...   ...   ...   ...   \n",
       "1123   0   0   0   0   0   0   0   0   0   0  ...     0     0     0     0   \n",
       "1124   0   0   0   0   0   0   0   0   0   0  ...     0     0     0     0   \n",
       "1125   0   0   0   0   0   0   0   0   0   0  ...     0     0     0     0   \n",
       "1126   0   0   0   0   0   0   0   0   0   0  ...     0     0     0     0   \n",
       "1127   0   0   0   0   0   0   0   0   0   0  ...     0     0     0     0   \n",
       "\n",
       "      b251  b252  b253  b254  b255  Glucose  \n",
       "0        0     0     0     0     0      101  \n",
       "1        0     0     0     0     0       83  \n",
       "2        0     0     0     0     0       83  \n",
       "3        0     0     0     0     0      131  \n",
       "4        0     0     0     0     0      113  \n",
       "...    ...   ...   ...   ...   ...      ...  \n",
       "1123     0     0     0     0     0       92  \n",
       "1124     0     0     0     0     0      111  \n",
       "1125     0     0     0     0     0      142  \n",
       "1126     0     0     0     0     0      147  \n",
       "1127     0     0     0     0     0      108  \n",
       "\n",
       "[1128 rows x 769 columns]"
      ]
     },
     "execution_count": 145,
     "metadata": {},
     "output_type": "execute_result"
    }
   ],
   "source": [
    "red_dataset = pd.read_csv('red_data.csv')\n",
    "green_dataset = pd.read_csv('green_data.csv')\n",
    "blue_dataset = pd.read_csv('blue_data.csv')\n",
    "rgb_dataset = pd.read_csv('rgb_data.csv')\n",
    "rgb_dataset"
   ]
  },
  {
   "cell_type": "markdown",
   "metadata": {},
   "source": [
    "<h4>Making Train/Test Function for Models</h4>"
   ]
  },
  {
   "cell_type": "code",
   "execution_count": 146,
   "metadata": {},
   "outputs": [],
   "source": [
    "#User inputs the model object and the training/testing set to measure accuracy.\n",
    "\n",
    "def trainTest(model,set):\n",
    "    if set == 'red':\n",
    "        model.fit(rx_train,ry_train)\n",
    "        preds = model.predict(rx_test)\n",
    "        print('Red Accuracy: ' + str(100 - (mean_absolute_percentage_error(preds, ry_test)*100)) )\n",
    "    \n",
    "    if set == 'green':\n",
    "        model.fit(gx_train,gy_train)\n",
    "        preds = model.predict(gx_test)\n",
    "        print('Green Accuracy: ' + str(100 - (mean_absolute_percentage_error(preds, gy_test)*100)) )\n",
    "        \n",
    "    if set == 'blue':\n",
    "        model.fit(bx_train,by_train)\n",
    "        preds = model.predict(bx_test)\n",
    "        print('Blue Accuracy: ' + str(100 - (mean_absolute_percentage_error(preds, by_test)*100)) )\n",
    "        \n",
    "    if set == 'all':\n",
    "        model.fit(ax_train,ay_train)\n",
    "        preds = model.predict(ax_test)\n",
    "        print('All Accuracy: ' + str(100 - (mean_absolute_percentage_error(preds, ay_test)*100)) )"
   ]
  },
  {
   "cell_type": "markdown",
   "metadata": {},
   "source": [
    "<h4>Creating Training/Testing Splits</h4>"
   ]
  },
  {
   "cell_type": "code",
   "execution_count": 147,
   "metadata": {},
   "outputs": [],
   "source": [
    "rx_train, rx_test, ry_train, ry_test = train_test_split( red_dataset.drop(columns=['Glucose']) , red_dataset[['Glucose']] ,test_size=0.25,random_state=7)\n",
    "gx_train, gx_test, gy_train, gy_test = train_test_split( green_dataset.drop(columns=['Glucose']) , green_dataset[['Glucose']] ,test_size=0.25,random_state=7)\n",
    "bx_train, bx_test, by_train, by_test = train_test_split( blue_dataset.drop(columns=['Glucose']) , blue_dataset[['Glucose']] ,test_size=0.25,random_state=7)\n",
    "ax_train, ax_test, ay_train, ay_test = train_test_split( rgb_dataset.drop(columns=['Glucose']) , rgb_dataset[['Glucose']] ,test_size=0.25,random_state=7)"
   ]
  },
  {
   "cell_type": "markdown",
   "metadata": {},
   "source": [
    "<h1>4 - Model Training and Testing</h1>"
   ]
  },
  {
   "cell_type": "markdown",
   "metadata": {},
   "source": [
    "<h4>Random Forest - 87.9% Accuracy</h4>"
   ]
  },
  {
   "cell_type": "code",
   "execution_count": 148,
   "metadata": {},
   "outputs": [
    {
     "name": "stdout",
     "output_type": "stream",
     "text": [
      "Red Accuracy: 87.3087997910618\n",
      "Green Accuracy: 87.03855755955992\n",
      "Blue Accuracy: 86.6497289667381\n",
      "All Accuracy: 87.90076354261745\n"
     ]
    }
   ],
   "source": [
    "from sklearn.ensemble import RandomForestRegressor\n",
    "\n",
    "model = RandomForestRegressor(n_estimators = 350, random_state = 7)\n",
    "trainTest(model,'red')\n",
    "trainTest(model,'green')\n",
    "trainTest(model,'blue')\n",
    "trainTest(model,'all')"
   ]
  },
  {
   "cell_type": "markdown",
   "metadata": {},
   "source": [
    "<h4>Decision Tree - 83.8% Accuracy</h4>"
   ]
  },
  {
   "cell_type": "code",
   "execution_count": 149,
   "metadata": {},
   "outputs": [
    {
     "name": "stdout",
     "output_type": "stream",
     "text": [
      "Red Accuracy: 82.80178826840435\n",
      "Green Accuracy: 82.19596500917787\n",
      "Blue Accuracy: 83.3685906717715\n",
      "All Accuracy: 83.3509494785699\n"
     ]
    }
   ],
   "source": [
    "from sklearn.tree import DecisionTreeRegressor\n",
    "\n",
    "model = DecisionTreeRegressor()\n",
    "trainTest(model,'red')\n",
    "trainTest(model,'green')\n",
    "trainTest(model,'blue')\n",
    "trainTest(model,'all')"
   ]
  },
  {
   "cell_type": "markdown",
   "metadata": {},
   "source": [
    "<h4>Elastic Net - 85.7% Accuracy</h4>"
   ]
  },
  {
   "cell_type": "code",
   "execution_count": 150,
   "metadata": {},
   "outputs": [
    {
     "name": "stdout",
     "output_type": "stream",
     "text": [
      "Red Accuracy: 84.86713355824988\n",
      "Green Accuracy: 84.32008002220915\n",
      "Blue Accuracy: 85.08875139717097\n",
      "All Accuracy: 85.69396594187346\n"
     ]
    }
   ],
   "source": [
    "from sklearn.linear_model import ElasticNet\n",
    "\n",
    "model = ElasticNet(alpha=150, l1_ratio=0.5,fit_intercept=False)\n",
    "trainTest(model,'red')\n",
    "trainTest(model,'green')\n",
    "trainTest(model,'blue')\n",
    "trainTest(model,'all')"
   ]
  },
  {
   "cell_type": "markdown",
   "metadata": {},
   "source": [
    "<h4>KNeighbors - 90.1% Accuracy</h4>"
   ]
  },
  {
   "cell_type": "code",
   "execution_count": 151,
   "metadata": {},
   "outputs": [
    {
     "name": "stdout",
     "output_type": "stream",
     "text": [
      "Red Accuracy: 90.1482720590572\n",
      "Green Accuracy: 83.88244210499052\n",
      "Blue Accuracy: 86.14450943999462\n",
      "All Accuracy: 89.31884257612406\n"
     ]
    }
   ],
   "source": [
    "from sklearn.neighbors import KNeighborsRegressor\n",
    "\n",
    "model = KNeighborsRegressor(n_neighbors=1,p=1)\n",
    "trainTest(model,'red')\n",
    "trainTest(model,'green')\n",
    "trainTest(model,'blue')\n",
    "trainTest(model,'all')"
   ]
  },
  {
   "cell_type": "markdown",
   "metadata": {},
   "source": [
    "<h4>Support Vector - 86.8% Accuracy</h4>"
   ]
  },
  {
   "cell_type": "code",
   "execution_count": 152,
   "metadata": {},
   "outputs": [
    {
     "name": "stdout",
     "output_type": "stream",
     "text": [
      "Red Accuracy: 85.00452430491126\n",
      "Green Accuracy: 84.51683585283295\n",
      "Blue Accuracy: 85.6676571775809\n",
      "All Accuracy: 86.81242941433484\n"
     ]
    }
   ],
   "source": [
    "from sklearn.svm import SVR\n",
    "\n",
    "model = SVR(kernel = 'rbf', C = 21250)\n",
    "trainTest(model,'red')\n",
    "trainTest(model,'green')\n",
    "trainTest(model,'blue')\n",
    "trainTest(model,'all')"
   ]
  },
  {
   "cell_type": "markdown",
   "metadata": {},
   "source": [
    "<h4>Lasso Regression - 86.1% Accuracy</h4>"
   ]
  },
  {
   "cell_type": "code",
   "execution_count": 153,
   "metadata": {},
   "outputs": [
    {
     "name": "stdout",
     "output_type": "stream",
     "text": [
      "Red Accuracy: 84.82514359981478\n",
      "Green Accuracy: 84.50248224495067\n",
      "Blue Accuracy: 85.25914061909751\n",
      "All Accuracy: 86.14813243333506\n"
     ]
    }
   ],
   "source": [
    "from sklearn.linear_model import Lasso\n",
    "\n",
    "model = Lasso(alpha=37)\n",
    "trainTest(model,'red')\n",
    "trainTest(model,'green')\n",
    "trainTest(model,'blue')\n",
    "trainTest(model,'all')"
   ]
  },
  {
   "cell_type": "markdown",
   "metadata": {},
   "source": [
    "<h4>Radius Neighbors - 86.2% Accuracy</h4>"
   ]
  },
  {
   "cell_type": "code",
   "execution_count": 154,
   "metadata": {},
   "outputs": [
    {
     "name": "stdout",
     "output_type": "stream",
     "text": [
      "Red Accuracy: 85.83626109014672\n",
      "Green Accuracy: 85.81387149939611\n",
      "Blue Accuracy: 85.66219346414518\n",
      "All Accuracy: 86.1477805493945\n"
     ]
    }
   ],
   "source": [
    "from sklearn.neighbors import RadiusNeighborsRegressor\n",
    "\n",
    "model = RadiusNeighborsRegressor(radius=7000,weights='distance',p=3)\n",
    "trainTest(model,'red')\n",
    "trainTest(model,'green')\n",
    "trainTest(model,'blue')\n",
    "trainTest(model,'all')"
   ]
  },
  {
   "cell_type": "markdown",
   "metadata": {},
   "source": [
    "<h4>Bayesian Ridge - 86.2% Accuracy</h4>"
   ]
  },
  {
   "cell_type": "code",
   "execution_count": 155,
   "metadata": {},
   "outputs": [
    {
     "name": "stdout",
     "output_type": "stream",
     "text": [
      "Red Accuracy: 84.93545532957893\n",
      "Green Accuracy: 84.44726409631501\n",
      "Blue Accuracy: 85.26009720429944\n",
      "All Accuracy: 86.18759077898153\n"
     ]
    }
   ],
   "source": [
    "from sklearn.linear_model import BayesianRidge\n",
    "\n",
    "model = BayesianRidge(n_iter=10,fit_intercept=False)\n",
    "trainTest(model,'red')\n",
    "trainTest(model,'green')\n",
    "trainTest(model,'blue')\n",
    "trainTest(model,'all')"
   ]
  },
  {
   "cell_type": "markdown",
   "metadata": {},
   "source": [
    "<h4>Tweedie Regressor - 86.2% Accuracy</h4>"
   ]
  },
  {
   "cell_type": "code",
   "execution_count": 156,
   "metadata": {},
   "outputs": [
    {
     "name": "stdout",
     "output_type": "stream",
     "text": [
      "Red Accuracy: 84.8410901618374\n",
      "Green Accuracy: 84.31793843567331\n",
      "Blue Accuracy: 84.18340656210901\n",
      "All Accuracy: 86.20137821871194\n"
     ]
    }
   ],
   "source": [
    "from sklearn.linear_model import TweedieRegressor\n",
    "\n",
    "model = TweedieRegressor(power=1,alpha=0,max_iter=95)\n",
    "trainTest(model,'red')\n",
    "trainTest(model,'green')\n",
    "trainTest(model,'blue')\n",
    "trainTest(model,'all')"
   ]
  },
  {
   "cell_type": "markdown",
   "metadata": {},
   "source": [
    "<h4>XGBoost - 87.6% Accuracy</h4>"
   ]
  },
  {
   "cell_type": "code",
   "execution_count": 157,
   "metadata": {},
   "outputs": [
    {
     "name": "stdout",
     "output_type": "stream",
     "text": [
      "Red Accuracy: 86.78757812984341\n",
      "Green Accuracy: 85.84009136760685\n",
      "Blue Accuracy: 86.30379259094985\n",
      "All Accuracy: 87.59792409826079\n"
     ]
    }
   ],
   "source": [
    "from xgboost import XGBRegressor\n",
    "\n",
    "model = XGBRegressor()\n",
    "trainTest(model,'red')\n",
    "trainTest(model,'green')\n",
    "trainTest(model,'blue')\n",
    "trainTest(model,'all')"
   ]
  },
  {
   "cell_type": "markdown",
   "metadata": {},
   "source": [
    "<h4>Histogram Gradient Boosting - 87.8% Accuracy</h4>"
   ]
  },
  {
   "cell_type": "code",
   "execution_count": 158,
   "metadata": {},
   "outputs": [
    {
     "name": "stdout",
     "output_type": "stream",
     "text": [
      "Red Accuracy: 87.13291004060984\n",
      "Green Accuracy: 85.62954289503816\n",
      "Blue Accuracy: 86.21478172872442\n",
      "All Accuracy: 87.83048199899838\n"
     ]
    }
   ],
   "source": [
    "from sklearn.ensemble import HistGradientBoostingRegressor\n",
    "\n",
    "model = HistGradientBoostingRegressor()\n",
    "trainTest(model,'red')\n",
    "trainTest(model,'green')\n",
    "trainTest(model,'blue')\n",
    "trainTest(model,'all')"
   ]
  },
  {
   "cell_type": "markdown",
   "metadata": {},
   "source": [
    "<h4>Neural Network - 87.2% Accuracy</h4>"
   ]
  },
  {
   "cell_type": "code",
   "execution_count": 161,
   "metadata": {},
   "outputs": [],
   "source": [
    "#Creating Neural Network\n",
    "from keras.optimizers import adam_v2\n",
    "from keras.models import Sequential\n",
    "from keras.layers import Dense\n",
    "from keras.layers import Dropout\n",
    "from keras.callbacks import EarlyStopping\n",
    "\n",
    "model = Sequential()\n",
    "model.add(Dense(1024, input_dim=256, activation='relu'))\n",
    "model.add(Dense(2048, activation='relu'))\n",
    "model.add(Dense(1, activation='linear'))\n",
    "model.compile(loss='mae', optimizer='adam')"
   ]
  },
  {
   "cell_type": "code",
   "execution_count": 162,
   "metadata": {},
   "outputs": [
    {
     "name": "stdout",
     "output_type": "stream",
     "text": [
      "Epoch 1/100\n",
      "5/5 [==============================] - 1s 51ms/step - loss: 13990.2881 - val_loss: 5095.7207\n",
      "Epoch 2/100\n",
      "5/5 [==============================] - 0s 23ms/step - loss: 6031.3784 - val_loss: 1063.8107\n",
      "Epoch 3/100\n",
      "5/5 [==============================] - 0s 25ms/step - loss: 1579.3533 - val_loss: 1456.7682\n",
      "Epoch 4/100\n",
      "5/5 [==============================] - 0s 25ms/step - loss: 760.9732 - val_loss: 778.9583\n",
      "Epoch 5/100\n",
      "5/5 [==============================] - 0s 24ms/step - loss: 532.9839 - val_loss: 187.8548\n",
      "Epoch 6/100\n",
      "5/5 [==============================] - 0s 27ms/step - loss: 203.6019 - val_loss: 36.1375\n",
      "Epoch 7/100\n",
      "5/5 [==============================] - 0s 24ms/step - loss: 65.7325 - val_loss: 42.4175\n",
      "Epoch 8/100\n",
      "5/5 [==============================] - 0s 25ms/step - loss: 34.4321 - val_loss: 36.1127\n",
      "Epoch 9/100\n",
      "5/5 [==============================] - 0s 25ms/step - loss: 25.2688 - val_loss: 19.5886\n",
      "Epoch 10/100\n",
      "5/5 [==============================] - 0s 24ms/step - loss: 20.7564 - val_loss: 25.3865\n",
      "Epoch 11/100\n",
      "5/5 [==============================] - 0s 22ms/step - loss: 21.4268 - val_loss: 20.0003\n",
      "Epoch 12/100\n",
      "5/5 [==============================] - 0s 25ms/step - loss: 17.8414 - val_loss: 17.2526\n",
      "Epoch 13/100\n",
      "5/5 [==============================] - 0s 25ms/step - loss: 17.1915 - val_loss: 17.0784\n",
      "Epoch 14/100\n",
      "5/5 [==============================] - 0s 25ms/step - loss: 16.3906 - val_loss: 16.4346\n",
      "Epoch 15/100\n",
      "5/5 [==============================] - 0s 34ms/step - loss: 15.8983 - val_loss: 16.1789\n",
      "Epoch 16/100\n",
      "5/5 [==============================] - 0s 24ms/step - loss: 15.4092 - val_loss: 15.0501\n",
      "Epoch 17/100\n",
      "5/5 [==============================] - 0s 24ms/step - loss: 15.1338 - val_loss: 14.4987\n",
      "Epoch 18/100\n",
      "5/5 [==============================] - 0s 25ms/step - loss: 14.6062 - val_loss: 14.2727\n",
      "Epoch 19/100\n",
      "5/5 [==============================] - 0s 25ms/step - loss: 14.4732 - val_loss: 15.4800\n",
      "Epoch 20/100\n",
      "5/5 [==============================] - 0s 23ms/step - loss: 14.6932 - val_loss: 14.4817\n",
      "Epoch 21/100\n",
      "5/5 [==============================] - 0s 23ms/step - loss: 14.3971 - val_loss: 14.3229\n",
      "Epoch 22/100\n",
      "5/5 [==============================] - 0s 23ms/step - loss: 14.5475 - val_loss: 14.7566\n",
      "Epoch 23/100\n",
      "5/5 [==============================] - 0s 24ms/step - loss: 14.6595 - val_loss: 14.4823\n",
      "Epoch 24/100\n",
      "5/5 [==============================] - 0s 24ms/step - loss: 14.4305 - val_loss: 14.1068\n",
      "Epoch 25/100\n",
      "5/5 [==============================] - 0s 31ms/step - loss: 14.5706 - val_loss: 15.1264\n",
      "Epoch 26/100\n",
      "5/5 [==============================] - 0s 24ms/step - loss: 15.0285 - val_loss: 15.2803\n",
      "Epoch 27/100\n",
      "5/5 [==============================] - 0s 25ms/step - loss: 14.8948 - val_loss: 15.3521\n",
      "Epoch 28/100\n",
      "5/5 [==============================] - 0s 25ms/step - loss: 15.0036 - val_loss: 14.2018\n",
      "Epoch 29/100\n",
      "5/5 [==============================] - 0s 25ms/step - loss: 14.7471 - val_loss: 14.3804\n",
      "Epoch 30/100\n",
      "5/5 [==============================] - 0s 24ms/step - loss: 13.6886 - val_loss: 15.6152\n",
      "Epoch 31/100\n",
      "5/5 [==============================] - 0s 24ms/step - loss: 13.9265 - val_loss: 14.5905\n",
      "Epoch 32/100\n",
      "5/5 [==============================] - 0s 23ms/step - loss: 13.8022 - val_loss: 14.1845\n",
      "Epoch 33/100\n",
      "5/5 [==============================] - 0s 26ms/step - loss: 13.7903 - val_loss: 14.0536\n",
      "Epoch 34/100\n",
      "5/5 [==============================] - 0s 31ms/step - loss: 14.3872 - val_loss: 13.9521\n",
      "Epoch 35/100\n",
      "5/5 [==============================] - 0s 29ms/step - loss: 13.5808 - val_loss: 14.5223\n",
      "Epoch 36/100\n",
      "5/5 [==============================] - 0s 24ms/step - loss: 13.9411 - val_loss: 14.8484\n",
      "Epoch 37/100\n",
      "5/5 [==============================] - 0s 24ms/step - loss: 14.4643 - val_loss: 15.2244\n",
      "Epoch 38/100\n",
      "5/5 [==============================] - 0s 24ms/step - loss: 15.0822 - val_loss: 17.2717\n",
      "Epoch 39/100\n",
      "5/5 [==============================] - 0s 24ms/step - loss: 15.1093 - val_loss: 15.1406\n",
      "Epoch 40/100\n",
      "5/5 [==============================] - 0s 24ms/step - loss: 14.0296 - val_loss: 14.5291\n",
      "Epoch 41/100\n",
      "5/5 [==============================] - 0s 24ms/step - loss: 14.1619 - val_loss: 15.0627\n",
      "Epoch 42/100\n",
      "5/5 [==============================] - 0s 25ms/step - loss: 13.8483 - val_loss: 14.2294\n",
      "Epoch 43/100\n",
      "5/5 [==============================] - 0s 24ms/step - loss: 14.1081 - val_loss: 14.5749\n",
      "Epoch 44/100\n",
      "5/5 [==============================] - 0s 29ms/step - loss: 14.2194 - val_loss: 13.9373\n",
      "Epoch 45/100\n",
      "5/5 [==============================] - 0s 25ms/step - loss: 13.8195 - val_loss: 14.2824\n",
      "Epoch 46/100\n",
      "5/5 [==============================] - 0s 23ms/step - loss: 13.4210 - val_loss: 14.6975\n",
      "Epoch 47/100\n",
      "5/5 [==============================] - 0s 25ms/step - loss: 13.6990 - val_loss: 15.9400\n",
      "Epoch 48/100\n",
      "5/5 [==============================] - 0s 25ms/step - loss: 14.4919 - val_loss: 14.7544\n",
      "Epoch 49/100\n",
      "5/5 [==============================] - 0s 24ms/step - loss: 13.7048 - val_loss: 13.9142\n",
      "Epoch 50/100\n",
      "5/5 [==============================] - 0s 24ms/step - loss: 13.4041 - val_loss: 16.1921\n",
      "Epoch 51/100\n",
      "5/5 [==============================] - 0s 23ms/step - loss: 13.3725 - val_loss: 15.4880\n",
      "Epoch 52/100\n",
      "5/5 [==============================] - 0s 23ms/step - loss: 13.8209 - val_loss: 15.0342\n",
      "Epoch 53/100\n",
      "5/5 [==============================] - 0s 28ms/step - loss: 14.2824 - val_loss: 14.9399\n",
      "Epoch 54/100\n",
      "5/5 [==============================] - 0s 24ms/step - loss: 13.5435 - val_loss: 16.7844\n",
      "Epoch 55/100\n",
      "5/5 [==============================] - 0s 24ms/step - loss: 14.3228 - val_loss: 14.9385\n",
      "Epoch 56/100\n",
      "5/5 [==============================] - 0s 24ms/step - loss: 13.4604 - val_loss: 13.7878\n",
      "Epoch 57/100\n",
      "5/5 [==============================] - 0s 24ms/step - loss: 14.0119 - val_loss: 13.7859\n",
      "Epoch 58/100\n",
      "5/5 [==============================] - 0s 24ms/step - loss: 14.0932 - val_loss: 17.0813\n",
      "Epoch 59/100\n",
      "5/5 [==============================] - 0s 28ms/step - loss: 16.5792 - val_loss: 18.4824\n",
      "Epoch 60/100\n",
      "5/5 [==============================] - 0s 25ms/step - loss: 16.0713 - val_loss: 16.2799\n",
      "Epoch 61/100\n",
      "5/5 [==============================] - 0s 23ms/step - loss: 14.8478 - val_loss: 14.2422\n",
      "Epoch 62/100\n",
      "5/5 [==============================] - 0s 24ms/step - loss: 13.5922 - val_loss: 14.9199\n",
      "Epoch 63/100\n",
      "5/5 [==============================] - 0s 34ms/step - loss: 14.2325 - val_loss: 15.2069\n",
      "Epoch 64/100\n",
      "5/5 [==============================] - 0s 28ms/step - loss: 14.3311 - val_loss: 14.8433\n",
      "Epoch 65/100\n",
      "5/5 [==============================] - 0s 24ms/step - loss: 14.8233 - val_loss: 14.6933\n",
      "Epoch 66/100\n",
      "5/5 [==============================] - 0s 24ms/step - loss: 15.9478 - val_loss: 14.2542\n",
      "Epoch 67/100\n",
      "5/5 [==============================] - 0s 33ms/step - loss: 15.1679 - val_loss: 14.6740\n",
      "Epoch 68/100\n",
      "5/5 [==============================] - 0s 25ms/step - loss: 14.3660 - val_loss: 14.5987\n",
      "Epoch 69/100\n",
      "5/5 [==============================] - 0s 24ms/step - loss: 13.8632 - val_loss: 14.7777\n",
      "Epoch 70/100\n",
      "5/5 [==============================] - 0s 25ms/step - loss: 13.5445 - val_loss: 14.6282\n",
      "Epoch 71/100\n",
      "5/5 [==============================] - 0s 26ms/step - loss: 13.3522 - val_loss: 14.1257\n",
      "Epoch 72/100\n",
      "5/5 [==============================] - 0s 33ms/step - loss: 13.1477 - val_loss: 14.5759\n",
      "Epoch 73/100\n",
      "5/5 [==============================] - 0s 23ms/step - loss: 13.0675 - val_loss: 15.1142\n",
      "Epoch 74/100\n",
      "5/5 [==============================] - 0s 25ms/step - loss: 13.3903 - val_loss: 17.2720\n",
      "Epoch 75/100\n",
      "5/5 [==============================] - 0s 25ms/step - loss: 14.8945 - val_loss: 15.7773\n",
      "Epoch 76/100\n",
      "5/5 [==============================] - 0s 28ms/step - loss: 13.8401 - val_loss: 14.1670\n",
      "Epoch 77/100\n",
      "5/5 [==============================] - 0s 26ms/step - loss: 13.9432 - val_loss: 16.7806\n",
      "Epoch 78/100\n",
      "5/5 [==============================] - 0s 28ms/step - loss: 16.6096 - val_loss: 15.3451\n",
      "Epoch 79/100\n",
      "5/5 [==============================] - 0s 24ms/step - loss: 17.3199 - val_loss: 14.5783\n",
      "Epoch 80/100\n",
      "5/5 [==============================] - 0s 25ms/step - loss: 15.7915 - val_loss: 17.7208\n",
      "Epoch 81/100\n",
      "5/5 [==============================] - 0s 31ms/step - loss: 14.9830 - val_loss: 18.5028\n",
      "Epoch 82/100\n",
      "5/5 [==============================] - 0s 22ms/step - loss: 15.5439 - val_loss: 16.7907\n",
      "Epoch 83/100\n",
      "5/5 [==============================] - 0s 27ms/step - loss: 14.8068 - val_loss: 14.0489\n",
      "Epoch 84/100\n",
      "5/5 [==============================] - 0s 24ms/step - loss: 13.5989 - val_loss: 15.1964\n",
      "Epoch 85/100\n",
      "5/5 [==============================] - 0s 24ms/step - loss: 13.4032 - val_loss: 14.0172\n",
      "Epoch 86/100\n",
      "5/5 [==============================] - 0s 24ms/step - loss: 13.4067 - val_loss: 15.6697\n",
      "Epoch 87/100\n",
      "5/5 [==============================] - 0s 24ms/step - loss: 13.7484 - val_loss: 14.3849\n",
      "Epoch 88/100\n",
      "5/5 [==============================] - 0s 24ms/step - loss: 12.8745 - val_loss: 14.2432\n",
      "Epoch 89/100\n",
      "5/5 [==============================] - 0s 25ms/step - loss: 12.9983 - val_loss: 15.9061\n",
      "Epoch 90/100\n",
      "5/5 [==============================] - 0s 24ms/step - loss: 14.6373 - val_loss: 14.7852\n",
      "Epoch 91/100\n",
      "5/5 [==============================] - 0s 30ms/step - loss: 13.2893 - val_loss: 14.9662\n",
      "Epoch 92/100\n",
      "5/5 [==============================] - 0s 26ms/step - loss: 13.2791 - val_loss: 14.5995\n",
      "Epoch 93/100\n",
      "5/5 [==============================] - 0s 23ms/step - loss: 13.3609 - val_loss: 13.8027\n",
      "Epoch 94/100\n",
      "5/5 [==============================] - 0s 24ms/step - loss: 12.9785 - val_loss: 14.3967\n",
      "Epoch 95/100\n",
      "5/5 [==============================] - 0s 24ms/step - loss: 14.1993 - val_loss: 13.6884\n",
      "Epoch 96/100\n",
      "5/5 [==============================] - 0s 25ms/step - loss: 12.7915 - val_loss: 13.6824\n",
      "Epoch 97/100\n",
      "5/5 [==============================] - 0s 24ms/step - loss: 12.5580 - val_loss: 15.3136\n",
      "Epoch 98/100\n",
      "5/5 [==============================] - 0s 25ms/step - loss: 13.9206 - val_loss: 15.3150\n",
      "Epoch 99/100\n",
      "5/5 [==============================] - 0s 25ms/step - loss: 14.0492 - val_loss: 15.1631\n",
      "Epoch 100/100\n",
      "5/5 [==============================] - 0s 30ms/step - loss: 13.9891 - val_loss: 14.0149\n",
      "9/9 [==============================] - 0s 3ms/step\n",
      "Red Accuracy: 86.77515163671704\n",
      "Epoch 1/100\n",
      "5/5 [==============================] - 0s 33ms/step - loss: 14426.3730 - val_loss: 2658.1064\n",
      "Epoch 2/100\n",
      "5/5 [==============================] - 0s 25ms/step - loss: 1823.0894 - val_loss: 521.7173\n",
      "Epoch 3/100\n",
      "5/5 [==============================] - 0s 26ms/step - loss: 450.1704 - val_loss: 120.7116\n",
      "Epoch 4/100\n",
      "5/5 [==============================] - 0s 26ms/step - loss: 192.9502 - val_loss: 151.8592\n",
      "Epoch 5/100\n",
      "5/5 [==============================] - 0s 24ms/step - loss: 109.7202 - val_loss: 44.5464\n",
      "Epoch 6/100\n",
      "5/5 [==============================] - 0s 25ms/step - loss: 69.0226 - val_loss: 65.9657\n",
      "Epoch 7/100\n",
      "5/5 [==============================] - 0s 24ms/step - loss: 50.8012 - val_loss: 26.7168\n",
      "Epoch 8/100\n",
      "5/5 [==============================] - 0s 34ms/step - loss: 25.4026 - val_loss: 19.6711\n",
      "Epoch 9/100\n",
      "5/5 [==============================] - 0s 26ms/step - loss: 19.7842 - val_loss: 16.7890\n",
      "Epoch 10/100\n",
      "5/5 [==============================] - 0s 25ms/step - loss: 17.8293 - val_loss: 16.2616\n",
      "Epoch 11/100\n",
      "5/5 [==============================] - 0s 25ms/step - loss: 16.9803 - val_loss: 20.4235\n",
      "Epoch 12/100\n",
      "5/5 [==============================] - 0s 24ms/step - loss: 17.1705 - val_loss: 18.0564\n",
      "Epoch 13/100\n",
      "5/5 [==============================] - 0s 24ms/step - loss: 16.1646 - val_loss: 16.6855\n",
      "Epoch 14/100\n",
      "5/5 [==============================] - 0s 25ms/step - loss: 16.5440 - val_loss: 15.6920\n",
      "Epoch 15/100\n",
      "5/5 [==============================] - 0s 24ms/step - loss: 16.1292 - val_loss: 18.8078\n",
      "Epoch 16/100\n",
      "5/5 [==============================] - 0s 26ms/step - loss: 16.2446 - val_loss: 24.0635\n",
      "Epoch 17/100\n",
      "5/5 [==============================] - 0s 40ms/step - loss: 21.4248 - val_loss: 21.1547\n",
      "Epoch 18/100\n",
      "5/5 [==============================] - 0s 23ms/step - loss: 19.1590 - val_loss: 17.8932\n",
      "Epoch 19/100\n",
      "5/5 [==============================] - 0s 23ms/step - loss: 19.7829 - val_loss: 29.1168\n",
      "Epoch 20/100\n",
      "5/5 [==============================] - 0s 27ms/step - loss: 22.7720 - val_loss: 15.5980\n",
      "Epoch 21/100\n",
      "5/5 [==============================] - 0s 24ms/step - loss: 20.2597 - val_loss: 22.9818\n",
      "Epoch 22/100\n",
      "5/5 [==============================] - 0s 24ms/step - loss: 19.7972 - val_loss: 17.9227\n",
      "Epoch 23/100\n",
      "5/5 [==============================] - 0s 26ms/step - loss: 18.8753 - val_loss: 16.2658\n",
      "Epoch 24/100\n",
      "5/5 [==============================] - 0s 23ms/step - loss: 18.9087 - val_loss: 26.1156\n",
      "Epoch 25/100\n",
      "5/5 [==============================] - 0s 24ms/step - loss: 19.6944 - val_loss: 15.6985\n",
      "Epoch 26/100\n",
      "5/5 [==============================] - 0s 32ms/step - loss: 18.4616 - val_loss: 16.4153\n",
      "Epoch 27/100\n",
      "5/5 [==============================] - 0s 27ms/step - loss: 16.5771 - val_loss: 15.6461\n",
      "Epoch 28/100\n",
      "5/5 [==============================] - 0s 26ms/step - loss: 15.9433 - val_loss: 15.5930\n",
      "Epoch 29/100\n",
      "5/5 [==============================] - 0s 23ms/step - loss: 15.7811 - val_loss: 16.7521\n",
      "Epoch 30/100\n",
      "5/5 [==============================] - 0s 24ms/step - loss: 16.1575 - val_loss: 17.7961\n",
      "Epoch 31/100\n",
      "5/5 [==============================] - 0s 24ms/step - loss: 16.2619 - val_loss: 16.5041\n",
      "Epoch 32/100\n",
      "5/5 [==============================] - 0s 23ms/step - loss: 15.4261 - val_loss: 22.6925\n",
      "Epoch 33/100\n",
      "5/5 [==============================] - 0s 25ms/step - loss: 18.2217 - val_loss: 16.3678\n",
      "Epoch 34/100\n",
      "5/5 [==============================] - 0s 25ms/step - loss: 17.6468 - val_loss: 15.3409\n",
      "Epoch 35/100\n",
      "5/5 [==============================] - 0s 26ms/step - loss: 16.1482 - val_loss: 15.3761\n",
      "Epoch 36/100\n",
      "5/5 [==============================] - 0s 35ms/step - loss: 15.7670 - val_loss: 17.4687\n",
      "Epoch 37/100\n",
      "5/5 [==============================] - 0s 27ms/step - loss: 17.0149 - val_loss: 15.7105\n",
      "Epoch 38/100\n",
      "5/5 [==============================] - 0s 25ms/step - loss: 16.0039 - val_loss: 21.3227\n",
      "Epoch 39/100\n",
      "5/5 [==============================] - 0s 26ms/step - loss: 17.0517 - val_loss: 17.5437\n",
      "Epoch 40/100\n",
      "5/5 [==============================] - 0s 26ms/step - loss: 16.0744 - val_loss: 15.2857\n",
      "Epoch 41/100\n",
      "5/5 [==============================] - 0s 24ms/step - loss: 16.5129 - val_loss: 15.3705\n",
      "Epoch 42/100\n",
      "5/5 [==============================] - 0s 25ms/step - loss: 16.2826 - val_loss: 15.5345\n",
      "Epoch 43/100\n",
      "5/5 [==============================] - 0s 25ms/step - loss: 16.1842 - val_loss: 18.9489\n",
      "Epoch 44/100\n",
      "5/5 [==============================] - 0s 30ms/step - loss: 16.2628 - val_loss: 20.0415\n",
      "Epoch 45/100\n",
      "5/5 [==============================] - 0s 36ms/step - loss: 17.5319 - val_loss: 14.8975\n",
      "Epoch 46/100\n",
      "5/5 [==============================] - 0s 28ms/step - loss: 15.7290 - val_loss: 14.9648\n",
      "Epoch 47/100\n",
      "5/5 [==============================] - 0s 24ms/step - loss: 15.3633 - val_loss: 15.9371\n",
      "Epoch 48/100\n",
      "5/5 [==============================] - 0s 24ms/step - loss: 15.6415 - val_loss: 14.9942\n",
      "Epoch 49/100\n",
      "5/5 [==============================] - 0s 25ms/step - loss: 15.4688 - val_loss: 15.2284\n",
      "Epoch 50/100\n",
      "5/5 [==============================] - 0s 24ms/step - loss: 15.8425 - val_loss: 15.0124\n",
      "Epoch 51/100\n",
      "5/5 [==============================] - 0s 24ms/step - loss: 15.4973 - val_loss: 18.6540\n",
      "Epoch 52/100\n",
      "5/5 [==============================] - 0s 25ms/step - loss: 16.7304 - val_loss: 15.4237\n",
      "Epoch 53/100\n",
      "5/5 [==============================] - 0s 24ms/step - loss: 15.5221 - val_loss: 16.7989\n",
      "Epoch 54/100\n",
      "5/5 [==============================] - 0s 25ms/step - loss: 15.5376 - val_loss: 15.0294\n",
      "Epoch 55/100\n",
      "5/5 [==============================] - 0s 34ms/step - loss: 15.2344 - val_loss: 16.0742\n",
      "Epoch 56/100\n",
      "5/5 [==============================] - 0s 27ms/step - loss: 16.5280 - val_loss: 15.7102\n",
      "Epoch 57/100\n",
      "5/5 [==============================] - 0s 23ms/step - loss: 17.1672 - val_loss: 15.1871\n",
      "Epoch 58/100\n",
      "5/5 [==============================] - 0s 24ms/step - loss: 16.3075 - val_loss: 16.5652\n",
      "Epoch 59/100\n",
      "5/5 [==============================] - 0s 23ms/step - loss: 15.9076 - val_loss: 16.4623\n",
      "Epoch 60/100\n",
      "5/5 [==============================] - 0s 24ms/step - loss: 15.4149 - val_loss: 15.3368\n",
      "Epoch 61/100\n",
      "5/5 [==============================] - 0s 25ms/step - loss: 14.8707 - val_loss: 15.0345\n",
      "Epoch 62/100\n",
      "5/5 [==============================] - 0s 24ms/step - loss: 14.9605 - val_loss: 15.0865\n",
      "Epoch 63/100\n",
      "5/5 [==============================] - 0s 25ms/step - loss: 15.2562 - val_loss: 14.7946\n",
      "Epoch 64/100\n",
      "5/5 [==============================] - 0s 35ms/step - loss: 15.0583 - val_loss: 16.7189\n",
      "Epoch 65/100\n",
      "5/5 [==============================] - 0s 25ms/step - loss: 15.9324 - val_loss: 14.9933\n",
      "Epoch 66/100\n",
      "5/5 [==============================] - 0s 24ms/step - loss: 15.9468 - val_loss: 16.1231\n",
      "Epoch 67/100\n",
      "5/5 [==============================] - 0s 24ms/step - loss: 16.4956 - val_loss: 14.7877\n",
      "Epoch 68/100\n",
      "5/5 [==============================] - 0s 26ms/step - loss: 15.3228 - val_loss: 19.7962\n",
      "Epoch 69/100\n",
      "5/5 [==============================] - 0s 24ms/step - loss: 17.9363 - val_loss: 15.7288\n",
      "Epoch 70/100\n",
      "5/5 [==============================] - 0s 24ms/step - loss: 15.8485 - val_loss: 17.1093\n",
      "Epoch 71/100\n",
      "5/5 [==============================] - 0s 25ms/step - loss: 18.3459 - val_loss: 17.9167\n",
      "Epoch 72/100\n",
      "5/5 [==============================] - 0s 26ms/step - loss: 16.9287 - val_loss: 15.6621\n",
      "Epoch 73/100\n",
      "5/5 [==============================] - 0s 33ms/step - loss: 16.2103 - val_loss: 15.4496\n",
      "Epoch 74/100\n",
      "5/5 [==============================] - 0s 25ms/step - loss: 16.0868 - val_loss: 25.9038\n",
      "Epoch 75/100\n",
      "5/5 [==============================] - 0s 25ms/step - loss: 20.4922 - val_loss: 37.0340\n",
      "Epoch 76/100\n",
      "5/5 [==============================] - 0s 26ms/step - loss: 29.5930 - val_loss: 25.1259\n",
      "Epoch 77/100\n",
      "5/5 [==============================] - 0s 24ms/step - loss: 22.9287 - val_loss: 15.3295\n",
      "Epoch 78/100\n",
      "5/5 [==============================] - 0s 25ms/step - loss: 18.9355 - val_loss: 18.8546\n",
      "Epoch 79/100\n",
      "5/5 [==============================] - 0s 25ms/step - loss: 18.1398 - val_loss: 18.1894\n",
      "Epoch 80/100\n",
      "5/5 [==============================] - 0s 27ms/step - loss: 16.0046 - val_loss: 22.1517\n",
      "Epoch 81/100\n",
      "5/5 [==============================] - 0s 24ms/step - loss: 17.7140 - val_loss: 17.2573\n",
      "Epoch 82/100\n",
      "5/5 [==============================] - 0s 32ms/step - loss: 15.8414 - val_loss: 17.5504\n",
      "Epoch 83/100\n",
      "5/5 [==============================] - 0s 23ms/step - loss: 15.6309 - val_loss: 16.0349\n",
      "Epoch 84/100\n",
      "5/5 [==============================] - 0s 25ms/step - loss: 15.5660 - val_loss: 16.0699\n",
      "Epoch 85/100\n",
      "5/5 [==============================] - 0s 24ms/step - loss: 16.3529 - val_loss: 15.0846\n",
      "Epoch 86/100\n",
      "5/5 [==============================] - 0s 24ms/step - loss: 16.3170 - val_loss: 15.5765\n",
      "Epoch 87/100\n",
      "5/5 [==============================] - 0s 25ms/step - loss: 15.9464 - val_loss: 15.5313\n",
      "Epoch 88/100\n",
      "5/5 [==============================] - 0s 27ms/step - loss: 15.8770 - val_loss: 15.2439\n",
      "Epoch 89/100\n",
      "5/5 [==============================] - 0s 25ms/step - loss: 15.3717 - val_loss: 15.4910\n",
      "Epoch 90/100\n",
      "5/5 [==============================] - 0s 29ms/step - loss: 16.0196 - val_loss: 14.9131\n",
      "Epoch 91/100\n",
      "5/5 [==============================] - 0s 27ms/step - loss: 16.1733 - val_loss: 14.9257\n",
      "Epoch 92/100\n",
      "5/5 [==============================] - 0s 25ms/step - loss: 15.1536 - val_loss: 15.2713\n",
      "Epoch 93/100\n",
      "5/5 [==============================] - 0s 24ms/step - loss: 15.6859 - val_loss: 14.8695\n",
      "Epoch 94/100\n",
      "5/5 [==============================] - 0s 25ms/step - loss: 15.2457 - val_loss: 14.9505\n",
      "Epoch 95/100\n",
      "5/5 [==============================] - 0s 24ms/step - loss: 15.0126 - val_loss: 16.1016\n",
      "Epoch 96/100\n",
      "5/5 [==============================] - 0s 24ms/step - loss: 15.5347 - val_loss: 16.6909\n",
      "Epoch 97/100\n",
      "5/5 [==============================] - 0s 23ms/step - loss: 15.6600 - val_loss: 17.8633\n",
      "Epoch 98/100\n",
      "5/5 [==============================] - 0s 25ms/step - loss: 15.7827 - val_loss: 18.5689\n",
      "Epoch 99/100\n",
      "5/5 [==============================] - 0s 24ms/step - loss: 16.6498 - val_loss: 21.1523\n",
      "Epoch 100/100\n",
      "5/5 [==============================] - 0s 35ms/step - loss: 16.6112 - val_loss: 15.4639\n",
      "9/9 [==============================] - 0s 3ms/step\n",
      "Green Accuracy: 84.03427296586901\n",
      "Epoch 1/100\n",
      "5/5 [==============================] - 0s 32ms/step - loss: 1298.7788 - val_loss: 293.1394\n",
      "Epoch 2/100\n",
      "5/5 [==============================] - 0s 23ms/step - loss: 265.4934 - val_loss: 342.4526\n",
      "Epoch 3/100\n",
      "5/5 [==============================] - 0s 26ms/step - loss: 275.1680 - val_loss: 113.7836\n",
      "Epoch 4/100\n",
      "5/5 [==============================] - 0s 24ms/step - loss: 108.2827 - val_loss: 59.8810\n",
      "Epoch 5/100\n",
      "5/5 [==============================] - 0s 29ms/step - loss: 60.1164 - val_loss: 72.9691\n",
      "Epoch 6/100\n",
      "5/5 [==============================] - 0s 27ms/step - loss: 50.7888 - val_loss: 46.8805\n",
      "Epoch 7/100\n",
      "5/5 [==============================] - 0s 34ms/step - loss: 38.0606 - val_loss: 30.3239\n",
      "Epoch 8/100\n",
      "5/5 [==============================] - 0s 27ms/step - loss: 22.5583 - val_loss: 17.7922\n",
      "Epoch 9/100\n",
      "5/5 [==============================] - 0s 25ms/step - loss: 17.3697 - val_loss: 18.8907\n",
      "Epoch 10/100\n",
      "5/5 [==============================] - 0s 26ms/step - loss: 16.7053 - val_loss: 16.9713\n",
      "Epoch 11/100\n",
      "5/5 [==============================] - 0s 26ms/step - loss: 15.9002 - val_loss: 16.5773\n",
      "Epoch 12/100\n",
      "5/5 [==============================] - 0s 25ms/step - loss: 15.7950 - val_loss: 16.1963\n",
      "Epoch 13/100\n",
      "5/5 [==============================] - 0s 24ms/step - loss: 16.0843 - val_loss: 19.7709\n",
      "Epoch 14/100\n",
      "5/5 [==============================] - 0s 25ms/step - loss: 16.5526 - val_loss: 20.0571\n",
      "Epoch 15/100\n",
      "5/5 [==============================] - 0s 24ms/step - loss: 17.2232 - val_loss: 19.0275\n",
      "Epoch 16/100\n",
      "5/5 [==============================] - 0s 24ms/step - loss: 18.0708 - val_loss: 17.6399\n",
      "Epoch 17/100\n",
      "5/5 [==============================] - 0s 30ms/step - loss: 16.8869 - val_loss: 16.9022\n",
      "Epoch 18/100\n",
      "5/5 [==============================] - 0s 29ms/step - loss: 16.3323 - val_loss: 18.5082\n",
      "Epoch 19/100\n",
      "5/5 [==============================] - 0s 27ms/step - loss: 15.7894 - val_loss: 16.5564\n",
      "Epoch 20/100\n",
      "5/5 [==============================] - 0s 24ms/step - loss: 15.4097 - val_loss: 16.1746\n",
      "Epoch 21/100\n",
      "5/5 [==============================] - 0s 28ms/step - loss: 15.4202 - val_loss: 16.4087\n",
      "Epoch 22/100\n",
      "5/5 [==============================] - 0s 25ms/step - loss: 15.3617 - val_loss: 18.2979\n",
      "Epoch 23/100\n",
      "5/5 [==============================] - 0s 25ms/step - loss: 15.5604 - val_loss: 15.9337\n",
      "Epoch 24/100\n",
      "5/5 [==============================] - 0s 26ms/step - loss: 15.5023 - val_loss: 15.7481\n",
      "Epoch 25/100\n",
      "5/5 [==============================] - 0s 24ms/step - loss: 14.9204 - val_loss: 15.9032\n",
      "Epoch 26/100\n",
      "5/5 [==============================] - 0s 30ms/step - loss: 15.0523 - val_loss: 15.6565\n",
      "Epoch 27/100\n",
      "5/5 [==============================] - 0s 24ms/step - loss: 15.4028 - val_loss: 15.9589\n",
      "Epoch 28/100\n",
      "5/5 [==============================] - 0s 27ms/step - loss: 15.6033 - val_loss: 15.6765\n",
      "Epoch 29/100\n",
      "5/5 [==============================] - 0s 25ms/step - loss: 15.2959 - val_loss: 17.7843\n",
      "Epoch 30/100\n",
      "5/5 [==============================] - 0s 26ms/step - loss: 15.4456 - val_loss: 15.7142\n",
      "Epoch 31/100\n",
      "5/5 [==============================] - 0s 24ms/step - loss: 16.0886 - val_loss: 17.2200\n",
      "Epoch 32/100\n",
      "5/5 [==============================] - 0s 24ms/step - loss: 15.7958 - val_loss: 16.4085\n",
      "Epoch 33/100\n",
      "5/5 [==============================] - 0s 25ms/step - loss: 15.1057 - val_loss: 16.3857\n",
      "Epoch 34/100\n",
      "5/5 [==============================] - 0s 26ms/step - loss: 14.9167 - val_loss: 15.5432\n",
      "Epoch 35/100\n",
      "5/5 [==============================] - 0s 25ms/step - loss: 14.7888 - val_loss: 15.7610\n",
      "Epoch 36/100\n",
      "5/5 [==============================] - 0s 38ms/step - loss: 14.8236 - val_loss: 15.7538\n",
      "Epoch 37/100\n",
      "5/5 [==============================] - 0s 27ms/step - loss: 14.8782 - val_loss: 15.5687\n",
      "Epoch 38/100\n",
      "5/5 [==============================] - 0s 25ms/step - loss: 14.7243 - val_loss: 15.8104\n",
      "Epoch 39/100\n",
      "5/5 [==============================] - 0s 26ms/step - loss: 14.6491 - val_loss: 15.8799\n",
      "Epoch 40/100\n",
      "5/5 [==============================] - 0s 24ms/step - loss: 14.7686 - val_loss: 15.3095\n",
      "Epoch 41/100\n",
      "5/5 [==============================] - 0s 28ms/step - loss: 14.7145 - val_loss: 15.2739\n",
      "Epoch 42/100\n",
      "5/5 [==============================] - 0s 25ms/step - loss: 14.8581 - val_loss: 15.4713\n",
      "Epoch 43/100\n",
      "5/5 [==============================] - 0s 27ms/step - loss: 14.9280 - val_loss: 15.6299\n",
      "Epoch 44/100\n",
      "5/5 [==============================] - 0s 25ms/step - loss: 14.6824 - val_loss: 15.6422\n",
      "Epoch 45/100\n",
      "5/5 [==============================] - 0s 39ms/step - loss: 14.5004 - val_loss: 15.5436\n",
      "Epoch 46/100\n",
      "5/5 [==============================] - 0s 26ms/step - loss: 14.6044 - val_loss: 16.8338\n",
      "Epoch 47/100\n",
      "5/5 [==============================] - 0s 25ms/step - loss: 15.4579 - val_loss: 17.9718\n",
      "Epoch 48/100\n",
      "5/5 [==============================] - 0s 28ms/step - loss: 15.5154 - val_loss: 15.7422\n",
      "Epoch 49/100\n",
      "5/5 [==============================] - 0s 24ms/step - loss: 14.9301 - val_loss: 17.4392\n",
      "Epoch 50/100\n",
      "5/5 [==============================] - 0s 24ms/step - loss: 15.7055 - val_loss: 16.6678\n",
      "Epoch 51/100\n",
      "5/5 [==============================] - 0s 24ms/step - loss: 16.2246 - val_loss: 16.5588\n",
      "Epoch 52/100\n",
      "5/5 [==============================] - 0s 25ms/step - loss: 15.4454 - val_loss: 16.1837\n",
      "Epoch 53/100\n",
      "5/5 [==============================] - 0s 25ms/step - loss: 14.9034 - val_loss: 16.0026\n",
      "Epoch 54/100\n",
      "5/5 [==============================] - 0s 29ms/step - loss: 14.8097 - val_loss: 15.5247\n",
      "Epoch 55/100\n",
      "5/5 [==============================] - 0s 26ms/step - loss: 14.7892 - val_loss: 16.6492\n",
      "Epoch 56/100\n",
      "5/5 [==============================] - 0s 25ms/step - loss: 14.8662 - val_loss: 15.5711\n",
      "Epoch 57/100\n",
      "5/5 [==============================] - 0s 26ms/step - loss: 14.4832 - val_loss: 15.2488\n",
      "Epoch 58/100\n",
      "5/5 [==============================] - 0s 28ms/step - loss: 14.5159 - val_loss: 15.6506\n",
      "Epoch 59/100\n",
      "5/5 [==============================] - 0s 24ms/step - loss: 14.4788 - val_loss: 15.3969\n",
      "Epoch 60/100\n",
      "5/5 [==============================] - 0s 24ms/step - loss: 14.4764 - val_loss: 17.3249\n",
      "Epoch 61/100\n",
      "5/5 [==============================] - 0s 24ms/step - loss: 15.1218 - val_loss: 15.4297\n",
      "Epoch 62/100\n",
      "5/5 [==============================] - 0s 26ms/step - loss: 14.5500 - val_loss: 15.7189\n",
      "Epoch 63/100\n",
      "5/5 [==============================] - 0s 30ms/step - loss: 14.9057 - val_loss: 15.5422\n",
      "Epoch 64/100\n",
      "5/5 [==============================] - 0s 25ms/step - loss: 15.1919 - val_loss: 17.5086\n",
      "Epoch 65/100\n",
      "5/5 [==============================] - 0s 25ms/step - loss: 15.6061 - val_loss: 16.5490\n",
      "Epoch 66/100\n",
      "5/5 [==============================] - 0s 24ms/step - loss: 15.1863 - val_loss: 15.9180\n",
      "Epoch 67/100\n",
      "5/5 [==============================] - 0s 25ms/step - loss: 14.7174 - val_loss: 15.4141\n",
      "Epoch 68/100\n",
      "5/5 [==============================] - 0s 25ms/step - loss: 15.0641 - val_loss: 15.6351\n",
      "Epoch 69/100\n",
      "5/5 [==============================] - 0s 25ms/step - loss: 14.4429 - val_loss: 15.6963\n",
      "Epoch 70/100\n",
      "5/5 [==============================] - 0s 24ms/step - loss: 14.5765 - val_loss: 15.4428\n",
      "Epoch 71/100\n",
      "5/5 [==============================] - 0s 25ms/step - loss: 14.1894 - val_loss: 14.9360\n",
      "Epoch 72/100\n",
      "5/5 [==============================] - 0s 36ms/step - loss: 14.2456 - val_loss: 15.4851\n",
      "Epoch 73/100\n",
      "5/5 [==============================] - 0s 25ms/step - loss: 14.4762 - val_loss: 16.0415\n",
      "Epoch 74/100\n",
      "5/5 [==============================] - 0s 26ms/step - loss: 14.3772 - val_loss: 15.4178\n",
      "Epoch 75/100\n",
      "5/5 [==============================] - 0s 26ms/step - loss: 14.3409 - val_loss: 15.3047\n",
      "Epoch 76/100\n",
      "5/5 [==============================] - 0s 26ms/step - loss: 14.2871 - val_loss: 15.7960\n",
      "Epoch 77/100\n",
      "5/5 [==============================] - 0s 23ms/step - loss: 14.6828 - val_loss: 15.5705\n",
      "Epoch 78/100\n",
      "5/5 [==============================] - 0s 26ms/step - loss: 14.5636 - val_loss: 15.2455\n",
      "Epoch 79/100\n",
      "5/5 [==============================] - 0s 25ms/step - loss: 14.2462 - val_loss: 15.7167\n",
      "Epoch 80/100\n",
      "5/5 [==============================] - 0s 25ms/step - loss: 14.7643 - val_loss: 15.2043\n",
      "Epoch 81/100\n",
      "5/5 [==============================] - 0s 24ms/step - loss: 14.2212 - val_loss: 15.7261\n",
      "Epoch 82/100\n",
      "5/5 [==============================] - 0s 35ms/step - loss: 14.4528 - val_loss: 15.6259\n",
      "Epoch 83/100\n",
      "5/5 [==============================] - 0s 25ms/step - loss: 14.3234 - val_loss: 15.9684\n",
      "Epoch 84/100\n",
      "5/5 [==============================] - 0s 24ms/step - loss: 14.1102 - val_loss: 15.2277\n",
      "Epoch 85/100\n",
      "5/5 [==============================] - 0s 25ms/step - loss: 14.7548 - val_loss: 15.3623\n",
      "Epoch 86/100\n",
      "5/5 [==============================] - 0s 25ms/step - loss: 14.7782 - val_loss: 15.4517\n",
      "Epoch 87/100\n",
      "5/5 [==============================] - 0s 23ms/step - loss: 14.3382 - val_loss: 15.0728\n",
      "Epoch 88/100\n",
      "5/5 [==============================] - 0s 25ms/step - loss: 14.1660 - val_loss: 15.2802\n",
      "Epoch 89/100\n",
      "5/5 [==============================] - 0s 24ms/step - loss: 13.9812 - val_loss: 15.4852\n",
      "Epoch 90/100\n",
      "5/5 [==============================] - 0s 25ms/step - loss: 14.4056 - val_loss: 16.4504\n",
      "Epoch 91/100\n",
      "5/5 [==============================] - 0s 25ms/step - loss: 14.3955 - val_loss: 15.0283\n",
      "Epoch 92/100\n",
      "5/5 [==============================] - 0s 40ms/step - loss: 14.4887 - val_loss: 16.0245\n",
      "Epoch 93/100\n",
      "5/5 [==============================] - 0s 25ms/step - loss: 14.3991 - val_loss: 14.9739\n",
      "Epoch 94/100\n",
      "5/5 [==============================] - 0s 25ms/step - loss: 14.1233 - val_loss: 15.0283\n",
      "Epoch 95/100\n",
      "5/5 [==============================] - 0s 24ms/step - loss: 14.0782 - val_loss: 15.4672\n",
      "Epoch 96/100\n",
      "5/5 [==============================] - 0s 25ms/step - loss: 14.2413 - val_loss: 14.7410\n",
      "Epoch 97/100\n",
      "5/5 [==============================] - 0s 23ms/step - loss: 14.2268 - val_loss: 15.8249\n",
      "Epoch 98/100\n",
      "5/5 [==============================] - 0s 25ms/step - loss: 14.6088 - val_loss: 15.6882\n",
      "Epoch 99/100\n",
      "5/5 [==============================] - 0s 27ms/step - loss: 14.4313 - val_loss: 15.6186\n",
      "Epoch 100/100\n",
      "5/5 [==============================] - 0s 24ms/step - loss: 14.2285 - val_loss: 16.0174\n",
      "9/9 [==============================] - 0s 3ms/step\n",
      "Blue Accuracy: 83.39109252473634\n"
     ]
    }
   ],
   "source": [
    "model.fit(rx_train, ry_train, epochs=100, batch_size=200,validation_data=(rx_test, ry_test),callbacks=[EarlyStopping(monitor='val_loss', patience=50, restore_best_weights=True)])\n",
    "print('Red Accuracy: ' + str(100 - (mean_absolute_percentage_error(model.predict(rx_test), ry_test)*100)) )\n",
    "model.fit(gx_train, gy_train, epochs=100, batch_size=200,validation_data=(gx_test, gy_test),callbacks=[EarlyStopping(monitor='val_loss', patience=50, restore_best_weights=True)])\n",
    "print('Green Accuracy: ' + str(100 - (mean_absolute_percentage_error(model.predict(gx_test), gy_test)*100)) )\n",
    "model.fit(bx_train, by_train, epochs=100, batch_size=200,validation_data=(bx_test, by_test),callbacks=[EarlyStopping(monitor='val_loss', patience=50, restore_best_weights=True)])\n",
    "print('Blue Accuracy: ' + str(100 - (mean_absolute_percentage_error(model.predict(bx_test), by_test)*100)) )"
   ]
  },
  {
   "cell_type": "markdown",
   "metadata": {},
   "source": [
    "<p>Red: 86.8% Accuracy</p>\n",
    "<p>Green: 84% Accuracy</p>\n",
    "<p>Blue: 83.5% Accuracy</p>"
   ]
  },
  {
   "cell_type": "code",
   "execution_count": 163,
   "metadata": {},
   "outputs": [],
   "source": [
    "model = Sequential()\n",
    "model.add(Dense(1024, input_dim=768, activation='relu'))\n",
    "model.add(Dense(2048, activation='relu'))\n",
    "model.add(Dense(1, activation='linear'))\n",
    "model.compile(loss='mae', optimizer='adam')"
   ]
  },
  {
   "cell_type": "code",
   "execution_count": 164,
   "metadata": {},
   "outputs": [
    {
     "name": "stdout",
     "output_type": "stream",
     "text": [
      "Epoch 1/100\n",
      "3/3 [==============================] - 0s 76ms/step - loss: 27589.4355 - val_loss: 14946.2803\n",
      "Epoch 2/100\n",
      "3/3 [==============================] - 0s 39ms/step - loss: 9550.1426 - val_loss: 5836.6733\n",
      "Epoch 3/100\n",
      "3/3 [==============================] - 0s 38ms/step - loss: 3658.9580 - val_loss: 4603.3770\n",
      "Epoch 4/100\n",
      "3/3 [==============================] - 0s 39ms/step - loss: 4261.0874 - val_loss: 685.7701\n",
      "Epoch 5/100\n",
      "3/3 [==============================] - 0s 37ms/step - loss: 1137.0381 - val_loss: 2086.6672\n",
      "Epoch 6/100\n",
      "3/3 [==============================] - 0s 41ms/step - loss: 1715.6617 - val_loss: 393.8583\n",
      "Epoch 7/100\n",
      "3/3 [==============================] - 0s 36ms/step - loss: 585.3657 - val_loss: 517.8185\n",
      "Epoch 8/100\n",
      "3/3 [==============================] - 0s 37ms/step - loss: 324.3411 - val_loss: 552.2773\n",
      "Epoch 9/100\n",
      "3/3 [==============================] - 0s 35ms/step - loss: 526.5402 - val_loss: 103.5129\n",
      "Epoch 10/100\n",
      "3/3 [==============================] - 0s 39ms/step - loss: 165.1282 - val_loss: 326.4599\n",
      "Epoch 11/100\n",
      "3/3 [==============================] - 0s 40ms/step - loss: 271.5796 - val_loss: 97.7286\n",
      "Epoch 12/100\n",
      "3/3 [==============================] - 0s 38ms/step - loss: 135.1451 - val_loss: 131.9855\n",
      "Epoch 13/100\n",
      "3/3 [==============================] - 0s 37ms/step - loss: 85.9946 - val_loss: 105.7459\n",
      "Epoch 14/100\n",
      "3/3 [==============================] - 0s 39ms/step - loss: 108.1548 - val_loss: 27.2949\n",
      "Epoch 15/100\n",
      "3/3 [==============================] - 0s 38ms/step - loss: 43.4864 - val_loss: 72.7463\n",
      "Epoch 16/100\n",
      "3/3 [==============================] - 0s 34ms/step - loss: 55.8916 - val_loss: 45.3854\n",
      "Epoch 17/100\n",
      "3/3 [==============================] - 0s 38ms/step - loss: 51.7183 - val_loss: 26.5764\n",
      "Epoch 18/100\n",
      "3/3 [==============================] - 0s 36ms/step - loss: 26.0703 - val_loss: 42.1715\n",
      "Epoch 19/100\n",
      "3/3 [==============================] - 0s 38ms/step - loss: 34.9237 - val_loss: 22.0370\n",
      "Epoch 20/100\n",
      "3/3 [==============================] - 0s 38ms/step - loss: 25.5800 - val_loss: 22.2018\n",
      "Epoch 21/100\n",
      "3/3 [==============================] - 0s 34ms/step - loss: 20.0039 - val_loss: 25.5169\n",
      "Epoch 22/100\n",
      "3/3 [==============================] - 0s 56ms/step - loss: 21.8654 - val_loss: 18.6635\n",
      "Epoch 23/100\n",
      "3/3 [==============================] - 0s 38ms/step - loss: 18.3443 - val_loss: 17.3942\n",
      "Epoch 24/100\n",
      "3/3 [==============================] - 0s 36ms/step - loss: 16.0816 - val_loss: 17.4785\n",
      "Epoch 25/100\n",
      "3/3 [==============================] - 0s 34ms/step - loss: 16.0961 - val_loss: 17.7089\n",
      "Epoch 26/100\n",
      "3/3 [==============================] - 0s 39ms/step - loss: 16.0900 - val_loss: 18.5155\n",
      "Epoch 27/100\n",
      "3/3 [==============================] - 0s 40ms/step - loss: 17.0524 - val_loss: 15.9662\n",
      "Epoch 28/100\n",
      "3/3 [==============================] - 0s 37ms/step - loss: 15.6782 - val_loss: 16.3918\n",
      "Epoch 29/100\n",
      "3/3 [==============================] - 0s 37ms/step - loss: 14.9785 - val_loss: 18.3047\n",
      "Epoch 30/100\n",
      "3/3 [==============================] - 0s 37ms/step - loss: 15.8588 - val_loss: 15.9420\n",
      "Epoch 31/100\n",
      "3/3 [==============================] - 0s 38ms/step - loss: 15.6116 - val_loss: 15.0701\n",
      "Epoch 32/100\n",
      "3/3 [==============================] - 0s 40ms/step - loss: 14.3014 - val_loss: 15.0224\n",
      "Epoch 33/100\n",
      "3/3 [==============================] - 0s 40ms/step - loss: 14.0191 - val_loss: 14.7340\n",
      "Epoch 34/100\n",
      "3/3 [==============================] - 0s 37ms/step - loss: 14.3756 - val_loss: 14.9236\n",
      "Epoch 35/100\n",
      "3/3 [==============================] - 0s 53ms/step - loss: 14.3940 - val_loss: 15.0346\n",
      "Epoch 36/100\n",
      "3/3 [==============================] - 0s 35ms/step - loss: 14.2129 - val_loss: 15.5440\n",
      "Epoch 37/100\n",
      "3/3 [==============================] - 0s 36ms/step - loss: 13.7698 - val_loss: 14.9366\n",
      "Epoch 38/100\n",
      "3/3 [==============================] - 0s 38ms/step - loss: 14.0955 - val_loss: 16.5066\n",
      "Epoch 39/100\n",
      "3/3 [==============================] - 0s 36ms/step - loss: 14.2273 - val_loss: 15.1629\n",
      "Epoch 40/100\n",
      "3/3 [==============================] - 0s 35ms/step - loss: 14.0824 - val_loss: 16.2957\n",
      "Epoch 41/100\n",
      "3/3 [==============================] - 0s 36ms/step - loss: 14.3777 - val_loss: 14.8545\n",
      "Epoch 42/100\n",
      "3/3 [==============================] - 0s 39ms/step - loss: 13.9070 - val_loss: 15.2194\n",
      "Epoch 43/100\n",
      "3/3 [==============================] - 0s 34ms/step - loss: 14.1969 - val_loss: 15.5251\n",
      "Epoch 44/100\n",
      "3/3 [==============================] - 0s 39ms/step - loss: 13.5317 - val_loss: 14.4887\n",
      "Epoch 45/100\n",
      "3/3 [==============================] - 0s 37ms/step - loss: 13.4842 - val_loss: 15.3461\n",
      "Epoch 46/100\n",
      "3/3 [==============================] - 0s 36ms/step - loss: 13.7173 - val_loss: 15.8414\n",
      "Epoch 47/100\n",
      "3/3 [==============================] - 0s 35ms/step - loss: 14.4261 - val_loss: 16.5185\n",
      "Epoch 48/100\n",
      "3/3 [==============================] - 0s 36ms/step - loss: 14.2333 - val_loss: 14.9738\n",
      "Epoch 49/100\n",
      "3/3 [==============================] - 0s 40ms/step - loss: 13.2717 - val_loss: 14.6560\n",
      "Epoch 50/100\n",
      "3/3 [==============================] - 0s 39ms/step - loss: 13.3638 - val_loss: 14.1973\n",
      "Epoch 51/100\n",
      "3/3 [==============================] - 0s 37ms/step - loss: 12.9817 - val_loss: 15.2233\n",
      "Epoch 52/100\n",
      "3/3 [==============================] - 0s 35ms/step - loss: 13.5612 - val_loss: 14.5904\n",
      "Epoch 53/100\n",
      "3/3 [==============================] - 0s 36ms/step - loss: 13.5861 - val_loss: 15.7568\n",
      "Epoch 54/100\n",
      "3/3 [==============================] - 0s 39ms/step - loss: 13.6768 - val_loss: 15.8092\n",
      "Epoch 55/100\n",
      "3/3 [==============================] - 0s 36ms/step - loss: 13.6929 - val_loss: 16.6844\n",
      "Epoch 56/100\n",
      "3/3 [==============================] - 0s 38ms/step - loss: 14.5997 - val_loss: 16.5257\n",
      "Epoch 57/100\n",
      "3/3 [==============================] - 0s 35ms/step - loss: 14.1539 - val_loss: 15.8845\n",
      "Epoch 58/100\n",
      "3/3 [==============================] - 0s 37ms/step - loss: 13.2414 - val_loss: 15.6197\n",
      "Epoch 59/100\n",
      "3/3 [==============================] - 0s 36ms/step - loss: 13.5187 - val_loss: 14.9055\n",
      "Epoch 60/100\n",
      "3/3 [==============================] - 0s 36ms/step - loss: 13.1277 - val_loss: 14.4689\n",
      "Epoch 61/100\n",
      "3/3 [==============================] - 0s 35ms/step - loss: 12.7250 - val_loss: 15.3732\n",
      "Epoch 62/100\n",
      "3/3 [==============================] - 0s 40ms/step - loss: 13.2984 - val_loss: 15.9808\n",
      "Epoch 63/100\n",
      "3/3 [==============================] - 0s 37ms/step - loss: 13.6407 - val_loss: 17.4271\n",
      "Epoch 64/100\n",
      "3/3 [==============================] - 0s 37ms/step - loss: 14.5083 - val_loss: 15.1396\n",
      "Epoch 65/100\n",
      "3/3 [==============================] - 0s 35ms/step - loss: 13.3173 - val_loss: 14.7571\n",
      "Epoch 66/100\n",
      "3/3 [==============================] - 0s 34ms/step - loss: 13.3991 - val_loss: 14.2953\n",
      "Epoch 67/100\n",
      "3/3 [==============================] - 0s 34ms/step - loss: 13.2945 - val_loss: 15.3905\n",
      "Epoch 68/100\n",
      "3/3 [==============================] - 0s 36ms/step - loss: 13.1668 - val_loss: 15.9373\n",
      "Epoch 69/100\n",
      "3/3 [==============================] - 0s 37ms/step - loss: 12.9075 - val_loss: 17.0190\n",
      "Epoch 70/100\n",
      "3/3 [==============================] - 0s 34ms/step - loss: 14.2323 - val_loss: 14.7560\n",
      "Epoch 71/100\n",
      "3/3 [==============================] - 0s 34ms/step - loss: 13.8504 - val_loss: 15.4469\n",
      "Epoch 72/100\n",
      "3/3 [==============================] - 0s 35ms/step - loss: 14.7424 - val_loss: 15.8209\n",
      "Epoch 73/100\n",
      "3/3 [==============================] - 0s 35ms/step - loss: 14.4554 - val_loss: 15.0963\n",
      "Epoch 74/100\n",
      "3/3 [==============================] - 0s 38ms/step - loss: 13.1511 - val_loss: 14.9440\n",
      "Epoch 75/100\n",
      "3/3 [==============================] - 0s 57ms/step - loss: 12.8241 - val_loss: 15.0807\n",
      "Epoch 76/100\n",
      "3/3 [==============================] - 0s 37ms/step - loss: 12.9356 - val_loss: 14.6275\n",
      "Epoch 77/100\n",
      "3/3 [==============================] - 0s 36ms/step - loss: 12.8952 - val_loss: 14.8992\n",
      "Epoch 78/100\n",
      "3/3 [==============================] - 0s 34ms/step - loss: 13.0634 - val_loss: 14.3278\n",
      "Epoch 79/100\n",
      "3/3 [==============================] - 0s 37ms/step - loss: 13.2437 - val_loss: 14.9142\n",
      "Epoch 80/100\n",
      "3/3 [==============================] - 0s 36ms/step - loss: 13.2302 - val_loss: 15.1575\n",
      "Epoch 81/100\n",
      "3/3 [==============================] - 0s 40ms/step - loss: 12.9763 - val_loss: 14.3181\n",
      "Epoch 82/100\n",
      "3/3 [==============================] - 0s 37ms/step - loss: 12.2151 - val_loss: 14.5847\n",
      "Epoch 83/100\n",
      "3/3 [==============================] - 0s 38ms/step - loss: 12.9085 - val_loss: 15.1505\n",
      "Epoch 84/100\n",
      "3/3 [==============================] - 0s 36ms/step - loss: 12.3652 - val_loss: 15.7450\n",
      "Epoch 85/100\n",
      "3/3 [==============================] - 0s 36ms/step - loss: 12.9470 - val_loss: 14.6952\n",
      "Epoch 86/100\n",
      "3/3 [==============================] - 0s 32ms/step - loss: 12.6554 - val_loss: 15.0309\n",
      "Epoch 87/100\n",
      "3/3 [==============================] - 0s 34ms/step - loss: 12.5397 - val_loss: 15.2001\n",
      "Epoch 88/100\n",
      "3/3 [==============================] - 0s 34ms/step - loss: 13.3332 - val_loss: 15.8565\n",
      "Epoch 89/100\n",
      "3/3 [==============================] - 0s 41ms/step - loss: 13.6474 - val_loss: 14.3819\n",
      "Epoch 90/100\n",
      "3/3 [==============================] - 0s 37ms/step - loss: 12.1211 - val_loss: 15.7793\n",
      "Epoch 91/100\n",
      "3/3 [==============================] - 0s 36ms/step - loss: 13.0378 - val_loss: 15.1342\n",
      "Epoch 92/100\n",
      "3/3 [==============================] - 0s 35ms/step - loss: 12.4165 - val_loss: 15.6269\n",
      "Epoch 93/100\n",
      "3/3 [==============================] - 0s 34ms/step - loss: 12.7773 - val_loss: 15.2282\n",
      "Epoch 94/100\n",
      "3/3 [==============================] - 0s 37ms/step - loss: 13.1702 - val_loss: 14.5552\n",
      "Epoch 95/100\n",
      "3/3 [==============================] - 0s 35ms/step - loss: 12.8519 - val_loss: 14.3589\n",
      "Epoch 96/100\n",
      "3/3 [==============================] - 0s 35ms/step - loss: 13.2490 - val_loss: 15.1373\n",
      "Epoch 97/100\n",
      "3/3 [==============================] - 0s 37ms/step - loss: 13.8383 - val_loss: 14.3710\n",
      "Epoch 98/100\n",
      "3/3 [==============================] - 0s 37ms/step - loss: 13.0674 - val_loss: 15.1054\n",
      "Epoch 99/100\n",
      "3/3 [==============================] - 0s 35ms/step - loss: 12.9788 - val_loss: 15.8841\n",
      "Epoch 100/100\n",
      "3/3 [==============================] - 0s 40ms/step - loss: 13.2060 - val_loss: 14.0192\n",
      "9/9 [==============================] - 0s 3ms/step\n",
      "All Accuracy: 86.273753247435\n"
     ]
    }
   ],
   "source": [
    "model.fit(ax_train, ay_train, epochs=100, batch_size=400,validation_data=(ax_test, ay_test),callbacks=[EarlyStopping(monitor='val_loss', patience=50, restore_best_weights=True)])\n",
    "print('All Accuracy: ' + str(100 - (mean_absolute_percentage_error(model.predict(ax_test), ay_test)*100)) )"
   ]
  },
  {
   "cell_type": "markdown",
   "metadata": {},
   "source": [
    "<p>RGB Accuracy: 86.3%</p>"
   ]
  },
  {
   "cell_type": "markdown",
   "metadata": {},
   "source": [
    "<p>\n",
    "    <strong>Since they had the highest accuracies throughout the model tests, I will be picking the red and RGB datasets to create new models with hyperparameters tuned for the two datasets.</strong>\n",
    "</p>"
   ]
  },
  {
   "cell_type": "markdown",
   "metadata": {},
   "source": [
    "<h1>5 - Model Tuning for Red Dataset</h1>"
   ]
  },
  {
   "cell_type": "code",
   "execution_count": 165,
   "metadata": {},
   "outputs": [
    {
     "name": "stdout",
     "output_type": "stream",
     "text": [
      "Red Accuracy: 87.35210415417792\n"
     ]
    }
   ],
   "source": [
    "from sklearn.ensemble import RandomForestRegressor\n",
    "model = RandomForestRegressor(n_estimators = 390, random_state = 7)\n",
    "trainTest(model,'red')"
   ]
  },
  {
   "cell_type": "code",
   "execution_count": 166,
   "metadata": {},
   "outputs": [
    {
     "name": "stdout",
     "output_type": "stream",
     "text": [
      "Red Accuracy: 84.9332554386511\n"
     ]
    }
   ],
   "source": [
    "model = ElasticNet(alpha=330, l1_ratio=0.45,fit_intercept=False)\n",
    "trainTest(model,'red')"
   ]
  },
  {
   "cell_type": "code",
   "execution_count": 167,
   "metadata": {},
   "outputs": [
    {
     "name": "stdout",
     "output_type": "stream",
     "text": [
      "Red Accuracy: 90.1482720590572\n"
     ]
    }
   ],
   "source": [
    "model = KNeighborsRegressor(n_neighbors=1,p=1,weights='distance')\n",
    "trainTest(model,'red')"
   ]
  },
  {
   "cell_type": "code",
   "execution_count": 168,
   "metadata": {},
   "outputs": [
    {
     "name": "stdout",
     "output_type": "stream",
     "text": [
      "Red Accuracy: 85.50724033286265\n"
     ]
    }
   ],
   "source": [
    "model = SVR(kernel = 'rbf', C = 5000)\n",
    "trainTest(model,'red')"
   ]
  },
  {
   "cell_type": "code",
   "execution_count": 169,
   "metadata": {},
   "outputs": [
    {
     "name": "stdout",
     "output_type": "stream",
     "text": [
      "Red Accuracy: 84.85944582496748\n"
     ]
    }
   ],
   "source": [
    "model = Lasso(alpha=44)\n",
    "trainTest(model,'red')"
   ]
  },
  {
   "cell_type": "code",
   "execution_count": 170,
   "metadata": {},
   "outputs": [
    {
     "name": "stdout",
     "output_type": "stream",
     "text": [
      "Red Accuracy: 85.9893587975879\n"
     ]
    }
   ],
   "source": [
    "model = RadiusNeighborsRegressor(radius=5400,weights='distance',p=2)\n",
    "trainTest(model,'red')"
   ]
  },
  {
   "cell_type": "code",
   "execution_count": 171,
   "metadata": {},
   "outputs": [
    {
     "name": "stdout",
     "output_type": "stream",
     "text": [
      "Red Accuracy: 85.04574389899685\n"
     ]
    }
   ],
   "source": [
    "model = BayesianRidge(n_iter=5,fit_intercept=False)\n",
    "trainTest(model,'red')"
   ]
  },
  {
   "cell_type": "code",
   "execution_count": 172,
   "metadata": {},
   "outputs": [
    {
     "name": "stdout",
     "output_type": "stream",
     "text": [
      "Red Accuracy: 84.9451237675029\n"
     ]
    }
   ],
   "source": [
    "model = TweedieRegressor(power=1,alpha=30,max_iter=100)\n",
    "trainTest(model,'red')"
   ]
  },
  {
   "cell_type": "code",
   "execution_count": 173,
   "metadata": {},
   "outputs": [
    {
     "name": "stdout",
     "output_type": "stream",
     "text": [
      "Red Accuracy: 87.58378841711493\n"
     ]
    }
   ],
   "source": [
    "model = XGBRegressor(booster='gbtree',eta=0.09,gamma=0.92)\n",
    "trainTest(model,'red')"
   ]
  },
  {
   "cell_type": "code",
   "execution_count": 174,
   "metadata": {},
   "outputs": [
    {
     "name": "stdout",
     "output_type": "stream",
     "text": [
      "Red Accuracy: 87.27261283245349\n"
     ]
    }
   ],
   "source": [
    "model = HistGradientBoostingRegressor( learning_rate=0.1 , max_iter=600 )\n",
    "trainTest(model,'red')"
   ]
  },
  {
   "cell_type": "code",
   "execution_count": 175,
   "metadata": {},
   "outputs": [
    {
     "name": "stdout",
     "output_type": "stream",
     "text": [
      "Epoch 1/50\n",
      "3/3 [==============================] - 0s 85ms/step - loss: 15798.6045 - val_loss: 9127.0703\n",
      "Epoch 2/50\n",
      "3/3 [==============================] - 0s 38ms/step - loss: 5118.5488 - val_loss: 2976.4287\n",
      "Epoch 3/50\n",
      "3/3 [==============================] - 0s 38ms/step - loss: 1750.8209 - val_loss: 2027.2706\n",
      "Epoch 4/50\n",
      "3/3 [==============================] - 0s 36ms/step - loss: 1317.8749 - val_loss: 1372.1179\n",
      "Epoch 5/50\n",
      "3/3 [==============================] - 0s 36ms/step - loss: 897.0056 - val_loss: 1047.8654\n",
      "Epoch 6/50\n",
      "3/3 [==============================] - 0s 36ms/step - loss: 1206.3069 - val_loss: 569.1947\n",
      "Epoch 7/50\n",
      "3/3 [==============================] - 0s 33ms/step - loss: 522.7269 - val_loss: 604.9756\n",
      "Epoch 8/50\n",
      "3/3 [==============================] - 0s 31ms/step - loss: 396.8291 - val_loss: 491.3560\n",
      "Epoch 9/50\n",
      "3/3 [==============================] - 0s 31ms/step - loss: 351.3839 - val_loss: 349.8816\n",
      "Epoch 10/50\n",
      "3/3 [==============================] - 0s 31ms/step - loss: 450.1580 - val_loss: 204.8453\n",
      "Epoch 11/50\n",
      "3/3 [==============================] - 0s 32ms/step - loss: 240.0587 - val_loss: 312.7047\n",
      "Epoch 12/50\n",
      "3/3 [==============================] - 0s 30ms/step - loss: 203.8708 - val_loss: 253.8340\n",
      "Epoch 13/50\n",
      "3/3 [==============================] - 0s 32ms/step - loss: 180.6535 - val_loss: 225.1149\n",
      "Epoch 14/50\n",
      "3/3 [==============================] - 0s 39ms/step - loss: 276.4942 - val_loss: 145.6560\n",
      "Epoch 15/50\n",
      "3/3 [==============================] - 0s 38ms/step - loss: 139.2882 - val_loss: 157.2529\n",
      "Epoch 16/50\n",
      "3/3 [==============================] - 0s 49ms/step - loss: 116.6856 - val_loss: 222.8784\n",
      "Epoch 17/50\n",
      "3/3 [==============================] - 0s 35ms/step - loss: 166.9708 - val_loss: 118.9320\n",
      "Epoch 18/50\n",
      "3/3 [==============================] - 0s 35ms/step - loss: 165.2067 - val_loss: 79.0097\n",
      "Epoch 19/50\n",
      "3/3 [==============================] - 0s 31ms/step - loss: 97.5853 - val_loss: 123.9330\n",
      "Epoch 20/50\n",
      "3/3 [==============================] - 0s 34ms/step - loss: 88.6814 - val_loss: 153.6307\n",
      "Epoch 21/50\n",
      "3/3 [==============================] - 0s 34ms/step - loss: 123.5064 - val_loss: 68.1812\n",
      "Epoch 22/50\n",
      "3/3 [==============================] - 0s 36ms/step - loss: 95.6183 - val_loss: 38.7255\n",
      "Epoch 23/50\n",
      "3/3 [==============================] - 0s 32ms/step - loss: 75.0785 - val_loss: 103.4068\n",
      "Epoch 24/50\n",
      "3/3 [==============================] - 0s 33ms/step - loss: 71.4339 - val_loss: 97.2125\n",
      "Epoch 25/50\n",
      "3/3 [==============================] - 0s 34ms/step - loss: 71.0383 - val_loss: 61.0544\n",
      "Epoch 26/50\n",
      "3/3 [==============================] - 0s 33ms/step - loss: 84.5863 - val_loss: 41.1520\n",
      "Epoch 27/50\n",
      "3/3 [==============================] - 0s 35ms/step - loss: 48.3215 - val_loss: 57.1101\n",
      "Epoch 28/50\n",
      "3/3 [==============================] - 0s 53ms/step - loss: 37.9494 - val_loss: 47.7730\n",
      "Epoch 29/50\n",
      "3/3 [==============================] - 0s 34ms/step - loss: 34.5698 - val_loss: 38.2369\n",
      "Epoch 30/50\n",
      "3/3 [==============================] - 0s 35ms/step - loss: 28.0437 - val_loss: 30.5138\n",
      "Epoch 31/50\n",
      "3/3 [==============================] - 0s 34ms/step - loss: 24.4092 - val_loss: 26.3483\n",
      "Epoch 32/50\n",
      "3/3 [==============================] - 0s 34ms/step - loss: 21.8254 - val_loss: 20.4272\n",
      "Epoch 33/50\n",
      "3/3 [==============================] - 0s 35ms/step - loss: 19.7452 - val_loss: 18.3927\n",
      "Epoch 34/50\n",
      "3/3 [==============================] - 0s 35ms/step - loss: 17.6995 - val_loss: 14.9873\n",
      "Epoch 35/50\n",
      "3/3 [==============================] - 0s 33ms/step - loss: 16.5487 - val_loss: 14.7397\n",
      "Epoch 36/50\n",
      "3/3 [==============================] - 0s 32ms/step - loss: 16.0748 - val_loss: 15.4140\n",
      "Epoch 37/50\n",
      "3/3 [==============================] - 0s 33ms/step - loss: 15.4499 - val_loss: 15.3930\n",
      "Epoch 38/50\n",
      "3/3 [==============================] - 0s 32ms/step - loss: 15.2508 - val_loss: 17.7341\n",
      "Epoch 39/50\n",
      "3/3 [==============================] - 0s 32ms/step - loss: 15.5162 - val_loss: 14.9770\n",
      "Epoch 40/50\n",
      "3/3 [==============================] - 0s 32ms/step - loss: 15.7266 - val_loss: 15.4716\n",
      "Epoch 41/50\n",
      "3/3 [==============================] - 0s 33ms/step - loss: 15.4125 - val_loss: 17.8943\n",
      "Epoch 42/50\n",
      "3/3 [==============================] - 0s 35ms/step - loss: 15.6165 - val_loss: 14.4935\n",
      "Epoch 43/50\n",
      "3/3 [==============================] - 0s 54ms/step - loss: 14.4066 - val_loss: 14.0157\n",
      "Epoch 44/50\n",
      "3/3 [==============================] - 0s 35ms/step - loss: 14.0771 - val_loss: 15.2423\n",
      "Epoch 45/50\n",
      "3/3 [==============================] - 0s 34ms/step - loss: 14.2949 - val_loss: 14.3286\n",
      "Epoch 46/50\n",
      "3/3 [==============================] - 0s 33ms/step - loss: 13.5548 - val_loss: 14.2470\n",
      "Epoch 47/50\n",
      "3/3 [==============================] - 0s 33ms/step - loss: 14.2928 - val_loss: 14.1622\n",
      "Epoch 48/50\n",
      "3/3 [==============================] - 0s 33ms/step - loss: 14.2190 - val_loss: 16.4317\n",
      "Epoch 49/50\n",
      "3/3 [==============================] - 0s 33ms/step - loss: 14.3249 - val_loss: 13.6513\n",
      "Epoch 50/50\n",
      "3/3 [==============================] - 0s 33ms/step - loss: 14.0547 - val_loss: 15.0925\n",
      "9/9 [==============================] - 0s 3ms/step\n",
      "All Accuracy: 85.93233860705914\n"
     ]
    }
   ],
   "source": [
    "from keras.callbacks import EarlyStopping\n",
    "from keras.optimizers import adam_v2\n",
    "from keras.models import Sequential\n",
    "from keras.layers import Dense\n",
    "from keras.layers import Dropout\n",
    "\n",
    "\n",
    "model = Sequential()\n",
    "model.add(Dense(1024, input_dim=256, activation='relu'))\n",
    "model.add(Dense(2048, activation='relu'))\n",
    "model.add(Dense(1, activation='linear'))\n",
    "model.compile(loss='mae', optimizer='adam')\n",
    "\n",
    "\n",
    "model.fit(rx_train, ry_train, epochs=50, batch_size=300,validation_data=(rx_test, ry_test),callbacks=[EarlyStopping(monitor='val_loss', patience=50, restore_best_weights=True)])\n",
    "print('All Accuracy: ' + str(100 - (mean_absolute_percentage_error(model.predict(rx_test), ry_test)*100)) )"
   ]
  },
  {
   "cell_type": "markdown",
   "metadata": {},
   "source": [
    "<h1>6 - Model Tuning for RGB Dataset</h1>"
   ]
  },
  {
   "cell_type": "code",
   "execution_count": 176,
   "metadata": {},
   "outputs": [
    {
     "name": "stdout",
     "output_type": "stream",
     "text": [
      "All Accuracy: 88.09739374824147\n"
     ]
    }
   ],
   "source": [
    "model = RandomForestRegressor(n_estimators = 93, random_state = 7)\n",
    "trainTest(model,'all')"
   ]
  },
  {
   "cell_type": "code",
   "execution_count": 177,
   "metadata": {},
   "outputs": [
    {
     "name": "stdout",
     "output_type": "stream",
     "text": [
      "All Accuracy: 83.29556780235805\n"
     ]
    }
   ],
   "source": [
    "model = DecisionTreeRegressor()\n",
    "trainTest(model,'all')"
   ]
  },
  {
   "cell_type": "code",
   "execution_count": 178,
   "metadata": {},
   "outputs": [
    {
     "name": "stdout",
     "output_type": "stream",
     "text": [
      "All Accuracy: 86.15206903518344\n"
     ]
    }
   ],
   "source": [
    "model = ElasticNet(alpha=305, l1_ratio=0.13,fit_intercept=True)\n",
    "trainTest(model,'all')"
   ]
  },
  {
   "cell_type": "code",
   "execution_count": 179,
   "metadata": {},
   "outputs": [
    {
     "name": "stdout",
     "output_type": "stream",
     "text": [
      "All Accuracy: 89.31884257612406\n"
     ]
    }
   ],
   "source": [
    "model = KNeighborsRegressor(n_neighbors=1,p=1,weights='distance')\n",
    "trainTest(model,'all')"
   ]
  },
  {
   "cell_type": "code",
   "execution_count": 180,
   "metadata": {},
   "outputs": [
    {
     "name": "stdout",
     "output_type": "stream",
     "text": [
      "All Accuracy: 86.81872695815929\n"
     ]
    }
   ],
   "source": [
    "model = SVR(kernel = 'rbf', C = 20350)\n",
    "trainTest(model,'all')"
   ]
  },
  {
   "cell_type": "code",
   "execution_count": 181,
   "metadata": {},
   "outputs": [
    {
     "name": "stdout",
     "output_type": "stream",
     "text": [
      "All Accuracy: 86.1536348628427\n"
     ]
    }
   ],
   "source": [
    "model = Lasso(alpha=43)\n",
    "trainTest(model,'all')"
   ]
  },
  {
   "cell_type": "code",
   "execution_count": 182,
   "metadata": {},
   "outputs": [
    {
     "name": "stdout",
     "output_type": "stream",
     "text": [
      "All Accuracy: 86.42703805982265\n"
     ]
    }
   ],
   "source": [
    "model = RadiusNeighborsRegressor(radius=4475,weights='distance',p=5)\n",
    "trainTest(model,'all')"
   ]
  },
  {
   "cell_type": "code",
   "execution_count": 183,
   "metadata": {},
   "outputs": [
    {
     "name": "stdout",
     "output_type": "stream",
     "text": [
      "All Accuracy: 86.24339879239992\n"
     ]
    }
   ],
   "source": [
    "model = BayesianRidge(n_iter=8,fit_intercept=True)\n",
    "trainTest(model,'all')"
   ]
  },
  {
   "cell_type": "code",
   "execution_count": 184,
   "metadata": {},
   "outputs": [
    {
     "name": "stdout",
     "output_type": "stream",
     "text": [
      "All Accuracy: 86.3676540801893\n"
     ]
    }
   ],
   "source": [
    "model = TweedieRegressor(power=0,alpha=53,max_iter=100)\n",
    "trainTest(model,'all')"
   ]
  },
  {
   "cell_type": "code",
   "execution_count": 185,
   "metadata": {},
   "outputs": [
    {
     "name": "stdout",
     "output_type": "stream",
     "text": [
      "All Accuracy: 88.23839832616821\n"
     ]
    }
   ],
   "source": [
    "model = XGBRegressor(booster='gbtree',eta=0.092,gamma=0.919)\n",
    "trainTest(model,'all')"
   ]
  },
  {
   "cell_type": "code",
   "execution_count": 186,
   "metadata": {},
   "outputs": [
    {
     "name": "stdout",
     "output_type": "stream",
     "text": [
      "All Accuracy: 87.95470148191622\n"
     ]
    }
   ],
   "source": [
    "model = HistGradientBoostingRegressor( learning_rate=0.1 , max_iter=600 )\n",
    "trainTest(model,'all')"
   ]
  },
  {
   "cell_type": "code",
   "execution_count": 187,
   "metadata": {},
   "outputs": [
    {
     "name": "stdout",
     "output_type": "stream",
     "text": [
      "Epoch 1/50\n",
      "3/3 [==============================] - 0s 85ms/step - loss: 29146.3125 - val_loss: 18572.7969\n",
      "Epoch 2/50\n",
      "3/3 [==============================] - 0s 37ms/step - loss: 10383.8896 - val_loss: 12755.9824\n",
      "Epoch 3/50\n",
      "3/3 [==============================] - 0s 40ms/step - loss: 10719.8926 - val_loss: 3899.8755\n",
      "Epoch 4/50\n",
      "3/3 [==============================] - 0s 38ms/step - loss: 2380.8989 - val_loss: 3835.1934\n",
      "Epoch 5/50\n",
      "3/3 [==============================] - 0s 37ms/step - loss: 3451.2832 - val_loss: 1641.2787\n",
      "Epoch 6/50\n",
      "3/3 [==============================] - 0s 38ms/step - loss: 955.8279 - val_loss: 1248.1509\n",
      "Epoch 7/50\n",
      "3/3 [==============================] - 0s 38ms/step - loss: 1113.0497 - val_loss: 393.7232\n",
      "Epoch 8/50\n",
      "3/3 [==============================] - 0s 39ms/step - loss: 274.0366 - val_loss: 323.7084\n",
      "Epoch 9/50\n",
      "3/3 [==============================] - 0s 37ms/step - loss: 211.0694 - val_loss: 124.6967\n",
      "Epoch 10/50\n",
      "3/3 [==============================] - 0s 40ms/step - loss: 162.1789 - val_loss: 98.4874\n",
      "Epoch 11/50\n",
      "3/3 [==============================] - 0s 35ms/step - loss: 64.8772 - val_loss: 102.6799\n",
      "Epoch 12/50\n",
      "3/3 [==============================] - 0s 37ms/step - loss: 88.2900 - val_loss: 36.3749\n",
      "Epoch 13/50\n",
      "3/3 [==============================] - 0s 50ms/step - loss: 37.2534 - val_loss: 44.6950\n",
      "Epoch 14/50\n",
      "3/3 [==============================] - 0s 40ms/step - loss: 35.9866 - val_loss: 30.5660\n",
      "Epoch 15/50\n",
      "3/3 [==============================] - 0s 38ms/step - loss: 25.3822 - val_loss: 26.0558\n",
      "Epoch 16/50\n",
      "3/3 [==============================] - 0s 37ms/step - loss: 26.1230 - val_loss: 21.3813\n",
      "Epoch 17/50\n",
      "3/3 [==============================] - 0s 37ms/step - loss: 21.6582 - val_loss: 18.8802\n",
      "Epoch 18/50\n",
      "3/3 [==============================] - 0s 37ms/step - loss: 21.2614 - val_loss: 19.1114\n",
      "Epoch 19/50\n",
      "3/3 [==============================] - 0s 36ms/step - loss: 18.4741 - val_loss: 20.5696\n",
      "Epoch 20/50\n",
      "3/3 [==============================] - 0s 37ms/step - loss: 18.1237 - val_loss: 18.3971\n",
      "Epoch 21/50\n",
      "3/3 [==============================] - 0s 38ms/step - loss: 17.6407 - val_loss: 18.2419\n",
      "Epoch 22/50\n",
      "3/3 [==============================] - 0s 38ms/step - loss: 16.7489 - val_loss: 16.8332\n",
      "Epoch 23/50\n",
      "3/3 [==============================] - 0s 37ms/step - loss: 16.2634 - val_loss: 16.7980\n",
      "Epoch 24/50\n",
      "3/3 [==============================] - 0s 37ms/step - loss: 15.9717 - val_loss: 15.7161\n",
      "Epoch 25/50\n",
      "3/3 [==============================] - 0s 37ms/step - loss: 15.4206 - val_loss: 15.6141\n",
      "Epoch 26/50\n",
      "3/3 [==============================] - 0s 52ms/step - loss: 15.0938 - val_loss: 15.7263\n",
      "Epoch 27/50\n",
      "3/3 [==============================] - 0s 44ms/step - loss: 14.9142 - val_loss: 15.1582\n",
      "Epoch 28/50\n",
      "3/3 [==============================] - 0s 37ms/step - loss: 14.7986 - val_loss: 15.2807\n",
      "Epoch 29/50\n",
      "3/3 [==============================] - 0s 40ms/step - loss: 14.5351 - val_loss: 14.9091\n",
      "Epoch 30/50\n",
      "3/3 [==============================] - 0s 38ms/step - loss: 14.4174 - val_loss: 14.6160\n",
      "Epoch 31/50\n",
      "3/3 [==============================] - 0s 36ms/step - loss: 14.4324 - val_loss: 16.3260\n",
      "Epoch 32/50\n",
      "3/3 [==============================] - 0s 35ms/step - loss: 14.8717 - val_loss: 14.8000\n",
      "Epoch 33/50\n",
      "3/3 [==============================] - 0s 35ms/step - loss: 14.3761 - val_loss: 16.1835\n",
      "Epoch 34/50\n",
      "3/3 [==============================] - 0s 37ms/step - loss: 14.3802 - val_loss: 14.7245\n",
      "Epoch 35/50\n",
      "3/3 [==============================] - 0s 40ms/step - loss: 13.9035 - val_loss: 14.5488\n",
      "Epoch 36/50\n",
      "3/3 [==============================] - 0s 37ms/step - loss: 13.8199 - val_loss: 15.0980\n",
      "Epoch 37/50\n",
      "3/3 [==============================] - 0s 55ms/step - loss: 13.6595 - val_loss: 14.1190\n",
      "Epoch 38/50\n",
      "3/3 [==============================] - 0s 37ms/step - loss: 13.4532 - val_loss: 14.7500\n",
      "Epoch 39/50\n",
      "3/3 [==============================] - 0s 36ms/step - loss: 13.5259 - val_loss: 14.3643\n",
      "Epoch 40/50\n",
      "3/3 [==============================] - 0s 36ms/step - loss: 13.5296 - val_loss: 14.4406\n",
      "Epoch 41/50\n",
      "3/3 [==============================] - 0s 36ms/step - loss: 13.5245 - val_loss: 14.3255\n",
      "Epoch 42/50\n",
      "3/3 [==============================] - 0s 37ms/step - loss: 13.5396 - val_loss: 14.1095\n",
      "Epoch 43/50\n",
      "3/3 [==============================] - 0s 38ms/step - loss: 13.3527 - val_loss: 13.9339\n",
      "Epoch 44/50\n",
      "3/3 [==============================] - 0s 37ms/step - loss: 13.0681 - val_loss: 13.7734\n",
      "Epoch 45/50\n",
      "3/3 [==============================] - 0s 35ms/step - loss: 13.4675 - val_loss: 14.4325\n",
      "Epoch 46/50\n",
      "3/3 [==============================] - 0s 35ms/step - loss: 13.9528 - val_loss: 15.3713\n",
      "Epoch 47/50\n",
      "3/3 [==============================] - 0s 36ms/step - loss: 13.7946 - val_loss: 14.8228\n",
      "Epoch 48/50\n",
      "3/3 [==============================] - 0s 36ms/step - loss: 13.6799 - val_loss: 14.3694\n",
      "Epoch 49/50\n",
      "3/3 [==============================] - 0s 35ms/step - loss: 13.6488 - val_loss: 16.0376\n",
      "Epoch 50/50\n",
      "3/3 [==============================] - 0s 35ms/step - loss: 14.3921 - val_loss: 14.4736\n",
      "9/9 [==============================] - 0s 4ms/step\n",
      "All Accuracy: 84.8604557613619\n"
     ]
    }
   ],
   "source": [
    "from keras.callbacks import EarlyStopping\n",
    "from keras.optimizers import adam_v2\n",
    "from keras.models import Sequential\n",
    "from keras.layers import Dense\n",
    "from keras.layers import Dropout\n",
    "\n",
    "\n",
    "model = Sequential()\n",
    "model.add(Dense(1024, input_dim=768, activation='relu'))\n",
    "model.add(Dense(2048, activation='relu'))\n",
    "model.add(Dense(1, activation='linear'))\n",
    "model.compile(loss='mae', optimizer='adam')\n",
    "\n",
    "\n",
    "model.fit(ax_train, ay_train, epochs=50, batch_size=300,validation_data=(ax_test, ay_test),callbacks=[EarlyStopping(monitor='val_loss', patience=50, restore_best_weights=True)])\n",
    "print('All Accuracy: ' + str(100 - (mean_absolute_percentage_error(model.predict(ax_test), ay_test)*100)) )"
   ]
  },
  {
   "cell_type": "markdown",
   "metadata": {},
   "source": [
    "<h1>7 - Ensemble Learning</h1>"
   ]
  },
  {
   "cell_type": "markdown",
   "metadata": {},
   "source": [
    "<p>\n",
    "    To increase the overall accuracy of this project, we considered creating an ensemble learning using the three highest accuracy models with two datasets (red and RGB) to see what combination would provide the highest overall accuracy. To achieve this, we picked the three highest performing models for each dataset and created an ensemble learner that takes the mean of their predictions.\n",
    "    <br>\n",
    "    <p>\n",
    "        <strong>Red Dataset Models:</strong> XG Boost, Random Forest, and KNeighbors.\n",
    "        <br>\n",
    "        <strong>RGB Dataset Models:</strong> XG Boost, Random Forest, and KNeighbors.\n",
    "    </p>\n",
    "</p>"
   ]
  },
  {
   "cell_type": "markdown",
   "metadata": {},
   "source": [
    "<h4>Training Red Dataset Ensemble Learner</h4>"
   ]
  },
  {
   "cell_type": "code",
   "execution_count": 199,
   "metadata": {},
   "outputs": [
    {
     "data": {
      "text/html": [
       "<style>#sk-container-id-5 {color: black;background-color: white;}#sk-container-id-5 pre{padding: 0;}#sk-container-id-5 div.sk-toggleable {background-color: white;}#sk-container-id-5 label.sk-toggleable__label {cursor: pointer;display: block;width: 100%;margin-bottom: 0;padding: 0.3em;box-sizing: border-box;text-align: center;}#sk-container-id-5 label.sk-toggleable__label-arrow:before {content: \"▸\";float: left;margin-right: 0.25em;color: #696969;}#sk-container-id-5 label.sk-toggleable__label-arrow:hover:before {color: black;}#sk-container-id-5 div.sk-estimator:hover label.sk-toggleable__label-arrow:before {color: black;}#sk-container-id-5 div.sk-toggleable__content {max-height: 0;max-width: 0;overflow: hidden;text-align: left;background-color: #f0f8ff;}#sk-container-id-5 div.sk-toggleable__content pre {margin: 0.2em;color: black;border-radius: 0.25em;background-color: #f0f8ff;}#sk-container-id-5 input.sk-toggleable__control:checked~div.sk-toggleable__content {max-height: 200px;max-width: 100%;overflow: auto;}#sk-container-id-5 input.sk-toggleable__control:checked~label.sk-toggleable__label-arrow:before {content: \"▾\";}#sk-container-id-5 div.sk-estimator input.sk-toggleable__control:checked~label.sk-toggleable__label {background-color: #d4ebff;}#sk-container-id-5 div.sk-label input.sk-toggleable__control:checked~label.sk-toggleable__label {background-color: #d4ebff;}#sk-container-id-5 input.sk-hidden--visually {border: 0;clip: rect(1px 1px 1px 1px);clip: rect(1px, 1px, 1px, 1px);height: 1px;margin: -1px;overflow: hidden;padding: 0;position: absolute;width: 1px;}#sk-container-id-5 div.sk-estimator {font-family: monospace;background-color: #f0f8ff;border: 1px dotted black;border-radius: 0.25em;box-sizing: border-box;margin-bottom: 0.5em;}#sk-container-id-5 div.sk-estimator:hover {background-color: #d4ebff;}#sk-container-id-5 div.sk-parallel-item::after {content: \"\";width: 100%;border-bottom: 1px solid gray;flex-grow: 1;}#sk-container-id-5 div.sk-label:hover label.sk-toggleable__label {background-color: #d4ebff;}#sk-container-id-5 div.sk-serial::before {content: \"\";position: absolute;border-left: 1px solid gray;box-sizing: border-box;top: 0;bottom: 0;left: 50%;z-index: 0;}#sk-container-id-5 div.sk-serial {display: flex;flex-direction: column;align-items: center;background-color: white;padding-right: 0.2em;padding-left: 0.2em;position: relative;}#sk-container-id-5 div.sk-item {position: relative;z-index: 1;}#sk-container-id-5 div.sk-parallel {display: flex;align-items: stretch;justify-content: center;background-color: white;position: relative;}#sk-container-id-5 div.sk-item::before, #sk-container-id-5 div.sk-parallel-item::before {content: \"\";position: absolute;border-left: 1px solid gray;box-sizing: border-box;top: 0;bottom: 0;left: 50%;z-index: -1;}#sk-container-id-5 div.sk-parallel-item {display: flex;flex-direction: column;z-index: 1;position: relative;background-color: white;}#sk-container-id-5 div.sk-parallel-item:first-child::after {align-self: flex-end;width: 50%;}#sk-container-id-5 div.sk-parallel-item:last-child::after {align-self: flex-start;width: 50%;}#sk-container-id-5 div.sk-parallel-item:only-child::after {width: 0;}#sk-container-id-5 div.sk-dashed-wrapped {border: 1px dashed gray;margin: 0 0.4em 0.5em 0.4em;box-sizing: border-box;padding-bottom: 0.4em;background-color: white;}#sk-container-id-5 div.sk-label label {font-family: monospace;font-weight: bold;display: inline-block;line-height: 1.2em;}#sk-container-id-5 div.sk-label-container {text-align: center;}#sk-container-id-5 div.sk-container {/* jupyter's `normalize.less` sets `[hidden] { display: none; }` but bootstrap.min.css set `[hidden] { display: none !important; }` so we also need the `!important` here to be able to override the default hidden behavior on the sphinx rendered scikit-learn.org. See: https://github.com/scikit-learn/scikit-learn/issues/21755 */display: inline-block !important;position: relative;}#sk-container-id-5 div.sk-text-repr-fallback {display: none;}</style><div id=\"sk-container-id-5\" class=\"sk-top-container\"><div class=\"sk-text-repr-fallback\"><pre>XGBRegressor(base_score=0.5, booster=&#x27;gbtree&#x27;, callbacks=None,\n",
       "             colsample_bylevel=1, colsample_bynode=1, colsample_bytree=1,\n",
       "             early_stopping_rounds=None, enable_categorical=False, eta=0.09,\n",
       "             eval_metric=None, gamma=0.92, gpu_id=-1, grow_policy=&#x27;depthwise&#x27;,\n",
       "             importance_type=None, interaction_constraints=&#x27;&#x27;,\n",
       "             learning_rate=0.0900000036, max_bin=256, max_cat_to_onehot=4,\n",
       "             max_delta_step=0, max_depth=6, max_leaves=0, min_child_weight=1,\n",
       "             missing=nan, monotone_constraints=&#x27;()&#x27;, n_estimators=100, n_jobs=0,\n",
       "             num_parallel_tree=1, predictor=&#x27;auto&#x27;, random_state=0, reg_alpha=0, ...)</pre><b>In a Jupyter environment, please rerun this cell to show the HTML representation or trust the notebook. <br />On GitHub, the HTML representation is unable to render, please try loading this page with nbviewer.org.</b></div><div class=\"sk-container\" hidden><div class=\"sk-item\"><div class=\"sk-estimator sk-toggleable\"><input class=\"sk-toggleable__control sk-hidden--visually\" id=\"sk-estimator-id-5\" type=\"checkbox\" checked><label for=\"sk-estimator-id-5\" class=\"sk-toggleable__label sk-toggleable__label-arrow\">XGBRegressor</label><div class=\"sk-toggleable__content\"><pre>XGBRegressor(base_score=0.5, booster=&#x27;gbtree&#x27;, callbacks=None,\n",
       "             colsample_bylevel=1, colsample_bynode=1, colsample_bytree=1,\n",
       "             early_stopping_rounds=None, enable_categorical=False, eta=0.09,\n",
       "             eval_metric=None, gamma=0.92, gpu_id=-1, grow_policy=&#x27;depthwise&#x27;,\n",
       "             importance_type=None, interaction_constraints=&#x27;&#x27;,\n",
       "             learning_rate=0.0900000036, max_bin=256, max_cat_to_onehot=4,\n",
       "             max_delta_step=0, max_depth=6, max_leaves=0, min_child_weight=1,\n",
       "             missing=nan, monotone_constraints=&#x27;()&#x27;, n_estimators=100, n_jobs=0,\n",
       "             num_parallel_tree=1, predictor=&#x27;auto&#x27;, random_state=0, reg_alpha=0, ...)</pre></div></div></div></div></div>"
      ],
      "text/plain": [
       "XGBRegressor(base_score=0.5, booster='gbtree', callbacks=None,\n",
       "             colsample_bylevel=1, colsample_bynode=1, colsample_bytree=1,\n",
       "             early_stopping_rounds=None, enable_categorical=False, eta=0.09,\n",
       "             eval_metric=None, gamma=0.92, gpu_id=-1, grow_policy='depthwise',\n",
       "             importance_type=None, interaction_constraints='',\n",
       "             learning_rate=0.0900000036, max_bin=256, max_cat_to_onehot=4,\n",
       "             max_delta_step=0, max_depth=6, max_leaves=0, min_child_weight=1,\n",
       "             missing=nan, monotone_constraints='()', n_estimators=100, n_jobs=0,\n",
       "             num_parallel_tree=1, predictor='auto', random_state=0, reg_alpha=0, ...)"
      ]
     },
     "execution_count": 199,
     "metadata": {},
     "output_type": "execute_result"
    }
   ],
   "source": [
    "model = RandomForestRegressor(n_estimators = 390, random_state = 7)\n",
    "model2 = KNeighborsRegressor(n_neighbors=1,p=1,weights='distance')\n",
    "model3 = XGBRegressor(booster='gbtree',eta=0.09,gamma=0.92)\n",
    "\n",
    "model.fit(rx_train,ry_train)\n",
    "model2.fit(rx_train,ry_train)\n",
    "model3.fit(rx_train,ry_train)"
   ]
  },
  {
   "cell_type": "code",
   "execution_count": 200,
   "metadata": {},
   "outputs": [
    {
     "name": "stdout",
     "output_type": "stream",
     "text": [
      "Accuracy: 89.0 %\n"
     ]
    }
   ],
   "source": [
    "preds = model.predict(rx_test)\n",
    "preds2 = model2.predict(rx_test)\n",
    "preds3 = model3.predict(rx_test)\n",
    "\n",
    "preds_final = []\n",
    "\n",
    "for x in range(0,282):\n",
    "    sum = int(preds[x] + preds2[x] + preds3[x])\n",
    "    preds_final.append( sum/3 )\n",
    "    \n",
    "print('Accuracy: ' + str( round(100 - (mean_absolute_percentage_error(preds_final, ry_test)*100),2)) + ' %' )"
   ]
  },
  {
   "cell_type": "markdown",
   "metadata": {},
   "source": [
    "<h4>Training RGB Dataset Ensemble Learner</h4>"
   ]
  },
  {
   "cell_type": "code",
   "execution_count": 190,
   "metadata": {},
   "outputs": [
    {
     "data": {
      "text/html": [
       "<style>#sk-container-id-2 {color: black;background-color: white;}#sk-container-id-2 pre{padding: 0;}#sk-container-id-2 div.sk-toggleable {background-color: white;}#sk-container-id-2 label.sk-toggleable__label {cursor: pointer;display: block;width: 100%;margin-bottom: 0;padding: 0.3em;box-sizing: border-box;text-align: center;}#sk-container-id-2 label.sk-toggleable__label-arrow:before {content: \"▸\";float: left;margin-right: 0.25em;color: #696969;}#sk-container-id-2 label.sk-toggleable__label-arrow:hover:before {color: black;}#sk-container-id-2 div.sk-estimator:hover label.sk-toggleable__label-arrow:before {color: black;}#sk-container-id-2 div.sk-toggleable__content {max-height: 0;max-width: 0;overflow: hidden;text-align: left;background-color: #f0f8ff;}#sk-container-id-2 div.sk-toggleable__content pre {margin: 0.2em;color: black;border-radius: 0.25em;background-color: #f0f8ff;}#sk-container-id-2 input.sk-toggleable__control:checked~div.sk-toggleable__content {max-height: 200px;max-width: 100%;overflow: auto;}#sk-container-id-2 input.sk-toggleable__control:checked~label.sk-toggleable__label-arrow:before {content: \"▾\";}#sk-container-id-2 div.sk-estimator input.sk-toggleable__control:checked~label.sk-toggleable__label {background-color: #d4ebff;}#sk-container-id-2 div.sk-label input.sk-toggleable__control:checked~label.sk-toggleable__label {background-color: #d4ebff;}#sk-container-id-2 input.sk-hidden--visually {border: 0;clip: rect(1px 1px 1px 1px);clip: rect(1px, 1px, 1px, 1px);height: 1px;margin: -1px;overflow: hidden;padding: 0;position: absolute;width: 1px;}#sk-container-id-2 div.sk-estimator {font-family: monospace;background-color: #f0f8ff;border: 1px dotted black;border-radius: 0.25em;box-sizing: border-box;margin-bottom: 0.5em;}#sk-container-id-2 div.sk-estimator:hover {background-color: #d4ebff;}#sk-container-id-2 div.sk-parallel-item::after {content: \"\";width: 100%;border-bottom: 1px solid gray;flex-grow: 1;}#sk-container-id-2 div.sk-label:hover label.sk-toggleable__label {background-color: #d4ebff;}#sk-container-id-2 div.sk-serial::before {content: \"\";position: absolute;border-left: 1px solid gray;box-sizing: border-box;top: 0;bottom: 0;left: 50%;z-index: 0;}#sk-container-id-2 div.sk-serial {display: flex;flex-direction: column;align-items: center;background-color: white;padding-right: 0.2em;padding-left: 0.2em;position: relative;}#sk-container-id-2 div.sk-item {position: relative;z-index: 1;}#sk-container-id-2 div.sk-parallel {display: flex;align-items: stretch;justify-content: center;background-color: white;position: relative;}#sk-container-id-2 div.sk-item::before, #sk-container-id-2 div.sk-parallel-item::before {content: \"\";position: absolute;border-left: 1px solid gray;box-sizing: border-box;top: 0;bottom: 0;left: 50%;z-index: -1;}#sk-container-id-2 div.sk-parallel-item {display: flex;flex-direction: column;z-index: 1;position: relative;background-color: white;}#sk-container-id-2 div.sk-parallel-item:first-child::after {align-self: flex-end;width: 50%;}#sk-container-id-2 div.sk-parallel-item:last-child::after {align-self: flex-start;width: 50%;}#sk-container-id-2 div.sk-parallel-item:only-child::after {width: 0;}#sk-container-id-2 div.sk-dashed-wrapped {border: 1px dashed gray;margin: 0 0.4em 0.5em 0.4em;box-sizing: border-box;padding-bottom: 0.4em;background-color: white;}#sk-container-id-2 div.sk-label label {font-family: monospace;font-weight: bold;display: inline-block;line-height: 1.2em;}#sk-container-id-2 div.sk-label-container {text-align: center;}#sk-container-id-2 div.sk-container {/* jupyter's `normalize.less` sets `[hidden] { display: none; }` but bootstrap.min.css set `[hidden] { display: none !important; }` so we also need the `!important` here to be able to override the default hidden behavior on the sphinx rendered scikit-learn.org. See: https://github.com/scikit-learn/scikit-learn/issues/21755 */display: inline-block !important;position: relative;}#sk-container-id-2 div.sk-text-repr-fallback {display: none;}</style><div id=\"sk-container-id-2\" class=\"sk-top-container\"><div class=\"sk-text-repr-fallback\"><pre>XGBRegressor(base_score=0.5, booster=&#x27;gbtree&#x27;, callbacks=None,\n",
       "             colsample_bylevel=1, colsample_bynode=1, colsample_bytree=1,\n",
       "             early_stopping_rounds=None, enable_categorical=False, eta=0.092,\n",
       "             eval_metric=None, gamma=0.919, gpu_id=-1, grow_policy=&#x27;depthwise&#x27;,\n",
       "             importance_type=None, interaction_constraints=&#x27;&#x27;,\n",
       "             learning_rate=0.0920000002, max_bin=256, max_cat_to_onehot=4,\n",
       "             max_delta_step=0, max_depth=6, max_leaves=0, min_child_weight=1,\n",
       "             missing=nan, monotone_constraints=&#x27;()&#x27;, n_estimators=100, n_jobs=0,\n",
       "             num_parallel_tree=1, predictor=&#x27;auto&#x27;, random_state=0, reg_alpha=0, ...)</pre><b>In a Jupyter environment, please rerun this cell to show the HTML representation or trust the notebook. <br />On GitHub, the HTML representation is unable to render, please try loading this page with nbviewer.org.</b></div><div class=\"sk-container\" hidden><div class=\"sk-item\"><div class=\"sk-estimator sk-toggleable\"><input class=\"sk-toggleable__control sk-hidden--visually\" id=\"sk-estimator-id-2\" type=\"checkbox\" checked><label for=\"sk-estimator-id-2\" class=\"sk-toggleable__label sk-toggleable__label-arrow\">XGBRegressor</label><div class=\"sk-toggleable__content\"><pre>XGBRegressor(base_score=0.5, booster=&#x27;gbtree&#x27;, callbacks=None,\n",
       "             colsample_bylevel=1, colsample_bynode=1, colsample_bytree=1,\n",
       "             early_stopping_rounds=None, enable_categorical=False, eta=0.092,\n",
       "             eval_metric=None, gamma=0.919, gpu_id=-1, grow_policy=&#x27;depthwise&#x27;,\n",
       "             importance_type=None, interaction_constraints=&#x27;&#x27;,\n",
       "             learning_rate=0.0920000002, max_bin=256, max_cat_to_onehot=4,\n",
       "             max_delta_step=0, max_depth=6, max_leaves=0, min_child_weight=1,\n",
       "             missing=nan, monotone_constraints=&#x27;()&#x27;, n_estimators=100, n_jobs=0,\n",
       "             num_parallel_tree=1, predictor=&#x27;auto&#x27;, random_state=0, reg_alpha=0, ...)</pre></div></div></div></div></div>"
      ],
      "text/plain": [
       "XGBRegressor(base_score=0.5, booster='gbtree', callbacks=None,\n",
       "             colsample_bylevel=1, colsample_bynode=1, colsample_bytree=1,\n",
       "             early_stopping_rounds=None, enable_categorical=False, eta=0.092,\n",
       "             eval_metric=None, gamma=0.919, gpu_id=-1, grow_policy='depthwise',\n",
       "             importance_type=None, interaction_constraints='',\n",
       "             learning_rate=0.0920000002, max_bin=256, max_cat_to_onehot=4,\n",
       "             max_delta_step=0, max_depth=6, max_leaves=0, min_child_weight=1,\n",
       "             missing=nan, monotone_constraints='()', n_estimators=100, n_jobs=0,\n",
       "             num_parallel_tree=1, predictor='auto', random_state=0, reg_alpha=0, ...)"
      ]
     },
     "execution_count": 190,
     "metadata": {},
     "output_type": "execute_result"
    }
   ],
   "source": [
    "model = RandomForestRegressor(n_estimators = 93, random_state = 7)\n",
    "model2 = KNeighborsRegressor(n_neighbors=1,p=1,weights='distance')\n",
    "model3 = XGBRegressor(booster='gbtree',eta=0.092,gamma=0.919)\n",
    "\n",
    "model.fit(ax_train,ay_train)\n",
    "model2.fit(ax_train,ay_train)\n",
    "model3.fit(ax_train,ay_train)"
   ]
  },
  {
   "cell_type": "code",
   "execution_count": 191,
   "metadata": {},
   "outputs": [
    {
     "name": "stdout",
     "output_type": "stream",
     "text": [
      "Accuracy: 89.34 %\n"
     ]
    }
   ],
   "source": [
    "preds = model.predict(ax_test)\n",
    "preds2 = model2.predict(ax_test)\n",
    "preds3 = model3.predict(ax_test)\n",
    "\n",
    "preds_final = []\n",
    "\n",
    "for x in range(0,282):\n",
    "    sum = int(preds[x] + preds2[x] + preds3[x])\n",
    "    preds_final.append( sum/3 )\n",
    "    \n",
    "print('Accuracy: ' + str( round(100 - (mean_absolute_percentage_error(preds_final, ay_test)*100),2)) + ' %' )"
   ]
  },
  {
   "cell_type": "markdown",
   "metadata": {},
   "source": [
    "<h4>Ensemble Learning Algorithms</h4>"
   ]
  },
  {
   "cell_type": "markdown",
   "metadata": {},
   "source": [
    "<p>\n",
    "    The ensemble function increased the accuracy only slightly for the RGB dataset but lowered the overall accuracy for the red dataset. Due to the poor results, we considered using ensemble learners from the Scikit-Learn library, which are more robust and generally provide higher accuracy. We considered using the AdaBoost Regressor.\n",
    "</p>"
   ]
  },
  {
   "cell_type": "code",
   "execution_count": 192,
   "metadata": {},
   "outputs": [
    {
     "name": "stdout",
     "output_type": "stream",
     "text": [
      "Red Accuracy: 90.43385746844078\n"
     ]
    }
   ],
   "source": [
    "from sklearn.ensemble import AdaBoostRegressor\n",
    "from sklearn.metrics import mean_absolute_error\n",
    "\n",
    "knn = KNeighborsRegressor(n_neighbors=1,p=1,weights='distance')\n",
    "\n",
    "model = AdaBoostRegressor(base_estimator=knn,n_estimators=11,learning_rate=0.1,random_state=10)\n",
    "trainTest(model,'red')"
   ]
  },
  {
   "cell_type": "code",
   "execution_count": 193,
   "metadata": {},
   "outputs": [
    {
     "name": "stdout",
     "output_type": "stream",
     "text": [
      "All Accuracy: 89.4702133574261\n"
     ]
    }
   ],
   "source": [
    "knn = KNeighborsRegressor(n_neighbors=1,p=1,weights='distance')\n",
    "model = AdaBoostRegressor(base_estimator=knn,n_estimators=6,learning_rate=0.5,random_state=10)\n",
    "trainTest(model,'all')"
   ]
  },
  {
   "cell_type": "markdown",
   "metadata": {},
   "source": [
    "<h1>8 - Model Summary</h1>"
   ]
  },
  {
   "cell_type": "markdown",
   "metadata": {},
   "source": [
    "<p>\n",
    "    <strong>Datasets with Highest Accuracies Across All Models:</strong> RGB Dataset \n",
    "    <br>\n",
    "    <strong>Dataset with Highest Single Accuracy:</strong> Red Dataset - 90.4%\n",
    "    <br>\n",
    "    <br>\n",
    "    <strong>Model with Highest Accuracies Overall:</strong> AdaBoost with KNeighbors\n",
    "    <br>\n",
    "    <strong>Model with Highest Accuracies:</strong> AdaBoost with KNeighbors - 90.4%\n",
    "</p>"
   ]
  },
  {
   "cell_type": "code",
   "execution_count": 194,
   "metadata": {},
   "outputs": [],
   "source": [
    "import pickle\n",
    "\n",
    "knn = KNeighborsRegressor(n_neighbors=1,p=1,weights='distance')\n",
    "model = AdaBoostRegressor(base_estimator=knn,n_estimators=11,learning_rate=0.1,random_state=10)\n",
    "model.fit(rx_train,ry_train)\n",
    "\n",
    "pickle.dump(model, open('final_model.sav', 'wb'))"
   ]
  },
  {
   "cell_type": "code",
   "execution_count": 195,
   "metadata": {},
   "outputs": [
    {
     "name": "stdout",
     "output_type": "stream",
     "text": [
      "Mean Absolute Error: 9.5 mg/dl\n",
      "Accuracy: 90.43%\n"
     ]
    }
   ],
   "source": [
    "from sklearn.metrics import mean_absolute_error\n",
    "\n",
    "loaded_model = pickle.load(open('final_model.sav', 'rb'))\n",
    "preds = loaded_model.predict(rx_test)\n",
    "\n",
    "print('Mean Absolute Error: ' + str( round(mean_absolute_error(preds,ry_test),2) ) + ' mg/dl' )\n",
    "print('Accuracy: ' + str( round(100 - (mean_absolute_percentage_error(preds, ry_test)*100),2)) + '%' )"
   ]
  }
 ],
 "metadata": {
  "kernelspec": {
   "display_name": "Python 3.10.4 64-bit",
   "language": "python",
   "name": "python3"
  },
  "language_info": {
   "codemirror_mode": {
    "name": "ipython",
    "version": 3
   },
   "file_extension": ".py",
   "mimetype": "text/x-python",
   "name": "python",
   "nbconvert_exporter": "python",
   "pygments_lexer": "ipython3",
   "version": "3.10.4"
  },
  "orig_nbformat": 4,
  "vscode": {
   "interpreter": {
    "hash": "d7e511bb055a27718d407294509d84e74fb2f34536121bedbf546583a06842a9"
   }
  }
 },
 "nbformat": 4,
 "nbformat_minor": 2
}
