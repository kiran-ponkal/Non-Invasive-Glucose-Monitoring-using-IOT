{
 "cells": [
  {
   "cell_type": "markdown",
   "metadata": {},
   "source": [
    "<h1>0 - Introduction</h1>"
   ]
  },
  {
   "cell_type": "markdown",
   "metadata": {},
   "source": [
    "<p>\n",
    "    For version of the GlucoCheck glucose-estimation model, I used a more novel approach to calculating the patient's glucose values. Our current working prototype is based off of a laser that is activated on a patient's finger with an image diode that captures a picture of the laser shining through the patient's finger. When the laser is aimed at a patient's finger different wavelength's of light (colors) are absorbed by the patient's skin tissue, resulting in the image that is captured by the image diode. Since most blue and green light is absorbed by the laser diode, the image is left with mostly red colors.\n",
    "</p>\n",
    "\n",
    "<p>\n",
    "    With these images, data manipulation, and machine learning models, we can easily estimate the patient's current blood glucose. To do this estimation, we find the intensity values of the images for different colors. Intensity values are the number of pixels in each image that have a certain value of red, blue, or green. To get all of the intensity values in an image, we find the number of pixels that have each possible value of red in them (0-255) and then map that to an array (number of images x 256). We can do this process for all three major RGB colors: red, green, and blue. For this model, we experimented with all three colors. \n",
    "</p>\n",
    "\n",
    "<p>\n",
    "    Prior to creating the datasets and models, we went through our current dataset and we compiled all of the folders of images (named according to the person) into one folder. Inside of that folder, we renamed all of the folders with images to measured glucose value of the corresponding person. This process resulted in a folder containing several other folders with glucose values as names of the folders and the folders containing images with those same glucose values. \n",
    "</p>\n",
    "<p>\n",
    "    We also removed many \"bad\" images from the datasets; these images were ones that were captured incorrectly. Furthermore, many of the images in the second image capture were renamed to random numbers to allow for the file-folders to be merged into one single folder with subdirectories described above.\n",
    "</p>"
   ]
  },
  {
   "cell_type": "markdown",
   "metadata": {},
   "source": [
    "<h1>1 - Initial Setup</h1>"
   ]
  },
  {
   "cell_type": "markdown",
   "metadata": {},
   "source": [
    "<h4>Import Python Libraries</h4>"
   ]
  },
  {
   "cell_type": "code",
   "execution_count": 290,
   "metadata": {},
   "outputs": [],
   "source": [
    "import os\n",
    "import glob\n",
    "import time\n",
    "import h5py\n",
    "import skimage\n",
    "import statistics\n",
    "import seaborn as sns\n",
    "from PIL import Image\n",
    "import numpy as np\n",
    "import pandas as pd\n",
    "from skimage import io\n",
    "from pathlib import Path\n",
    "import tensorflow as tf\n",
    "from sklearn.metrics import r2_score\n",
    "from sklearn.model_selection import train_test_split\n",
    "from sklearn.metrics import mean_absolute_percentage_error"
   ]
  },
  {
   "cell_type": "code",
   "execution_count": 2,
   "metadata": {},
   "outputs": [],
   "source": [
    "import warnings\n",
    "warnings.filterwarnings(\"ignore\")"
   ]
  },
  {
   "cell_type": "markdown",
   "metadata": {},
   "source": [
    "<h1>2 - Creating Datasets</h1>"
   ]
  },
  {
   "cell_type": "markdown",
   "metadata": {},
   "source": [
    "<h4>Finding the Data Directory</h4>"
   ]
  },
  {
   "cell_type": "code",
   "execution_count": 3,
   "metadata": {},
   "outputs": [
    {
     "name": "stdout",
     "output_type": "stream",
     "text": [
      "x:\\Machine Learning\\Glucose Estimation\\data_second_cleaned\n"
     ]
    }
   ],
   "source": [
    "directory = os.getcwd() + '\\data_second_cleaned'\n",
    "print(directory)"
   ]
  },
  {
   "cell_type": "markdown",
   "metadata": {},
   "source": [
    "<h4>Creating Series for Image Filepaths and Glucose Values</h4>"
   ]
  },
  {
   "cell_type": "code",
   "execution_count": 4,
   "metadata": {},
   "outputs": [],
   "source": [
    "#Creating list with all image filepaths and one for glucose values.\n",
    "files = glob.glob(directory + '\\**\\*')\n",
    "values = [None] * len(files)\n",
    "\n",
    "#Correcting all filepaths and adding their respective values to the other list. \n",
    "x = 0\n",
    "while x < len(files):\n",
    "    files[x] = files[x].replace('\\\\','/')\n",
    "    temp = files[x][59:]\n",
    "    values[x] = int(temp[0:temp.index('/')])\n",
    "    x = x + 1\n",
    "\n",
    "#Converting lists into Panda Series for creating a Dataframe\n",
    "files = pd.Series(files, name='Filepath')\n",
    "values = pd.Series(values, name='Glucose')"
   ]
  },
  {
   "cell_type": "markdown",
   "metadata": {},
   "source": [
    "<h4>Combining the Series into a Dataframe</h4>"
   ]
  },
  {
   "cell_type": "code",
   "execution_count": 4,
   "metadata": {},
   "outputs": [
    {
     "data": {
      "text/html": [
       "<div>\n",
       "<style scoped>\n",
       "    .dataframe tbody tr th:only-of-type {\n",
       "        vertical-align: middle;\n",
       "    }\n",
       "\n",
       "    .dataframe tbody tr th {\n",
       "        vertical-align: top;\n",
       "    }\n",
       "\n",
       "    .dataframe thead th {\n",
       "        text-align: right;\n",
       "    }\n",
       "</style>\n",
       "<table border=\"1\" class=\"dataframe\">\n",
       "  <thead>\n",
       "    <tr style=\"text-align: right;\">\n",
       "      <th></th>\n",
       "      <th>Filepath</th>\n",
       "      <th>Glucose</th>\n",
       "    </tr>\n",
       "  </thead>\n",
       "  <tbody>\n",
       "    <tr>\n",
       "      <th>0</th>\n",
       "      <td>x:/Machine Learning/Glucose Estimation/data_se...</td>\n",
       "      <td>100</td>\n",
       "    </tr>\n",
       "    <tr>\n",
       "      <th>1</th>\n",
       "      <td>x:/Machine Learning/Glucose Estimation/data_se...</td>\n",
       "      <td>100</td>\n",
       "    </tr>\n",
       "    <tr>\n",
       "      <th>2</th>\n",
       "      <td>x:/Machine Learning/Glucose Estimation/data_se...</td>\n",
       "      <td>100</td>\n",
       "    </tr>\n",
       "    <tr>\n",
       "      <th>3</th>\n",
       "      <td>x:/Machine Learning/Glucose Estimation/data_se...</td>\n",
       "      <td>100</td>\n",
       "    </tr>\n",
       "    <tr>\n",
       "      <th>4</th>\n",
       "      <td>x:/Machine Learning/Glucose Estimation/data_se...</td>\n",
       "      <td>100</td>\n",
       "    </tr>\n",
       "    <tr>\n",
       "      <th>...</th>\n",
       "      <td>...</td>\n",
       "      <td>...</td>\n",
       "    </tr>\n",
       "    <tr>\n",
       "      <th>1123</th>\n",
       "      <td>x:/Machine Learning/Glucose Estimation/data_se...</td>\n",
       "      <td>99</td>\n",
       "    </tr>\n",
       "    <tr>\n",
       "      <th>1124</th>\n",
       "      <td>x:/Machine Learning/Glucose Estimation/data_se...</td>\n",
       "      <td>99</td>\n",
       "    </tr>\n",
       "    <tr>\n",
       "      <th>1125</th>\n",
       "      <td>x:/Machine Learning/Glucose Estimation/data_se...</td>\n",
       "      <td>99</td>\n",
       "    </tr>\n",
       "    <tr>\n",
       "      <th>1126</th>\n",
       "      <td>x:/Machine Learning/Glucose Estimation/data_se...</td>\n",
       "      <td>99</td>\n",
       "    </tr>\n",
       "    <tr>\n",
       "      <th>1127</th>\n",
       "      <td>x:/Machine Learning/Glucose Estimation/data_se...</td>\n",
       "      <td>99</td>\n",
       "    </tr>\n",
       "  </tbody>\n",
       "</table>\n",
       "<p>1128 rows × 2 columns</p>\n",
       "</div>"
      ],
      "text/plain": [
       "                                               Filepath  Glucose\n",
       "0     x:/Machine Learning/Glucose Estimation/data_se...      100\n",
       "1     x:/Machine Learning/Glucose Estimation/data_se...      100\n",
       "2     x:/Machine Learning/Glucose Estimation/data_se...      100\n",
       "3     x:/Machine Learning/Glucose Estimation/data_se...      100\n",
       "4     x:/Machine Learning/Glucose Estimation/data_se...      100\n",
       "...                                                 ...      ...\n",
       "1123  x:/Machine Learning/Glucose Estimation/data_se...       99\n",
       "1124  x:/Machine Learning/Glucose Estimation/data_se...       99\n",
       "1125  x:/Machine Learning/Glucose Estimation/data_se...       99\n",
       "1126  x:/Machine Learning/Glucose Estimation/data_se...       99\n",
       "1127  x:/Machine Learning/Glucose Estimation/data_se...       99\n",
       "\n",
       "[1128 rows x 2 columns]"
      ]
     },
     "execution_count": 4,
     "metadata": {},
     "output_type": "execute_result"
    }
   ],
   "source": [
    "images = pd.concat([files, values], axis=1)\n",
    "images"
   ]
  },
  {
   "cell_type": "markdown",
   "metadata": {},
   "source": [
    "<h4>Shuffling the Dataset</h4>"
   ]
  },
  {
   "cell_type": "code",
   "execution_count": 5,
   "metadata": {},
   "outputs": [
    {
     "data": {
      "text/html": [
       "<div>\n",
       "<style scoped>\n",
       "    .dataframe tbody tr th:only-of-type {\n",
       "        vertical-align: middle;\n",
       "    }\n",
       "\n",
       "    .dataframe tbody tr th {\n",
       "        vertical-align: top;\n",
       "    }\n",
       "\n",
       "    .dataframe thead th {\n",
       "        text-align: right;\n",
       "    }\n",
       "</style>\n",
       "<table border=\"1\" class=\"dataframe\">\n",
       "  <thead>\n",
       "    <tr style=\"text-align: right;\">\n",
       "      <th></th>\n",
       "      <th>Filepath</th>\n",
       "      <th>Glucose</th>\n",
       "    </tr>\n",
       "  </thead>\n",
       "  <tbody>\n",
       "    <tr>\n",
       "      <th>0</th>\n",
       "      <td>x:/Machine Learning/Glucose Estimation/data_se...</td>\n",
       "      <td>101</td>\n",
       "    </tr>\n",
       "    <tr>\n",
       "      <th>1</th>\n",
       "      <td>x:/Machine Learning/Glucose Estimation/data_se...</td>\n",
       "      <td>83</td>\n",
       "    </tr>\n",
       "    <tr>\n",
       "      <th>2</th>\n",
       "      <td>x:/Machine Learning/Glucose Estimation/data_se...</td>\n",
       "      <td>83</td>\n",
       "    </tr>\n",
       "    <tr>\n",
       "      <th>3</th>\n",
       "      <td>x:/Machine Learning/Glucose Estimation/data_se...</td>\n",
       "      <td>131</td>\n",
       "    </tr>\n",
       "    <tr>\n",
       "      <th>4</th>\n",
       "      <td>x:/Machine Learning/Glucose Estimation/data_se...</td>\n",
       "      <td>113</td>\n",
       "    </tr>\n",
       "    <tr>\n",
       "      <th>...</th>\n",
       "      <td>...</td>\n",
       "      <td>...</td>\n",
       "    </tr>\n",
       "    <tr>\n",
       "      <th>1123</th>\n",
       "      <td>x:/Machine Learning/Glucose Estimation/data_se...</td>\n",
       "      <td>92</td>\n",
       "    </tr>\n",
       "    <tr>\n",
       "      <th>1124</th>\n",
       "      <td>x:/Machine Learning/Glucose Estimation/data_se...</td>\n",
       "      <td>111</td>\n",
       "    </tr>\n",
       "    <tr>\n",
       "      <th>1125</th>\n",
       "      <td>x:/Machine Learning/Glucose Estimation/data_se...</td>\n",
       "      <td>142</td>\n",
       "    </tr>\n",
       "    <tr>\n",
       "      <th>1126</th>\n",
       "      <td>x:/Machine Learning/Glucose Estimation/data_se...</td>\n",
       "      <td>147</td>\n",
       "    </tr>\n",
       "    <tr>\n",
       "      <th>1127</th>\n",
       "      <td>x:/Machine Learning/Glucose Estimation/data_se...</td>\n",
       "      <td>108</td>\n",
       "    </tr>\n",
       "  </tbody>\n",
       "</table>\n",
       "<p>1128 rows × 2 columns</p>\n",
       "</div>"
      ],
      "text/plain": [
       "                                               Filepath  Glucose\n",
       "0     x:/Machine Learning/Glucose Estimation/data_se...      101\n",
       "1     x:/Machine Learning/Glucose Estimation/data_se...       83\n",
       "2     x:/Machine Learning/Glucose Estimation/data_se...       83\n",
       "3     x:/Machine Learning/Glucose Estimation/data_se...      131\n",
       "4     x:/Machine Learning/Glucose Estimation/data_se...      113\n",
       "...                                                 ...      ...\n",
       "1123  x:/Machine Learning/Glucose Estimation/data_se...       92\n",
       "1124  x:/Machine Learning/Glucose Estimation/data_se...      111\n",
       "1125  x:/Machine Learning/Glucose Estimation/data_se...      142\n",
       "1126  x:/Machine Learning/Glucose Estimation/data_se...      147\n",
       "1127  x:/Machine Learning/Glucose Estimation/data_se...      108\n",
       "\n",
       "[1128 rows x 2 columns]"
      ]
     },
     "execution_count": 5,
     "metadata": {},
     "output_type": "execute_result"
    }
   ],
   "source": [
    "#Settings Random State for Replication and Resetting Indices for Ordering \n",
    "images = images.sample(1128, random_state=7).reset_index(drop=True)\n",
    "images"
   ]
  },
  {
   "cell_type": "markdown",
   "metadata": {},
   "source": [
    "<h4>Creating a Function for Declaring the Datasets</h4>"
   ]
  },
  {
   "cell_type": "code",
   "execution_count": 7,
   "metadata": {},
   "outputs": [],
   "source": [
    "from numba import jit\n",
    "\n",
    "#The following function creates an empty Dataframe with appropriate columns.\n",
    "#The user inputs the total number of images being used.\n",
    "\n",
    "def initDS(num):\n",
    "    cols = []\n",
    "    for x in range(0,256):\n",
    "        cols.append(x)\n",
    "    cols.append('Glucose')\n",
    "    dataset = pd.DataFrame(columns=cols,index=range(0,num))\n",
    "    for col in dataset.columns:\n",
    "        dataset[col].values[:] = 0\n",
    "    return dataset"
   ]
  },
  {
   "cell_type": "markdown",
   "metadata": {},
   "source": [
    "<h4>Creating a Function for Initializing the Datasets</h4>"
   ]
  },
  {
   "cell_type": "code",
   "execution_count": 8,
   "metadata": {},
   "outputs": [],
   "source": [
    "from numba import jit\n",
    "\n",
    "#This function inputs the intensity values for a specific color for a specific image.\n",
    "#   0 - Red   1 - Green   2 - Blue \n",
    "\n",
    "def fillDS(dataset,row,color,i):\n",
    "    image = io.imread(row['Filepath'])\n",
    "    rw = dataset.loc[i]\n",
    "    for a in range(0,480):\n",
    "        for b in range(0,640):\n",
    "            sum = image[a][b][color]\n",
    "            rw[sum] = rw[sum] + 1\n",
    "    rw.iloc[256] = row['Glucose']"
   ]
  },
  {
   "cell_type": "markdown",
   "metadata": {},
   "source": [
    "<h4>Using Functions to Create the Datasets</h4>"
   ]
  },
  {
   "cell_type": "code",
   "execution_count": 9,
   "metadata": {},
   "outputs": [
    {
     "data": {
      "text/plain": [
       "(1128, 257)"
      ]
     },
     "execution_count": 9,
     "metadata": {},
     "output_type": "execute_result"
    }
   ],
   "source": [
    "#Initializing Datasets\n",
    "red_dataset = initDS(1128)\n",
    "green_dataset = initDS(1128)\n",
    "blue_dataset = initDS(1128)\n",
    "\n",
    "red_dataset.shape"
   ]
  },
  {
   "cell_type": "code",
   "execution_count": 10,
   "metadata": {},
   "outputs": [],
   "source": [
    "#Filling Datasets\n",
    "\n",
    "for i, row in images.iterrows():  \n",
    "    fillDS(red_dataset,row,0,i)\n",
    "    fillDS(green_dataset,row,1,i)\n",
    "    fillDS(blue_dataset,row,2,i)"
   ]
  },
  {
   "cell_type": "markdown",
   "metadata": {},
   "source": [
    "<h4>Exporting the Datasets as CSV Files</h4>"
   ]
  },
  {
   "cell_type": "code",
   "execution_count": 11,
   "metadata": {},
   "outputs": [],
   "source": [
    "red_dataset.to_csv('red_data.csv')\n",
    "green_dataset.to_csv('green_data.csv')\n",
    "blue_dataset.to_csv('blue_data.csv')\n"
   ]
  },
  {
   "cell_type": "markdown",
   "metadata": {},
   "source": [
    "<p>\n",
    "    As the final step for this section of the procedure, we made an additional dataset that merged the values found in all three of the previously created datasets. This dataset contains 769 columns, featuring all of the intesity values of the image. This process was done in Excel using the previously exported CSV files and was exported as another CSV file.\n",
    "</p>"
   ]
  },
  {
   "cell_type": "markdown",
   "metadata": {},
   "source": [
    "<h1>3 - Data Processing / Model Preparation</h1>"
   ]
  },
  {
   "cell_type": "markdown",
   "metadata": {},
   "source": [
    "<h4>Loading the Merged Dataset</h4>"
   ]
  },
  {
   "cell_type": "code",
   "execution_count": 25,
   "metadata": {},
   "outputs": [
    {
     "data": {
      "text/html": [
       "<div>\n",
       "<style scoped>\n",
       "    .dataframe tbody tr th:only-of-type {\n",
       "        vertical-align: middle;\n",
       "    }\n",
       "\n",
       "    .dataframe tbody tr th {\n",
       "        vertical-align: top;\n",
       "    }\n",
       "\n",
       "    .dataframe thead th {\n",
       "        text-align: right;\n",
       "    }\n",
       "</style>\n",
       "<table border=\"1\" class=\"dataframe\">\n",
       "  <thead>\n",
       "    <tr style=\"text-align: right;\">\n",
       "      <th></th>\n",
       "      <th>r0</th>\n",
       "      <th>r1</th>\n",
       "      <th>r2</th>\n",
       "      <th>r3</th>\n",
       "      <th>r4</th>\n",
       "      <th>r5</th>\n",
       "      <th>r6</th>\n",
       "      <th>r7</th>\n",
       "      <th>r8</th>\n",
       "      <th>r9</th>\n",
       "      <th>...</th>\n",
       "      <th>b247</th>\n",
       "      <th>b248</th>\n",
       "      <th>b249</th>\n",
       "      <th>b250</th>\n",
       "      <th>b251</th>\n",
       "      <th>b252</th>\n",
       "      <th>b253</th>\n",
       "      <th>b254</th>\n",
       "      <th>b255</th>\n",
       "      <th>Glucose</th>\n",
       "    </tr>\n",
       "  </thead>\n",
       "  <tbody>\n",
       "    <tr>\n",
       "      <th>0</th>\n",
       "      <td>0</td>\n",
       "      <td>0</td>\n",
       "      <td>0</td>\n",
       "      <td>0</td>\n",
       "      <td>0</td>\n",
       "      <td>0</td>\n",
       "      <td>0</td>\n",
       "      <td>0</td>\n",
       "      <td>0</td>\n",
       "      <td>0</td>\n",
       "      <td>...</td>\n",
       "      <td>0</td>\n",
       "      <td>0</td>\n",
       "      <td>0</td>\n",
       "      <td>0</td>\n",
       "      <td>0</td>\n",
       "      <td>0</td>\n",
       "      <td>0</td>\n",
       "      <td>0</td>\n",
       "      <td>0</td>\n",
       "      <td>101</td>\n",
       "    </tr>\n",
       "    <tr>\n",
       "      <th>1</th>\n",
       "      <td>0</td>\n",
       "      <td>0</td>\n",
       "      <td>0</td>\n",
       "      <td>0</td>\n",
       "      <td>0</td>\n",
       "      <td>0</td>\n",
       "      <td>0</td>\n",
       "      <td>0</td>\n",
       "      <td>0</td>\n",
       "      <td>0</td>\n",
       "      <td>...</td>\n",
       "      <td>0</td>\n",
       "      <td>0</td>\n",
       "      <td>0</td>\n",
       "      <td>0</td>\n",
       "      <td>0</td>\n",
       "      <td>0</td>\n",
       "      <td>0</td>\n",
       "      <td>0</td>\n",
       "      <td>0</td>\n",
       "      <td>83</td>\n",
       "    </tr>\n",
       "    <tr>\n",
       "      <th>2</th>\n",
       "      <td>0</td>\n",
       "      <td>0</td>\n",
       "      <td>0</td>\n",
       "      <td>0</td>\n",
       "      <td>0</td>\n",
       "      <td>0</td>\n",
       "      <td>0</td>\n",
       "      <td>0</td>\n",
       "      <td>0</td>\n",
       "      <td>0</td>\n",
       "      <td>...</td>\n",
       "      <td>0</td>\n",
       "      <td>0</td>\n",
       "      <td>0</td>\n",
       "      <td>0</td>\n",
       "      <td>0</td>\n",
       "      <td>0</td>\n",
       "      <td>0</td>\n",
       "      <td>0</td>\n",
       "      <td>0</td>\n",
       "      <td>83</td>\n",
       "    </tr>\n",
       "    <tr>\n",
       "      <th>3</th>\n",
       "      <td>0</td>\n",
       "      <td>0</td>\n",
       "      <td>0</td>\n",
       "      <td>0</td>\n",
       "      <td>0</td>\n",
       "      <td>0</td>\n",
       "      <td>0</td>\n",
       "      <td>0</td>\n",
       "      <td>0</td>\n",
       "      <td>0</td>\n",
       "      <td>...</td>\n",
       "      <td>0</td>\n",
       "      <td>0</td>\n",
       "      <td>0</td>\n",
       "      <td>0</td>\n",
       "      <td>0</td>\n",
       "      <td>0</td>\n",
       "      <td>0</td>\n",
       "      <td>0</td>\n",
       "      <td>0</td>\n",
       "      <td>131</td>\n",
       "    </tr>\n",
       "    <tr>\n",
       "      <th>4</th>\n",
       "      <td>0</td>\n",
       "      <td>0</td>\n",
       "      <td>0</td>\n",
       "      <td>0</td>\n",
       "      <td>0</td>\n",
       "      <td>0</td>\n",
       "      <td>0</td>\n",
       "      <td>0</td>\n",
       "      <td>0</td>\n",
       "      <td>0</td>\n",
       "      <td>...</td>\n",
       "      <td>0</td>\n",
       "      <td>0</td>\n",
       "      <td>0</td>\n",
       "      <td>0</td>\n",
       "      <td>0</td>\n",
       "      <td>0</td>\n",
       "      <td>0</td>\n",
       "      <td>0</td>\n",
       "      <td>0</td>\n",
       "      <td>113</td>\n",
       "    </tr>\n",
       "    <tr>\n",
       "      <th>...</th>\n",
       "      <td>...</td>\n",
       "      <td>...</td>\n",
       "      <td>...</td>\n",
       "      <td>...</td>\n",
       "      <td>...</td>\n",
       "      <td>...</td>\n",
       "      <td>...</td>\n",
       "      <td>...</td>\n",
       "      <td>...</td>\n",
       "      <td>...</td>\n",
       "      <td>...</td>\n",
       "      <td>...</td>\n",
       "      <td>...</td>\n",
       "      <td>...</td>\n",
       "      <td>...</td>\n",
       "      <td>...</td>\n",
       "      <td>...</td>\n",
       "      <td>...</td>\n",
       "      <td>...</td>\n",
       "      <td>...</td>\n",
       "      <td>...</td>\n",
       "    </tr>\n",
       "    <tr>\n",
       "      <th>1123</th>\n",
       "      <td>0</td>\n",
       "      <td>0</td>\n",
       "      <td>0</td>\n",
       "      <td>0</td>\n",
       "      <td>0</td>\n",
       "      <td>0</td>\n",
       "      <td>0</td>\n",
       "      <td>0</td>\n",
       "      <td>0</td>\n",
       "      <td>0</td>\n",
       "      <td>...</td>\n",
       "      <td>0</td>\n",
       "      <td>0</td>\n",
       "      <td>0</td>\n",
       "      <td>0</td>\n",
       "      <td>0</td>\n",
       "      <td>0</td>\n",
       "      <td>0</td>\n",
       "      <td>0</td>\n",
       "      <td>0</td>\n",
       "      <td>92</td>\n",
       "    </tr>\n",
       "    <tr>\n",
       "      <th>1124</th>\n",
       "      <td>0</td>\n",
       "      <td>0</td>\n",
       "      <td>0</td>\n",
       "      <td>0</td>\n",
       "      <td>0</td>\n",
       "      <td>0</td>\n",
       "      <td>0</td>\n",
       "      <td>0</td>\n",
       "      <td>0</td>\n",
       "      <td>0</td>\n",
       "      <td>...</td>\n",
       "      <td>0</td>\n",
       "      <td>0</td>\n",
       "      <td>0</td>\n",
       "      <td>0</td>\n",
       "      <td>0</td>\n",
       "      <td>0</td>\n",
       "      <td>0</td>\n",
       "      <td>0</td>\n",
       "      <td>0</td>\n",
       "      <td>111</td>\n",
       "    </tr>\n",
       "    <tr>\n",
       "      <th>1125</th>\n",
       "      <td>0</td>\n",
       "      <td>0</td>\n",
       "      <td>0</td>\n",
       "      <td>0</td>\n",
       "      <td>0</td>\n",
       "      <td>0</td>\n",
       "      <td>0</td>\n",
       "      <td>0</td>\n",
       "      <td>0</td>\n",
       "      <td>0</td>\n",
       "      <td>...</td>\n",
       "      <td>0</td>\n",
       "      <td>0</td>\n",
       "      <td>0</td>\n",
       "      <td>0</td>\n",
       "      <td>0</td>\n",
       "      <td>0</td>\n",
       "      <td>0</td>\n",
       "      <td>0</td>\n",
       "      <td>0</td>\n",
       "      <td>142</td>\n",
       "    </tr>\n",
       "    <tr>\n",
       "      <th>1126</th>\n",
       "      <td>0</td>\n",
       "      <td>0</td>\n",
       "      <td>0</td>\n",
       "      <td>0</td>\n",
       "      <td>0</td>\n",
       "      <td>0</td>\n",
       "      <td>0</td>\n",
       "      <td>0</td>\n",
       "      <td>0</td>\n",
       "      <td>0</td>\n",
       "      <td>...</td>\n",
       "      <td>0</td>\n",
       "      <td>0</td>\n",
       "      <td>0</td>\n",
       "      <td>0</td>\n",
       "      <td>0</td>\n",
       "      <td>0</td>\n",
       "      <td>0</td>\n",
       "      <td>0</td>\n",
       "      <td>0</td>\n",
       "      <td>147</td>\n",
       "    </tr>\n",
       "    <tr>\n",
       "      <th>1127</th>\n",
       "      <td>0</td>\n",
       "      <td>0</td>\n",
       "      <td>0</td>\n",
       "      <td>0</td>\n",
       "      <td>0</td>\n",
       "      <td>0</td>\n",
       "      <td>0</td>\n",
       "      <td>0</td>\n",
       "      <td>0</td>\n",
       "      <td>0</td>\n",
       "      <td>...</td>\n",
       "      <td>0</td>\n",
       "      <td>0</td>\n",
       "      <td>0</td>\n",
       "      <td>0</td>\n",
       "      <td>0</td>\n",
       "      <td>0</td>\n",
       "      <td>0</td>\n",
       "      <td>0</td>\n",
       "      <td>0</td>\n",
       "      <td>108</td>\n",
       "    </tr>\n",
       "  </tbody>\n",
       "</table>\n",
       "<p>1128 rows × 769 columns</p>\n",
       "</div>"
      ],
      "text/plain": [
       "      r0  r1  r2  r3  r4  r5  r6  r7  r8  r9  ...  b247  b248  b249  b250  \\\n",
       "0      0   0   0   0   0   0   0   0   0   0  ...     0     0     0     0   \n",
       "1      0   0   0   0   0   0   0   0   0   0  ...     0     0     0     0   \n",
       "2      0   0   0   0   0   0   0   0   0   0  ...     0     0     0     0   \n",
       "3      0   0   0   0   0   0   0   0   0   0  ...     0     0     0     0   \n",
       "4      0   0   0   0   0   0   0   0   0   0  ...     0     0     0     0   \n",
       "...   ..  ..  ..  ..  ..  ..  ..  ..  ..  ..  ...   ...   ...   ...   ...   \n",
       "1123   0   0   0   0   0   0   0   0   0   0  ...     0     0     0     0   \n",
       "1124   0   0   0   0   0   0   0   0   0   0  ...     0     0     0     0   \n",
       "1125   0   0   0   0   0   0   0   0   0   0  ...     0     0     0     0   \n",
       "1126   0   0   0   0   0   0   0   0   0   0  ...     0     0     0     0   \n",
       "1127   0   0   0   0   0   0   0   0   0   0  ...     0     0     0     0   \n",
       "\n",
       "      b251  b252  b253  b254  b255  Glucose  \n",
       "0        0     0     0     0     0      101  \n",
       "1        0     0     0     0     0       83  \n",
       "2        0     0     0     0     0       83  \n",
       "3        0     0     0     0     0      131  \n",
       "4        0     0     0     0     0      113  \n",
       "...    ...   ...   ...   ...   ...      ...  \n",
       "1123     0     0     0     0     0       92  \n",
       "1124     0     0     0     0     0      111  \n",
       "1125     0     0     0     0     0      142  \n",
       "1126     0     0     0     0     0      147  \n",
       "1127     0     0     0     0     0      108  \n",
       "\n",
       "[1128 rows x 769 columns]"
      ]
     },
     "execution_count": 25,
     "metadata": {},
     "output_type": "execute_result"
    }
   ],
   "source": [
    "red_dataset = pd.read_csv('red_data.csv')\n",
    "green_dataset = pd.read_csv('green_data.csv')\n",
    "blue_dataset = pd.read_csv('blue_data.csv')\n",
    "rgb_dataset = pd.read_csv('rgb_data.csv')\n",
    "rgb_dataset"
   ]
  },
  {
   "cell_type": "markdown",
   "metadata": {},
   "source": [
    "<h4>Making Train/Test Function for Models</h4>"
   ]
  },
  {
   "cell_type": "code",
   "execution_count": 27,
   "metadata": {},
   "outputs": [],
   "source": [
    "#User inputs the model object and the training/testing set to measure accuracy.\n",
    "\n",
    "def trainTest(model,set):\n",
    "    if set == 'red':\n",
    "        model.fit(rx_train,ry_train)\n",
    "        preds = model.predict(rx_test)\n",
    "        print('Red Accuracy: ' + str(100 - (mean_absolute_percentage_error(preds, ry_test)*100)) )\n",
    "    \n",
    "    if set == 'green':\n",
    "        model.fit(gx_train,gy_train)\n",
    "        preds = model.predict(gx_test)\n",
    "        print('Green Accuracy: ' + str(100 - (mean_absolute_percentage_error(preds, gy_test)*100)) )\n",
    "        \n",
    "    if set == 'blue':\n",
    "        model.fit(bx_train,by_train)\n",
    "        preds = model.predict(bx_test)\n",
    "        print('Blue Accuracy: ' + str(100 - (mean_absolute_percentage_error(preds, by_test)*100)) )\n",
    "        \n",
    "    if set == 'all':\n",
    "        model.fit(ax_train,ay_train)\n",
    "        preds = model.predict(ax_test)\n",
    "        print('All Accuracy: ' + str(100 - (mean_absolute_percentage_error(preds, ay_test)*100)) )"
   ]
  },
  {
   "cell_type": "markdown",
   "metadata": {},
   "source": [
    "<h4>Creating Training/Testing Splits</h4>"
   ]
  },
  {
   "cell_type": "code",
   "execution_count": 139,
   "metadata": {},
   "outputs": [],
   "source": [
    "rx_train, rx_test, ry_train, ry_test = train_test_split( red_dataset.drop(columns=['Glucose']) , red_dataset[['Glucose']] ,test_size=0.25,random_state=7)\n",
    "gx_train, gx_test, gy_train, gy_test = train_test_split( green_dataset.drop(columns=['Glucose']) , green_dataset[['Glucose']] ,test_size=0.25,random_state=7)\n",
    "bx_train, bx_test, by_train, by_test = train_test_split( blue_dataset.drop(columns=['Glucose']) , blue_dataset[['Glucose']] ,test_size=0.25,random_state=7)\n",
    "ax_train, ax_test, ay_train, ay_test = train_test_split( rgb_dataset.drop(columns=['Glucose']) , rgb_dataset[['Glucose']] ,test_size=0.25,random_state=7)"
   ]
  },
  {
   "cell_type": "markdown",
   "metadata": {},
   "source": [
    "<h1>4 - Model Training and Testing</h1>"
   ]
  },
  {
   "cell_type": "markdown",
   "metadata": {},
   "source": [
    "<h4>Random Forest - 87.9% Accuracy</h4>"
   ]
  },
  {
   "cell_type": "code",
   "execution_count": 28,
   "metadata": {},
   "outputs": [
    {
     "name": "stdout",
     "output_type": "stream",
     "text": [
      "Red Accuracy: 87.3087997910618\n",
      "Green Accuracy: 87.03855755955992\n",
      "Blue Accuracy: 86.6497289667381\n",
      "All Accuracy: 87.90076354261745\n"
     ]
    }
   ],
   "source": [
    "from sklearn.ensemble import RandomForestRegressor\n",
    "\n",
    "model = RandomForestRegressor(n_estimators = 350, random_state = 7)\n",
    "trainTest(model,'red')\n",
    "trainTest(model,'green')\n",
    "trainTest(model,'blue')\n",
    "trainTest(model,'all')"
   ]
  },
  {
   "cell_type": "markdown",
   "metadata": {},
   "source": [
    "<h4>Decision Tree - 83.8% Accuracy</h4>"
   ]
  },
  {
   "cell_type": "code",
   "execution_count": 140,
   "metadata": {},
   "outputs": [
    {
     "name": "stdout",
     "output_type": "stream",
     "text": [
      "Red Accuracy: 83.42334259293924\n",
      "Green Accuracy: 82.59144630694982\n",
      "Blue Accuracy: 83.09587144083213\n",
      "All Accuracy: 82.96156332874597\n"
     ]
    }
   ],
   "source": [
    "from sklearn.tree import DecisionTreeRegressor\n",
    "\n",
    "model = DecisionTreeRegressor()\n",
    "trainTest(model,'red')\n",
    "trainTest(model,'green')\n",
    "trainTest(model,'blue')\n",
    "trainTest(model,'all')"
   ]
  },
  {
   "cell_type": "markdown",
   "metadata": {},
   "source": [
    "<h4>Elastic Net - 85.7% Accuracy</h4>"
   ]
  },
  {
   "cell_type": "code",
   "execution_count": 141,
   "metadata": {},
   "outputs": [
    {
     "name": "stdout",
     "output_type": "stream",
     "text": [
      "Red Accuracy: 84.86713355824988\n",
      "Green Accuracy: 84.32008002220915\n",
      "Blue Accuracy: 85.08875139717097\n",
      "All Accuracy: 85.69396594187346\n"
     ]
    }
   ],
   "source": [
    "from sklearn.linear_model import ElasticNet\n",
    "\n",
    "model = ElasticNet(alpha=150, l1_ratio=0.5,fit_intercept=False)\n",
    "trainTest(model,'red')\n",
    "trainTest(model,'green')\n",
    "trainTest(model,'blue')\n",
    "trainTest(model,'all')"
   ]
  },
  {
   "cell_type": "markdown",
   "metadata": {},
   "source": [
    "<h4>KNeighbors - 90.1% Accuracy</h4>"
   ]
  },
  {
   "cell_type": "code",
   "execution_count": 142,
   "metadata": {},
   "outputs": [
    {
     "name": "stdout",
     "output_type": "stream",
     "text": [
      "Red Accuracy: 90.1482720590572\n",
      "Green Accuracy: 83.88244210499052\n",
      "Blue Accuracy: 86.14450943999462\n",
      "All Accuracy: 89.31884257612406\n"
     ]
    }
   ],
   "source": [
    "from sklearn.neighbors import KNeighborsRegressor\n",
    "\n",
    "model = KNeighborsRegressor(n_neighbors=1,p=1)\n",
    "trainTest(model,'red')\n",
    "trainTest(model,'green')\n",
    "trainTest(model,'blue')\n",
    "trainTest(model,'all')"
   ]
  },
  {
   "cell_type": "markdown",
   "metadata": {},
   "source": [
    "<h4>Support Vector - 86.8% Accuracy</h4>"
   ]
  },
  {
   "cell_type": "code",
   "execution_count": 143,
   "metadata": {},
   "outputs": [
    {
     "name": "stdout",
     "output_type": "stream",
     "text": [
      "Red Accuracy: 85.00452430491126\n",
      "Green Accuracy: 84.51683585283295\n",
      "Blue Accuracy: 85.6676571775809\n",
      "All Accuracy: 86.81242941433484\n"
     ]
    }
   ],
   "source": [
    "from sklearn.svm import SVR\n",
    "\n",
    "model = SVR(kernel = 'rbf', C = 21250)\n",
    "trainTest(model,'red')\n",
    "trainTest(model,'green')\n",
    "trainTest(model,'blue')\n",
    "trainTest(model,'all')"
   ]
  },
  {
   "cell_type": "markdown",
   "metadata": {},
   "source": [
    "<h4>Lasso Regression - 86.1% Accuracy</h4>"
   ]
  },
  {
   "cell_type": "code",
   "execution_count": 144,
   "metadata": {},
   "outputs": [
    {
     "name": "stdout",
     "output_type": "stream",
     "text": [
      "Red Accuracy: 84.82514359981478\n",
      "Green Accuracy: 84.50248224495067\n",
      "Blue Accuracy: 85.25914061909751\n",
      "All Accuracy: 86.14813243333506\n"
     ]
    }
   ],
   "source": [
    "from sklearn.linear_model import Lasso\n",
    "\n",
    "model = Lasso(alpha=37)\n",
    "trainTest(model,'red')\n",
    "trainTest(model,'green')\n",
    "trainTest(model,'blue')\n",
    "trainTest(model,'all')"
   ]
  },
  {
   "cell_type": "markdown",
   "metadata": {},
   "source": [
    "<h4>Radius Neighbors - 86.2% Accuracy</h4>"
   ]
  },
  {
   "cell_type": "code",
   "execution_count": 145,
   "metadata": {},
   "outputs": [
    {
     "name": "stdout",
     "output_type": "stream",
     "text": [
      "Red Accuracy: 85.83626109014672\n",
      "Green Accuracy: 85.81387149939611\n",
      "Blue Accuracy: 85.66219346414518\n",
      "All Accuracy: 86.1477805493945\n"
     ]
    }
   ],
   "source": [
    "from sklearn.neighbors import RadiusNeighborsRegressor\n",
    "\n",
    "model = RadiusNeighborsRegressor(radius=7000,weights='distance',p=3)\n",
    "trainTest(model,'red')\n",
    "trainTest(model,'green')\n",
    "trainTest(model,'blue')\n",
    "trainTest(model,'all')"
   ]
  },
  {
   "cell_type": "markdown",
   "metadata": {},
   "source": [
    "<h4>Bayesian Ridge - 86.2% Accuracy</h4>"
   ]
  },
  {
   "cell_type": "code",
   "execution_count": 146,
   "metadata": {},
   "outputs": [
    {
     "name": "stdout",
     "output_type": "stream",
     "text": [
      "Red Accuracy: 84.93545532957893\n",
      "Green Accuracy: 84.44726409631501\n",
      "Blue Accuracy: 85.26009720429944\n",
      "All Accuracy: 86.18759077898153\n"
     ]
    }
   ],
   "source": [
    "from sklearn.linear_model import BayesianRidge\n",
    "\n",
    "model = BayesianRidge(n_iter=10,fit_intercept=False)\n",
    "trainTest(model,'red')\n",
    "trainTest(model,'green')\n",
    "trainTest(model,'blue')\n",
    "trainTest(model,'all')"
   ]
  },
  {
   "cell_type": "markdown",
   "metadata": {},
   "source": [
    "<h4>Tweedie Regressor - 86.2% Accuracy</h4>"
   ]
  },
  {
   "cell_type": "code",
   "execution_count": 147,
   "metadata": {},
   "outputs": [
    {
     "name": "stdout",
     "output_type": "stream",
     "text": [
      "Red Accuracy: 84.8410901618374\n",
      "Green Accuracy: 84.31793843567331\n",
      "Blue Accuracy: 84.18340656210901\n",
      "All Accuracy: 86.20137821871194\n"
     ]
    }
   ],
   "source": [
    "from sklearn.linear_model import TweedieRegressor\n",
    "\n",
    "model = TweedieRegressor(power=1,alpha=0,max_iter=95)\n",
    "trainTest(model,'red')\n",
    "trainTest(model,'green')\n",
    "trainTest(model,'blue')\n",
    "trainTest(model,'all')"
   ]
  },
  {
   "cell_type": "markdown",
   "metadata": {},
   "source": [
    "<h4>Neural Network - 87.2% Accuracy</h4>"
   ]
  },
  {
   "cell_type": "code",
   "execution_count": 330,
   "metadata": {},
   "outputs": [],
   "source": [
    "#Creating Neural Network\n",
    "from keras.optimizers import adam_v2\n",
    "from keras.models import Sequential\n",
    "from keras.layers import Dense\n",
    "from keras.layers import Dropout\n",
    "\n",
    "model = Sequential()\n",
    "model.add(Dense(1024, input_dim=256, activation='relu'))\n",
    "model.add(Dense(2048, activation='relu'))\n",
    "model.add(Dense(1, activation='linear'))\n",
    "model.compile(loss='mae', optimizer='adam')"
   ]
  },
  {
   "cell_type": "code",
   "execution_count": 332,
   "metadata": {},
   "outputs": [
    {
     "name": "stdout",
     "output_type": "stream",
     "text": [
      "Epoch 1/100\n",
      "5/5 [==============================] - 0s 33ms/step - loss: 39.7223 - val_loss: 35.3338\n",
      "Epoch 2/100\n",
      "5/5 [==============================] - 0s 32ms/step - loss: 25.3524 - val_loss: 17.5621\n",
      "Epoch 3/100\n",
      "5/5 [==============================] - 0s 25ms/step - loss: 18.1456 - val_loss: 17.0252\n",
      "Epoch 4/100\n",
      "5/5 [==============================] - 0s 36ms/step - loss: 16.3233 - val_loss: 16.6257\n",
      "Epoch 5/100\n",
      "5/5 [==============================] - 0s 30ms/step - loss: 15.7593 - val_loss: 22.0066\n",
      "Epoch 6/100\n",
      "5/5 [==============================] - 0s 43ms/step - loss: 19.9313 - val_loss: 18.4666\n",
      "Epoch 7/100\n",
      "5/5 [==============================] - 0s 27ms/step - loss: 18.2663 - val_loss: 15.8278\n",
      "Epoch 8/100\n",
      "5/5 [==============================] - 0s 28ms/step - loss: 15.9021 - val_loss: 16.3879\n",
      "Epoch 9/100\n",
      "5/5 [==============================] - 0s 30ms/step - loss: 15.6194 - val_loss: 16.0044\n",
      "Epoch 10/100\n",
      "5/5 [==============================] - 0s 36ms/step - loss: 16.5776 - val_loss: 17.6312\n",
      "Epoch 11/100\n",
      "5/5 [==============================] - 0s 33ms/step - loss: 17.2148 - val_loss: 15.3212\n",
      "Epoch 12/100\n",
      "5/5 [==============================] - 0s 26ms/step - loss: 15.0111 - val_loss: 16.6538\n",
      "Epoch 13/100\n",
      "5/5 [==============================] - 0s 26ms/step - loss: 14.5203 - val_loss: 14.6572\n",
      "Epoch 14/100\n",
      "5/5 [==============================] - 0s 26ms/step - loss: 14.7021 - val_loss: 15.0472\n",
      "Epoch 15/100\n",
      "5/5 [==============================] - 0s 29ms/step - loss: 14.7754 - val_loss: 15.4881\n",
      "Epoch 16/100\n",
      "5/5 [==============================] - 0s 24ms/step - loss: 14.9079 - val_loss: 17.8572\n",
      "Epoch 17/100\n",
      "5/5 [==============================] - 0s 23ms/step - loss: 15.1117 - val_loss: 16.4163\n",
      "Epoch 18/100\n",
      "5/5 [==============================] - 0s 23ms/step - loss: 15.0003 - val_loss: 18.2466\n",
      "Epoch 19/100\n",
      "5/5 [==============================] - 0s 27ms/step - loss: 15.5676 - val_loss: 15.0556\n",
      "Epoch 20/100\n",
      "5/5 [==============================] - 0s 27ms/step - loss: 14.6302 - val_loss: 14.8631\n",
      "Epoch 21/100\n",
      "5/5 [==============================] - 0s 28ms/step - loss: 14.7725 - val_loss: 14.3224\n",
      "Epoch 22/100\n",
      "5/5 [==============================] - 0s 32ms/step - loss: 14.4811 - val_loss: 14.8290\n",
      "Epoch 23/100\n",
      "5/5 [==============================] - 0s 44ms/step - loss: 14.4042 - val_loss: 14.8353\n",
      "Epoch 24/100\n",
      "5/5 [==============================] - 0s 34ms/step - loss: 14.5341 - val_loss: 15.6354\n",
      "Epoch 25/100\n",
      "5/5 [==============================] - 0s 32ms/step - loss: 14.2538 - val_loss: 15.1170\n",
      "Epoch 26/100\n",
      "5/5 [==============================] - 0s 37ms/step - loss: 14.5420 - val_loss: 14.5913\n",
      "Epoch 27/100\n",
      "5/5 [==============================] - 0s 37ms/step - loss: 14.5434 - val_loss: 16.9866\n",
      "Epoch 28/100\n",
      "5/5 [==============================] - 0s 37ms/step - loss: 15.4189 - val_loss: 15.2831\n",
      "Epoch 29/100\n",
      "5/5 [==============================] - 0s 34ms/step - loss: 15.4764 - val_loss: 15.1699\n",
      "Epoch 30/100\n",
      "5/5 [==============================] - 0s 39ms/step - loss: 15.0021 - val_loss: 19.3621\n",
      "Epoch 31/100\n",
      "5/5 [==============================] - 0s 32ms/step - loss: 16.2343 - val_loss: 19.3087\n",
      "Epoch 32/100\n",
      "5/5 [==============================] - 0s 32ms/step - loss: 16.9500 - val_loss: 14.8525\n",
      "Epoch 33/100\n",
      "5/5 [==============================] - 0s 31ms/step - loss: 15.0710 - val_loss: 15.5413\n",
      "Epoch 34/100\n",
      "5/5 [==============================] - 0s 33ms/step - loss: 14.6865 - val_loss: 14.6147\n",
      "Epoch 35/100\n",
      "5/5 [==============================] - 0s 49ms/step - loss: 13.9061 - val_loss: 15.1241\n",
      "Epoch 36/100\n",
      "5/5 [==============================] - 0s 42ms/step - loss: 13.8668 - val_loss: 14.7380\n",
      "Epoch 37/100\n",
      "5/5 [==============================] - 0s 36ms/step - loss: 14.0664 - val_loss: 17.1048\n",
      "Epoch 38/100\n",
      "5/5 [==============================] - 0s 35ms/step - loss: 14.0527 - val_loss: 15.1680\n",
      "Epoch 39/100\n",
      "5/5 [==============================] - 0s 34ms/step - loss: 14.0881 - val_loss: 15.1757\n",
      "Epoch 40/100\n",
      "5/5 [==============================] - 0s 38ms/step - loss: 14.1892 - val_loss: 16.9108\n",
      "Epoch 41/100\n",
      "5/5 [==============================] - 0s 34ms/step - loss: 14.7611 - val_loss: 14.9926\n",
      "Epoch 42/100\n",
      "5/5 [==============================] - 0s 33ms/step - loss: 13.6462 - val_loss: 16.1223\n",
      "Epoch 43/100\n",
      "5/5 [==============================] - 0s 32ms/step - loss: 14.4381 - val_loss: 16.0955\n",
      "Epoch 44/100\n",
      "5/5 [==============================] - 0s 35ms/step - loss: 14.4601 - val_loss: 14.6159\n",
      "Epoch 45/100\n",
      "5/5 [==============================] - 0s 33ms/step - loss: 14.1942 - val_loss: 14.1002\n",
      "Epoch 46/100\n",
      "5/5 [==============================] - 0s 30ms/step - loss: 13.7674 - val_loss: 15.4766\n",
      "Epoch 47/100\n",
      "5/5 [==============================] - 0s 33ms/step - loss: 14.7283 - val_loss: 15.4584\n",
      "Epoch 48/100\n",
      "5/5 [==============================] - 0s 39ms/step - loss: 14.1899 - val_loss: 16.4476\n",
      "Epoch 49/100\n",
      "5/5 [==============================] - 0s 54ms/step - loss: 14.4725 - val_loss: 16.2939\n",
      "Epoch 50/100\n",
      "5/5 [==============================] - 0s 33ms/step - loss: 15.0233 - val_loss: 15.6691\n",
      "Epoch 51/100\n",
      "5/5 [==============================] - 0s 36ms/step - loss: 14.3005 - val_loss: 16.1055\n",
      "Epoch 52/100\n",
      "5/5 [==============================] - 0s 38ms/step - loss: 14.5426 - val_loss: 15.1190\n",
      "Epoch 53/100\n",
      "5/5 [==============================] - 0s 33ms/step - loss: 14.8084 - val_loss: 14.3009\n",
      "Epoch 54/100\n",
      "5/5 [==============================] - 0s 34ms/step - loss: 14.2177 - val_loss: 15.2779\n",
      "Epoch 55/100\n",
      "5/5 [==============================] - 0s 38ms/step - loss: 14.5221 - val_loss: 15.3911\n",
      "Epoch 56/100\n",
      "5/5 [==============================] - 0s 37ms/step - loss: 13.8433 - val_loss: 15.1251\n",
      "Epoch 57/100\n",
      "5/5 [==============================] - 0s 37ms/step - loss: 14.0584 - val_loss: 14.5459\n",
      "Epoch 58/100\n",
      "5/5 [==============================] - 0s 31ms/step - loss: 14.2136 - val_loss: 15.2979\n",
      "Epoch 59/100\n",
      "5/5 [==============================] - 0s 24ms/step - loss: 15.4918 - val_loss: 15.4633\n",
      "Epoch 60/100\n",
      "5/5 [==============================] - 0s 33ms/step - loss: 14.6471 - val_loss: 14.7475\n",
      "Epoch 61/100\n",
      "5/5 [==============================] - 0s 33ms/step - loss: 14.4496 - val_loss: 14.3346\n",
      "Epoch 62/100\n",
      "5/5 [==============================] - 0s 32ms/step - loss: 13.8764 - val_loss: 16.3510\n",
      "Epoch 63/100\n",
      "5/5 [==============================] - 0s 26ms/step - loss: 14.0578 - val_loss: 14.3512\n",
      "Epoch 64/100\n",
      "5/5 [==============================] - 0s 25ms/step - loss: 14.1183 - val_loss: 14.9253\n",
      "Epoch 65/100\n",
      "5/5 [==============================] - 0s 27ms/step - loss: 13.8649 - val_loss: 14.6160\n",
      "Epoch 66/100\n",
      "5/5 [==============================] - 0s 23ms/step - loss: 13.8181 - val_loss: 15.4763\n",
      "Epoch 67/100\n",
      "5/5 [==============================] - 0s 21ms/step - loss: 14.6718 - val_loss: 15.7680\n",
      "Epoch 68/100\n",
      "5/5 [==============================] - 0s 25ms/step - loss: 14.7961 - val_loss: 14.8658\n",
      "Epoch 69/100\n",
      "5/5 [==============================] - 0s 23ms/step - loss: 13.7551 - val_loss: 17.1641\n",
      "Epoch 70/100\n",
      "5/5 [==============================] - 0s 22ms/step - loss: 14.6340 - val_loss: 15.5177\n",
      "Epoch 71/100\n",
      "5/5 [==============================] - 0s 23ms/step - loss: 13.5710 - val_loss: 14.9413\n",
      "Epoch 72/100\n",
      "5/5 [==============================] - 0s 24ms/step - loss: 14.1953 - val_loss: 16.2044\n",
      "Epoch 73/100\n",
      "5/5 [==============================] - 0s 23ms/step - loss: 14.1330 - val_loss: 14.6643\n",
      "Epoch 74/100\n",
      "5/5 [==============================] - 0s 23ms/step - loss: 13.6647 - val_loss: 14.1531\n",
      "Epoch 75/100\n",
      "5/5 [==============================] - 0s 23ms/step - loss: 13.3359 - val_loss: 14.3170\n",
      "Epoch 76/100\n",
      "5/5 [==============================] - 0s 24ms/step - loss: 13.3085 - val_loss: 15.8870\n",
      "Epoch 77/100\n",
      "5/5 [==============================] - 0s 22ms/step - loss: 15.0240 - val_loss: 17.1740\n",
      "Epoch 78/100\n",
      "5/5 [==============================] - 0s 23ms/step - loss: 15.3653 - val_loss: 14.0673\n",
      "Epoch 79/100\n",
      "5/5 [==============================] - 0s 21ms/step - loss: 13.4954 - val_loss: 14.9609\n",
      "Epoch 80/100\n",
      "5/5 [==============================] - 0s 25ms/step - loss: 13.7726 - val_loss: 14.3120\n",
      "Epoch 81/100\n",
      "5/5 [==============================] - 0s 33ms/step - loss: 13.6358 - val_loss: 14.0986\n",
      "Epoch 82/100\n",
      "5/5 [==============================] - 0s 26ms/step - loss: 13.1663 - val_loss: 14.7329\n",
      "Epoch 83/100\n",
      "5/5 [==============================] - 0s 21ms/step - loss: 13.2864 - val_loss: 15.2457\n",
      "Epoch 84/100\n",
      "5/5 [==============================] - 0s 22ms/step - loss: 13.3560 - val_loss: 14.5463\n",
      "Epoch 85/100\n",
      "5/5 [==============================] - 0s 25ms/step - loss: 13.2956 - val_loss: 16.0669\n",
      "Epoch 86/100\n",
      "5/5 [==============================] - 0s 43ms/step - loss: 13.4856 - val_loss: 14.7283\n",
      "Epoch 87/100\n",
      "5/5 [==============================] - 0s 26ms/step - loss: 12.9802 - val_loss: 15.2774\n",
      "Epoch 88/100\n",
      "5/5 [==============================] - 0s 21ms/step - loss: 12.7767 - val_loss: 14.0791\n",
      "Epoch 89/100\n",
      "5/5 [==============================] - 0s 21ms/step - loss: 12.6660 - val_loss: 14.0692\n",
      "Epoch 90/100\n",
      "5/5 [==============================] - 0s 21ms/step - loss: 13.0029 - val_loss: 13.9683\n",
      "Epoch 91/100\n",
      "5/5 [==============================] - 0s 21ms/step - loss: 12.8086 - val_loss: 14.5904\n",
      "Epoch 92/100\n",
      "5/5 [==============================] - 0s 21ms/step - loss: 13.2315 - val_loss: 14.6326\n",
      "Epoch 93/100\n",
      "5/5 [==============================] - 0s 22ms/step - loss: 13.9199 - val_loss: 14.9224\n",
      "Epoch 94/100\n",
      "5/5 [==============================] - 0s 29ms/step - loss: 13.6146 - val_loss: 13.7773\n",
      "Epoch 95/100\n",
      "5/5 [==============================] - 0s 21ms/step - loss: 14.3834 - val_loss: 15.0623\n",
      "Epoch 96/100\n",
      "5/5 [==============================] - 0s 23ms/step - loss: 15.1855 - val_loss: 15.3690\n",
      "Epoch 97/100\n",
      "5/5 [==============================] - 0s 22ms/step - loss: 14.1054 - val_loss: 14.5382\n",
      "Epoch 98/100\n",
      "5/5 [==============================] - 0s 22ms/step - loss: 13.5256 - val_loss: 14.4968\n",
      "Epoch 99/100\n",
      "5/5 [==============================] - 0s 22ms/step - loss: 13.5351 - val_loss: 15.0186\n",
      "Epoch 100/100\n",
      "5/5 [==============================] - 0s 24ms/step - loss: 13.3352 - val_loss: 16.6068\n",
      "9/9 [==============================] - 0s 3ms/step\n",
      "Red Accuracy: 81.8305539619812\n",
      "Epoch 1/100\n",
      "5/5 [==============================] - 0s 39ms/step - loss: 55.0943 - val_loss: 59.4533\n",
      "Epoch 2/100\n",
      "5/5 [==============================] - 0s 30ms/step - loss: 40.4120 - val_loss: 21.5829\n",
      "Epoch 3/100\n",
      "5/5 [==============================] - 0s 28ms/step - loss: 20.5625 - val_loss: 17.9475\n",
      "Epoch 4/100\n",
      "5/5 [==============================] - 0s 30ms/step - loss: 18.4550 - val_loss: 16.4232\n",
      "Epoch 5/100\n",
      "5/5 [==============================] - 0s 27ms/step - loss: 18.1059 - val_loss: 15.9477\n",
      "Epoch 6/100\n",
      "5/5 [==============================] - 0s 34ms/step - loss: 17.5067 - val_loss: 17.3822\n",
      "Epoch 7/100\n",
      "5/5 [==============================] - 0s 24ms/step - loss: 16.7055 - val_loss: 15.7271\n",
      "Epoch 8/100\n",
      "5/5 [==============================] - 0s 24ms/step - loss: 16.2536 - val_loss: 16.1429\n",
      "Epoch 9/100\n",
      "5/5 [==============================] - 0s 25ms/step - loss: 16.6715 - val_loss: 15.5701\n",
      "Epoch 10/100\n",
      "5/5 [==============================] - 0s 21ms/step - loss: 15.8650 - val_loss: 15.7073\n",
      "Epoch 11/100\n",
      "5/5 [==============================] - 0s 22ms/step - loss: 15.9805 - val_loss: 16.8566\n",
      "Epoch 12/100\n",
      "5/5 [==============================] - 0s 28ms/step - loss: 16.2206 - val_loss: 16.4548\n",
      "Epoch 13/100\n",
      "5/5 [==============================] - 0s 26ms/step - loss: 16.3637 - val_loss: 15.6915\n",
      "Epoch 14/100\n",
      "5/5 [==============================] - 0s 27ms/step - loss: 16.3323 - val_loss: 18.3945\n",
      "Epoch 15/100\n",
      "5/5 [==============================] - 0s 24ms/step - loss: 18.9552 - val_loss: 16.1724\n",
      "Epoch 16/100\n",
      "5/5 [==============================] - 0s 23ms/step - loss: 17.4789 - val_loss: 17.1695\n",
      "Epoch 17/100\n",
      "5/5 [==============================] - 0s 21ms/step - loss: 17.7428 - val_loss: 24.2052\n",
      "Epoch 18/100\n",
      "5/5 [==============================] - 0s 29ms/step - loss: 18.5292 - val_loss: 17.4226\n",
      "Epoch 19/100\n",
      "5/5 [==============================] - 0s 40ms/step - loss: 17.3039 - val_loss: 16.2771\n",
      "Epoch 20/100\n",
      "5/5 [==============================] - 0s 34ms/step - loss: 16.3086 - val_loss: 15.5342\n",
      "Epoch 21/100\n",
      "5/5 [==============================] - 0s 42ms/step - loss: 15.8817 - val_loss: 15.9228\n",
      "Epoch 22/100\n",
      "5/5 [==============================] - 0s 29ms/step - loss: 15.6572 - val_loss: 17.2728\n",
      "Epoch 23/100\n",
      "5/5 [==============================] - 0s 25ms/step - loss: 16.1051 - val_loss: 17.6822\n",
      "Epoch 24/100\n",
      "5/5 [==============================] - 0s 29ms/step - loss: 16.5142 - val_loss: 17.3958\n",
      "Epoch 25/100\n",
      "5/5 [==============================] - 0s 31ms/step - loss: 16.9055 - val_loss: 15.6102\n",
      "Epoch 26/100\n",
      "5/5 [==============================] - 0s 42ms/step - loss: 16.6349 - val_loss: 16.6322\n",
      "Epoch 27/100\n",
      "5/5 [==============================] - 0s 28ms/step - loss: 16.8662 - val_loss: 16.4879\n",
      "Epoch 28/100\n",
      "5/5 [==============================] - 0s 32ms/step - loss: 16.8697 - val_loss: 16.0202\n",
      "Epoch 29/100\n",
      "5/5 [==============================] - 0s 28ms/step - loss: 15.8701 - val_loss: 16.6063\n",
      "Epoch 30/100\n",
      "5/5 [==============================] - 0s 27ms/step - loss: 15.6732 - val_loss: 15.5341\n",
      "Epoch 31/100\n",
      "5/5 [==============================] - 0s 27ms/step - loss: 15.3225 - val_loss: 15.2784\n",
      "Epoch 32/100\n",
      "5/5 [==============================] - 0s 28ms/step - loss: 15.4152 - val_loss: 15.1641\n",
      "Epoch 33/100\n",
      "5/5 [==============================] - 0s 25ms/step - loss: 15.4418 - val_loss: 15.2502\n",
      "Epoch 34/100\n",
      "5/5 [==============================] - 0s 30ms/step - loss: 15.6989 - val_loss: 15.7875\n",
      "Epoch 35/100\n",
      "5/5 [==============================] - 0s 26ms/step - loss: 15.9226 - val_loss: 15.4021\n",
      "Epoch 36/100\n",
      "5/5 [==============================] - 0s 38ms/step - loss: 15.2872 - val_loss: 16.1101\n",
      "Epoch 37/100\n",
      "5/5 [==============================] - 0s 31ms/step - loss: 15.3761 - val_loss: 16.1781\n",
      "Epoch 38/100\n",
      "5/5 [==============================] - 0s 27ms/step - loss: 15.2392 - val_loss: 15.6914\n",
      "Epoch 39/100\n",
      "5/5 [==============================] - 0s 28ms/step - loss: 15.2495 - val_loss: 17.1335\n",
      "Epoch 40/100\n",
      "5/5 [==============================] - 0s 28ms/step - loss: 16.1541 - val_loss: 15.1986\n",
      "Epoch 41/100\n",
      "5/5 [==============================] - 0s 27ms/step - loss: 16.5948 - val_loss: 15.5693\n",
      "Epoch 42/100\n",
      "5/5 [==============================] - 0s 27ms/step - loss: 15.6643 - val_loss: 15.7443\n",
      "Epoch 43/100\n",
      "5/5 [==============================] - 0s 26ms/step - loss: 16.0641 - val_loss: 15.2732\n",
      "Epoch 44/100\n",
      "5/5 [==============================] - 0s 26ms/step - loss: 16.2491 - val_loss: 18.7399\n",
      "Epoch 45/100\n",
      "5/5 [==============================] - 0s 25ms/step - loss: 16.2518 - val_loss: 15.2120\n",
      "Epoch 46/100\n",
      "5/5 [==============================] - 0s 24ms/step - loss: 15.4618 - val_loss: 15.4139\n",
      "Epoch 47/100\n",
      "5/5 [==============================] - 0s 26ms/step - loss: 15.4846 - val_loss: 15.5084\n",
      "Epoch 48/100\n",
      "5/5 [==============================] - 0s 26ms/step - loss: 15.9170 - val_loss: 15.4868\n",
      "Epoch 49/100\n",
      "5/5 [==============================] - 0s 26ms/step - loss: 15.9400 - val_loss: 18.6809\n",
      "Epoch 50/100\n",
      "5/5 [==============================] - 0s 24ms/step - loss: 16.3406 - val_loss: 15.2439\n",
      "Epoch 51/100\n",
      "5/5 [==============================] - 0s 26ms/step - loss: 15.0422 - val_loss: 15.2445\n",
      "Epoch 52/100\n",
      "5/5 [==============================] - 0s 37ms/step - loss: 14.9832 - val_loss: 14.9927\n",
      "Epoch 53/100\n",
      "5/5 [==============================] - 0s 32ms/step - loss: 15.0637 - val_loss: 15.0567\n",
      "Epoch 54/100\n",
      "5/5 [==============================] - 0s 28ms/step - loss: 15.0819 - val_loss: 14.9411\n",
      "Epoch 55/100\n",
      "5/5 [==============================] - 0s 25ms/step - loss: 14.9345 - val_loss: 15.2638\n",
      "Epoch 56/100\n",
      "5/5 [==============================] - 0s 28ms/step - loss: 15.3615 - val_loss: 15.0673\n",
      "Epoch 57/100\n",
      "5/5 [==============================] - 0s 27ms/step - loss: 14.9816 - val_loss: 15.1281\n",
      "Epoch 58/100\n",
      "5/5 [==============================] - 0s 29ms/step - loss: 15.0994 - val_loss: 18.4556\n",
      "Epoch 59/100\n",
      "5/5 [==============================] - 0s 27ms/step - loss: 15.8565 - val_loss: 15.6425\n",
      "Epoch 60/100\n",
      "5/5 [==============================] - 0s 29ms/step - loss: 15.1980 - val_loss: 15.2446\n",
      "Epoch 61/100\n",
      "5/5 [==============================] - 0s 24ms/step - loss: 15.4966 - val_loss: 14.9644\n",
      "Epoch 62/100\n",
      "5/5 [==============================] - 0s 27ms/step - loss: 15.4031 - val_loss: 14.9767\n",
      "Epoch 63/100\n",
      "5/5 [==============================] - 0s 31ms/step - loss: 15.0656 - val_loss: 15.1859\n",
      "Epoch 64/100\n",
      "5/5 [==============================] - 0s 29ms/step - loss: 15.3937 - val_loss: 14.6184\n",
      "Epoch 65/100\n",
      "5/5 [==============================] - 0s 29ms/step - loss: 14.8030 - val_loss: 14.7331\n",
      "Epoch 66/100\n",
      "5/5 [==============================] - 0s 27ms/step - loss: 14.9714 - val_loss: 14.8120\n",
      "Epoch 67/100\n",
      "5/5 [==============================] - 0s 47ms/step - loss: 15.0140 - val_loss: 14.7875\n",
      "Epoch 68/100\n",
      "5/5 [==============================] - 0s 27ms/step - loss: 14.8986 - val_loss: 15.8372\n",
      "Epoch 69/100\n",
      "5/5 [==============================] - 0s 29ms/step - loss: 15.0285 - val_loss: 15.4331\n",
      "Epoch 70/100\n",
      "5/5 [==============================] - 0s 27ms/step - loss: 14.7112 - val_loss: 14.6830\n",
      "Epoch 71/100\n",
      "5/5 [==============================] - 0s 25ms/step - loss: 14.8961 - val_loss: 17.1768\n",
      "Epoch 72/100\n",
      "5/5 [==============================] - 0s 35ms/step - loss: 16.2357 - val_loss: 15.4220\n",
      "Epoch 73/100\n",
      "5/5 [==============================] - 0s 26ms/step - loss: 16.4737 - val_loss: 15.1115\n",
      "Epoch 74/100\n",
      "5/5 [==============================] - 0s 27ms/step - loss: 15.2849 - val_loss: 15.2535\n",
      "Epoch 75/100\n",
      "5/5 [==============================] - 0s 29ms/step - loss: 14.8294 - val_loss: 15.2446\n",
      "Epoch 76/100\n",
      "5/5 [==============================] - 0s 26ms/step - loss: 15.4929 - val_loss: 16.3637\n",
      "Epoch 77/100\n",
      "5/5 [==============================] - 0s 25ms/step - loss: 15.4000 - val_loss: 15.4703\n",
      "Epoch 78/100\n",
      "5/5 [==============================] - 0s 25ms/step - loss: 14.8945 - val_loss: 15.4879\n",
      "Epoch 79/100\n",
      "5/5 [==============================] - 0s 33ms/step - loss: 15.0043 - val_loss: 15.2867\n",
      "Epoch 80/100\n",
      "5/5 [==============================] - 0s 26ms/step - loss: 14.7979 - val_loss: 15.7622\n",
      "Epoch 81/100\n",
      "5/5 [==============================] - 0s 25ms/step - loss: 15.1230 - val_loss: 15.0168\n",
      "Epoch 82/100\n",
      "5/5 [==============================] - 0s 28ms/step - loss: 14.8157 - val_loss: 15.8454\n",
      "Epoch 83/100\n",
      "5/5 [==============================] - 0s 28ms/step - loss: 15.2291 - val_loss: 15.2702\n",
      "Epoch 84/100\n",
      "5/5 [==============================] - 0s 24ms/step - loss: 14.9843 - val_loss: 14.9673\n",
      "Epoch 85/100\n",
      "5/5 [==============================] - 0s 28ms/step - loss: 14.5955 - val_loss: 14.4799\n",
      "Epoch 86/100\n",
      "5/5 [==============================] - 0s 25ms/step - loss: 14.7164 - val_loss: 14.8022\n",
      "Epoch 87/100\n",
      "5/5 [==============================] - 0s 26ms/step - loss: 14.9689 - val_loss: 15.3131\n",
      "Epoch 88/100\n",
      "5/5 [==============================] - 0s 24ms/step - loss: 15.9625 - val_loss: 14.6532\n",
      "Epoch 89/100\n",
      "5/5 [==============================] - 0s 28ms/step - loss: 14.9120 - val_loss: 14.2898\n",
      "Epoch 90/100\n",
      "5/5 [==============================] - 0s 25ms/step - loss: 14.8678 - val_loss: 15.6955\n",
      "Epoch 91/100\n",
      "5/5 [==============================] - 0s 36ms/step - loss: 15.6099 - val_loss: 15.2566\n",
      "Epoch 92/100\n",
      "5/5 [==============================] - 0s 26ms/step - loss: 15.5692 - val_loss: 15.5169\n",
      "Epoch 93/100\n",
      "5/5 [==============================] - 0s 25ms/step - loss: 15.0490 - val_loss: 15.1092\n",
      "Epoch 94/100\n",
      "5/5 [==============================] - 0s 25ms/step - loss: 15.1692 - val_loss: 16.9668\n",
      "Epoch 95/100\n",
      "5/5 [==============================] - 0s 37ms/step - loss: 15.7854 - val_loss: 14.7722\n",
      "Epoch 96/100\n",
      "5/5 [==============================] - 0s 31ms/step - loss: 15.1666 - val_loss: 14.8137\n",
      "Epoch 97/100\n",
      "5/5 [==============================] - 0s 25ms/step - loss: 14.8060 - val_loss: 14.3461\n",
      "Epoch 98/100\n",
      "5/5 [==============================] - 0s 27ms/step - loss: 14.5683 - val_loss: 15.0848\n",
      "Epoch 99/100\n",
      "5/5 [==============================] - 0s 29ms/step - loss: 14.8838 - val_loss: 14.5658\n",
      "Epoch 100/100\n",
      "5/5 [==============================] - 0s 24ms/step - loss: 14.5079 - val_loss: 14.3109\n",
      "9/9 [==============================] - 0s 4ms/step\n",
      "Green Accuracy: 85.92077688781423\n",
      "Epoch 1/100\n",
      "5/5 [==============================] - 0s 38ms/step - loss: 197.0678 - val_loss: 67.2617\n",
      "Epoch 2/100\n",
      "5/5 [==============================] - 0s 27ms/step - loss: 58.4758 - val_loss: 55.6148\n",
      "Epoch 3/100\n",
      "5/5 [==============================] - 0s 28ms/step - loss: 46.1245 - val_loss: 38.9726\n",
      "Epoch 4/100\n",
      "5/5 [==============================] - 0s 27ms/step - loss: 32.1580 - val_loss: 21.4773\n",
      "Epoch 5/100\n",
      "5/5 [==============================] - 0s 27ms/step - loss: 20.1437 - val_loss: 19.0864\n",
      "Epoch 6/100\n",
      "5/5 [==============================] - 0s 32ms/step - loss: 17.4537 - val_loss: 16.5849\n",
      "Epoch 7/100\n",
      "5/5 [==============================] - 0s 27ms/step - loss: 16.2797 - val_loss: 16.5603\n",
      "Epoch 8/100\n",
      "5/5 [==============================] - 0s 27ms/step - loss: 15.9538 - val_loss: 16.1440\n",
      "Epoch 9/100\n",
      "5/5 [==============================] - 0s 27ms/step - loss: 15.7373 - val_loss: 15.9424\n",
      "Epoch 10/100\n",
      "5/5 [==============================] - 0s 27ms/step - loss: 15.7532 - val_loss: 18.0652\n",
      "Epoch 11/100\n",
      "5/5 [==============================] - 0s 25ms/step - loss: 15.7811 - val_loss: 16.9300\n",
      "Epoch 12/100\n",
      "5/5 [==============================] - 0s 26ms/step - loss: 16.1608 - val_loss: 15.8129\n",
      "Epoch 13/100\n",
      "5/5 [==============================] - 0s 27ms/step - loss: 15.5146 - val_loss: 16.2445\n",
      "Epoch 14/100\n",
      "5/5 [==============================] - 0s 27ms/step - loss: 15.5277 - val_loss: 15.9291\n",
      "Epoch 15/100\n",
      "5/5 [==============================] - 0s 24ms/step - loss: 15.3912 - val_loss: 15.8019\n",
      "Epoch 16/100\n",
      "5/5 [==============================] - 0s 24ms/step - loss: 15.3535 - val_loss: 15.8268\n",
      "Epoch 17/100\n",
      "5/5 [==============================] - 0s 41ms/step - loss: 15.2753 - val_loss: 16.4910\n",
      "Epoch 18/100\n",
      "5/5 [==============================] - 0s 24ms/step - loss: 15.3205 - val_loss: 16.2815\n",
      "Epoch 19/100\n",
      "5/5 [==============================] - 0s 25ms/step - loss: 15.2759 - val_loss: 16.0157\n",
      "Epoch 20/100\n",
      "5/5 [==============================] - 0s 25ms/step - loss: 15.3588 - val_loss: 15.8090\n",
      "Epoch 21/100\n",
      "5/5 [==============================] - 0s 26ms/step - loss: 15.2830 - val_loss: 16.1465\n",
      "Epoch 22/100\n",
      "5/5 [==============================] - 0s 25ms/step - loss: 15.6167 - val_loss: 16.2679\n",
      "Epoch 23/100\n",
      "5/5 [==============================] - 0s 27ms/step - loss: 15.4265 - val_loss: 17.1982\n",
      "Epoch 24/100\n",
      "5/5 [==============================] - 0s 26ms/step - loss: 15.7915 - val_loss: 17.3285\n",
      "Epoch 25/100\n",
      "5/5 [==============================] - 0s 26ms/step - loss: 15.9310 - val_loss: 17.2532\n",
      "Epoch 26/100\n",
      "5/5 [==============================] - 0s 24ms/step - loss: 15.7460 - val_loss: 16.0056\n",
      "Epoch 27/100\n",
      "5/5 [==============================] - 0s 25ms/step - loss: 15.2814 - val_loss: 15.8862\n",
      "Epoch 28/100\n",
      "5/5 [==============================] - 0s 39ms/step - loss: 15.3238 - val_loss: 16.2126\n",
      "Epoch 29/100\n",
      "5/5 [==============================] - 0s 27ms/step - loss: 15.1762 - val_loss: 16.4150\n",
      "Epoch 30/100\n",
      "5/5 [==============================] - 0s 24ms/step - loss: 15.3695 - val_loss: 15.7178\n",
      "Epoch 31/100\n",
      "5/5 [==============================] - 0s 25ms/step - loss: 15.0302 - val_loss: 16.6234\n",
      "Epoch 32/100\n",
      "5/5 [==============================] - 0s 26ms/step - loss: 15.2378 - val_loss: 15.6803\n",
      "Epoch 33/100\n",
      "5/5 [==============================] - 0s 24ms/step - loss: 15.1278 - val_loss: 15.7718\n",
      "Epoch 34/100\n",
      "5/5 [==============================] - 0s 27ms/step - loss: 14.9214 - val_loss: 15.7264\n",
      "Epoch 35/100\n",
      "5/5 [==============================] - 0s 24ms/step - loss: 14.8779 - val_loss: 16.3522\n",
      "Epoch 36/100\n",
      "5/5 [==============================] - 0s 27ms/step - loss: 15.3070 - val_loss: 15.7670\n",
      "Epoch 37/100\n",
      "5/5 [==============================] - 0s 26ms/step - loss: 15.2632 - val_loss: 15.7194\n",
      "Epoch 38/100\n",
      "5/5 [==============================] - 0s 35ms/step - loss: 15.1900 - val_loss: 17.2206\n",
      "Epoch 39/100\n",
      "5/5 [==============================] - 0s 27ms/step - loss: 16.1592 - val_loss: 17.0928\n",
      "Epoch 40/100\n",
      "5/5 [==============================] - 0s 39ms/step - loss: 15.8349 - val_loss: 16.4987\n",
      "Epoch 41/100\n",
      "5/5 [==============================] - 0s 28ms/step - loss: 16.1681 - val_loss: 19.3128\n",
      "Epoch 42/100\n",
      "5/5 [==============================] - 0s 25ms/step - loss: 17.8579 - val_loss: 17.8650\n",
      "Epoch 43/100\n",
      "5/5 [==============================] - 0s 26ms/step - loss: 15.9109 - val_loss: 15.5927\n",
      "Epoch 44/100\n",
      "5/5 [==============================] - 0s 24ms/step - loss: 15.0323 - val_loss: 15.9862\n",
      "Epoch 45/100\n",
      "5/5 [==============================] - 0s 25ms/step - loss: 14.8354 - val_loss: 15.6789\n",
      "Epoch 46/100\n",
      "5/5 [==============================] - 0s 24ms/step - loss: 14.9099 - val_loss: 15.7426\n",
      "Epoch 47/100\n",
      "5/5 [==============================] - 0s 25ms/step - loss: 14.8448 - val_loss: 15.8672\n",
      "Epoch 48/100\n",
      "5/5 [==============================] - 0s 26ms/step - loss: 14.8425 - val_loss: 15.7606\n",
      "Epoch 49/100\n",
      "5/5 [==============================] - 0s 26ms/step - loss: 14.8407 - val_loss: 15.8962\n",
      "Epoch 50/100\n",
      "5/5 [==============================] - 0s 40ms/step - loss: 14.9568 - val_loss: 15.7832\n",
      "Epoch 51/100\n",
      "5/5 [==============================] - 0s 26ms/step - loss: 15.1956 - val_loss: 16.1476\n",
      "Epoch 52/100\n",
      "5/5 [==============================] - 0s 25ms/step - loss: 15.1465 - val_loss: 16.7923\n",
      "Epoch 53/100\n",
      "5/5 [==============================] - 0s 25ms/step - loss: 15.4726 - val_loss: 16.4625\n",
      "Epoch 54/100\n",
      "5/5 [==============================] - 0s 25ms/step - loss: 15.3752 - val_loss: 15.6125\n",
      "Epoch 55/100\n",
      "5/5 [==============================] - 0s 25ms/step - loss: 14.8216 - val_loss: 16.8059\n",
      "Epoch 56/100\n",
      "5/5 [==============================] - 0s 24ms/step - loss: 14.9793 - val_loss: 15.3995\n",
      "Epoch 57/100\n",
      "5/5 [==============================] - 0s 28ms/step - loss: 14.8496 - val_loss: 15.6151\n",
      "Epoch 58/100\n",
      "5/5 [==============================] - 0s 24ms/step - loss: 14.7963 - val_loss: 16.1873\n",
      "Epoch 59/100\n",
      "5/5 [==============================] - 0s 43ms/step - loss: 15.1784 - val_loss: 16.6636\n",
      "Epoch 60/100\n",
      "5/5 [==============================] - 0s 27ms/step - loss: 14.8450 - val_loss: 15.6413\n",
      "Epoch 61/100\n",
      "5/5 [==============================] - 0s 25ms/step - loss: 14.7758 - val_loss: 15.8671\n",
      "Epoch 62/100\n",
      "5/5 [==============================] - 0s 25ms/step - loss: 14.6983 - val_loss: 16.2230\n",
      "Epoch 63/100\n",
      "5/5 [==============================] - 0s 25ms/step - loss: 14.8871 - val_loss: 15.5993\n",
      "Epoch 64/100\n",
      "5/5 [==============================] - 0s 25ms/step - loss: 14.7124 - val_loss: 15.4277\n",
      "Epoch 65/100\n",
      "5/5 [==============================] - 0s 23ms/step - loss: 14.6503 - val_loss: 15.6201\n",
      "Epoch 66/100\n",
      "5/5 [==============================] - 0s 23ms/step - loss: 14.6289 - val_loss: 15.5240\n",
      "Epoch 67/100\n",
      "5/5 [==============================] - 0s 26ms/step - loss: 14.6571 - val_loss: 15.8140\n",
      "Epoch 68/100\n",
      "5/5 [==============================] - 0s 24ms/step - loss: 14.5184 - val_loss: 16.2865\n",
      "Epoch 69/100\n",
      "5/5 [==============================] - 0s 26ms/step - loss: 14.9479 - val_loss: 16.3780\n",
      "Epoch 70/100\n",
      "5/5 [==============================] - 0s 37ms/step - loss: 15.0342 - val_loss: 16.4392\n",
      "Epoch 71/100\n",
      "5/5 [==============================] - 0s 28ms/step - loss: 15.8983 - val_loss: 15.4712\n",
      "Epoch 72/100\n",
      "5/5 [==============================] - 0s 23ms/step - loss: 15.0550 - val_loss: 16.1811\n",
      "Epoch 73/100\n",
      "5/5 [==============================] - 0s 25ms/step - loss: 15.0690 - val_loss: 15.7922\n",
      "Epoch 74/100\n",
      "5/5 [==============================] - 0s 24ms/step - loss: 14.8784 - val_loss: 15.8533\n",
      "Epoch 75/100\n",
      "5/5 [==============================] - 0s 25ms/step - loss: 14.6432 - val_loss: 15.9310\n",
      "Epoch 76/100\n",
      "5/5 [==============================] - 0s 26ms/step - loss: 14.6328 - val_loss: 15.3769\n",
      "Epoch 77/100\n",
      "5/5 [==============================] - 0s 24ms/step - loss: 14.5149 - val_loss: 15.4161\n",
      "Epoch 78/100\n",
      "5/5 [==============================] - 0s 25ms/step - loss: 14.8206 - val_loss: 15.7464\n",
      "Epoch 79/100\n",
      "5/5 [==============================] - 0s 25ms/step - loss: 14.8940 - val_loss: 15.9173\n",
      "Epoch 80/100\n",
      "5/5 [==============================] - 0s 24ms/step - loss: 14.8084 - val_loss: 15.6287\n",
      "Epoch 81/100\n",
      "5/5 [==============================] - 0s 25ms/step - loss: 14.4679 - val_loss: 15.4501\n",
      "Epoch 82/100\n",
      "5/5 [==============================] - 0s 28ms/step - loss: 14.4606 - val_loss: 15.5709\n",
      "Epoch 83/100\n",
      "5/5 [==============================] - 0s 40ms/step - loss: 14.6293 - val_loss: 15.5710\n",
      "Epoch 84/100\n",
      "5/5 [==============================] - 0s 27ms/step - loss: 14.7003 - val_loss: 15.4107\n",
      "Epoch 85/100\n",
      "5/5 [==============================] - 0s 26ms/step - loss: 14.9795 - val_loss: 17.2540\n",
      "Epoch 86/100\n",
      "5/5 [==============================] - 0s 26ms/step - loss: 15.5437 - val_loss: 15.4432\n",
      "Epoch 87/100\n",
      "5/5 [==============================] - 0s 24ms/step - loss: 14.6274 - val_loss: 15.6370\n",
      "Epoch 88/100\n",
      "5/5 [==============================] - 0s 24ms/step - loss: 14.7162 - val_loss: 15.9544\n",
      "Epoch 89/100\n",
      "5/5 [==============================] - 0s 26ms/step - loss: 15.0673 - val_loss: 15.3665\n",
      "Epoch 90/100\n",
      "5/5 [==============================] - 0s 25ms/step - loss: 14.9611 - val_loss: 16.1233\n",
      "Epoch 91/100\n",
      "5/5 [==============================] - 0s 25ms/step - loss: 14.8096 - val_loss: 15.8853\n",
      "Epoch 92/100\n",
      "5/5 [==============================] - 0s 25ms/step - loss: 14.7179 - val_loss: 15.2772\n",
      "Epoch 93/100\n",
      "5/5 [==============================] - 0s 23ms/step - loss: 14.6656 - val_loss: 15.3150\n",
      "Epoch 94/100\n",
      "5/5 [==============================] - 0s 34ms/step - loss: 14.5236 - val_loss: 15.7020\n",
      "Epoch 95/100\n",
      "5/5 [==============================] - 0s 44ms/step - loss: 14.4699 - val_loss: 15.6601\n",
      "Epoch 96/100\n",
      "5/5 [==============================] - 0s 25ms/step - loss: 14.5587 - val_loss: 15.6497\n",
      "Epoch 97/100\n",
      "5/5 [==============================] - 0s 25ms/step - loss: 14.4419 - val_loss: 15.8790\n",
      "Epoch 98/100\n",
      "5/5 [==============================] - 0s 23ms/step - loss: 14.5478 - val_loss: 15.3815\n",
      "Epoch 99/100\n",
      "5/5 [==============================] - 0s 33ms/step - loss: 14.4998 - val_loss: 16.0464\n",
      "Epoch 100/100\n",
      "5/5 [==============================] - 0s 25ms/step - loss: 14.5629 - val_loss: 15.4522\n",
      "9/9 [==============================] - 0s 3ms/step\n",
      "Blue Accuracy: 84.46976026834517\n"
     ]
    }
   ],
   "source": [
    "model.fit(rx_train, ry_train, epochs=100, batch_size=200,validation_data=(rx_test, ry_test),callbacks=[EarlyStopping(monitor='val_loss', patience=50, restore_best_weights=True)])\n",
    "print('Red Accuracy: ' + str(100 - (mean_absolute_percentage_error(model.predict(rx_test), ry_test)*100)) )\n",
    "model.fit(gx_train, gy_train, epochs=100, batch_size=200,validation_data=(gx_test, gy_test),callbacks=[EarlyStopping(monitor='val_loss', patience=50, restore_best_weights=True)])\n",
    "print('Green Accuracy: ' + str(100 - (mean_absolute_percentage_error(model.predict(gx_test), gy_test)*100)) )\n",
    "model.fit(bx_train, by_train, epochs=100, batch_size=200,validation_data=(bx_test, by_test),callbacks=[EarlyStopping(monitor='val_loss', patience=50, restore_best_weights=True)])\n",
    "print('Blue Accuracy: ' + str(100 - (mean_absolute_percentage_error(model.predict(bx_test), by_test)*100)) )"
   ]
  },
  {
   "cell_type": "markdown",
   "metadata": {},
   "source": [
    "<p>Red: 81.8% Accuracy</p>\n",
    "<p>Green: 85.9% Accuracy</p>\n",
    "<p>Blue: 84.5 % Accuracy</p>"
   ]
  },
  {
   "cell_type": "code",
   "execution_count": 333,
   "metadata": {},
   "outputs": [],
   "source": [
    "model = Sequential()\n",
    "model.add(Dense(1024, input_dim=768, activation='relu'))\n",
    "model.add(Dense(2048, activation='relu'))\n",
    "model.add(Dense(1, activation='linear'))\n",
    "model.compile(loss='mae', optimizer='adam')"
   ]
  },
  {
   "cell_type": "code",
   "execution_count": 334,
   "metadata": {},
   "outputs": [
    {
     "name": "stdout",
     "output_type": "stream",
     "text": [
      "Epoch 1/100\n",
      "3/3 [==============================] - 0s 78ms/step - loss: 29982.6445 - val_loss: 20859.5430\n",
      "Epoch 2/100\n",
      "3/3 [==============================] - 0s 35ms/step - loss: 11825.2012 - val_loss: 14775.3066\n",
      "Epoch 3/100\n",
      "3/3 [==============================] - 0s 37ms/step - loss: 13752.8213 - val_loss: 5369.1909\n",
      "Epoch 4/100\n",
      "3/3 [==============================] - 0s 40ms/step - loss: 3308.0757 - val_loss: 3290.3301\n",
      "Epoch 5/100\n",
      "3/3 [==============================] - 0s 59ms/step - loss: 3234.5691 - val_loss: 1572.6920\n",
      "Epoch 6/100\n",
      "3/3 [==============================] - 0s 38ms/step - loss: 981.4991 - val_loss: 1116.0574\n",
      "Epoch 7/100\n",
      "3/3 [==============================] - 0s 36ms/step - loss: 1100.3143 - val_loss: 477.1696\n",
      "Epoch 8/100\n",
      "3/3 [==============================] - 0s 36ms/step - loss: 265.9419 - val_loss: 562.7139\n",
      "Epoch 9/100\n",
      "3/3 [==============================] - 0s 40ms/step - loss: 553.5836 - val_loss: 274.5418\n",
      "Epoch 10/100\n",
      "3/3 [==============================] - 0s 37ms/step - loss: 170.0085 - val_loss: 221.2878\n",
      "Epoch 11/100\n",
      "3/3 [==============================] - 0s 37ms/step - loss: 209.3018 - val_loss: 42.0817\n",
      "Epoch 12/100\n",
      "3/3 [==============================] - 0s 36ms/step - loss: 63.2437 - val_loss: 114.6152\n",
      "Epoch 13/100\n",
      "3/3 [==============================] - 0s 35ms/step - loss: 103.3050 - val_loss: 46.4416\n",
      "Epoch 14/100\n",
      "3/3 [==============================] - 0s 33ms/step - loss: 43.5476 - val_loss: 53.8031\n",
      "Epoch 15/100\n",
      "3/3 [==============================] - 0s 33ms/step - loss: 50.7066 - val_loss: 42.5891\n",
      "Epoch 16/100\n",
      "3/3 [==============================] - 0s 38ms/step - loss: 36.5893 - val_loss: 28.1168\n",
      "Epoch 17/100\n",
      "3/3 [==============================] - 0s 36ms/step - loss: 27.1750 - val_loss: 21.0959\n",
      "Epoch 18/100\n",
      "3/3 [==============================] - 0s 34ms/step - loss: 21.3113 - val_loss: 25.8940\n",
      "Epoch 19/100\n",
      "3/3 [==============================] - 0s 41ms/step - loss: 22.9925 - val_loss: 20.8147\n",
      "Epoch 20/100\n",
      "3/3 [==============================] - 0s 35ms/step - loss: 17.9424 - val_loss: 18.0179\n",
      "Epoch 21/100\n",
      "3/3 [==============================] - 0s 36ms/step - loss: 18.4610 - val_loss: 21.1465\n",
      "Epoch 22/100\n",
      "3/3 [==============================] - 0s 39ms/step - loss: 18.2241 - val_loss: 17.5571\n",
      "Epoch 23/100\n",
      "3/3 [==============================] - 0s 37ms/step - loss: 16.5040 - val_loss: 15.6414\n",
      "Epoch 24/100\n",
      "3/3 [==============================] - 0s 48ms/step - loss: 15.4853 - val_loss: 15.9798\n",
      "Epoch 25/100\n",
      "3/3 [==============================] - 0s 38ms/step - loss: 16.2128 - val_loss: 15.4126\n",
      "Epoch 26/100\n",
      "3/3 [==============================] - 0s 36ms/step - loss: 15.1350 - val_loss: 15.4365\n",
      "Epoch 27/100\n",
      "3/3 [==============================] - 0s 36ms/step - loss: 15.2847 - val_loss: 16.8585\n",
      "Epoch 28/100\n",
      "3/3 [==============================] - 0s 36ms/step - loss: 15.1478 - val_loss: 14.8014\n",
      "Epoch 29/100\n",
      "3/3 [==============================] - 0s 37ms/step - loss: 14.5837 - val_loss: 15.0038\n",
      "Epoch 30/100\n",
      "3/3 [==============================] - 0s 39ms/step - loss: 14.6601 - val_loss: 17.2440\n",
      "Epoch 31/100\n",
      "3/3 [==============================] - 0s 37ms/step - loss: 15.0585 - val_loss: 17.2354\n",
      "Epoch 32/100\n",
      "3/3 [==============================] - 0s 36ms/step - loss: 15.4548 - val_loss: 17.2071\n",
      "Epoch 33/100\n",
      "3/3 [==============================] - 0s 37ms/step - loss: 15.1795 - val_loss: 15.1141\n",
      "Epoch 34/100\n",
      "3/3 [==============================] - 0s 34ms/step - loss: 14.9286 - val_loss: 15.2383\n",
      "Epoch 35/100\n",
      "3/3 [==============================] - 0s 35ms/step - loss: 14.6522 - val_loss: 18.3731\n",
      "Epoch 36/100\n",
      "3/3 [==============================] - 0s 35ms/step - loss: 15.5974 - val_loss: 14.9089\n",
      "Epoch 37/100\n",
      "3/3 [==============================] - 0s 37ms/step - loss: 14.5396 - val_loss: 14.6720\n",
      "Epoch 38/100\n",
      "3/3 [==============================] - 0s 37ms/step - loss: 13.8781 - val_loss: 15.4224\n",
      "Epoch 39/100\n",
      "3/3 [==============================] - 0s 32ms/step - loss: 14.1490 - val_loss: 16.7882\n",
      "Epoch 40/100\n",
      "3/3 [==============================] - 0s 36ms/step - loss: 14.9066 - val_loss: 14.8750\n",
      "Epoch 41/100\n",
      "3/3 [==============================] - 0s 33ms/step - loss: 14.1215 - val_loss: 15.8840\n",
      "Epoch 42/100\n",
      "3/3 [==============================] - 0s 59ms/step - loss: 14.5370 - val_loss: 15.7077\n",
      "Epoch 43/100\n",
      "3/3 [==============================] - 0s 36ms/step - loss: 14.8638 - val_loss: 15.3180\n",
      "Epoch 44/100\n",
      "3/3 [==============================] - 0s 37ms/step - loss: 14.5211 - val_loss: 16.9409\n",
      "Epoch 45/100\n",
      "3/3 [==============================] - 0s 41ms/step - loss: 14.4890 - val_loss: 15.9806\n",
      "Epoch 46/100\n",
      "3/3 [==============================] - 0s 39ms/step - loss: 15.3293 - val_loss: 14.5455\n",
      "Epoch 47/100\n",
      "3/3 [==============================] - 0s 35ms/step - loss: 14.2474 - val_loss: 15.3718\n",
      "Epoch 48/100\n",
      "3/3 [==============================] - 0s 41ms/step - loss: 14.5220 - val_loss: 19.1206\n",
      "Epoch 49/100\n",
      "3/3 [==============================] - 0s 39ms/step - loss: 15.8174 - val_loss: 14.8957\n",
      "Epoch 50/100\n",
      "3/3 [==============================] - 0s 42ms/step - loss: 14.3336 - val_loss: 14.5444\n",
      "Epoch 51/100\n",
      "3/3 [==============================] - 0s 41ms/step - loss: 14.4271 - val_loss: 15.2077\n",
      "Epoch 52/100\n",
      "3/3 [==============================] - 0s 37ms/step - loss: 14.0817 - val_loss: 14.0169\n",
      "Epoch 53/100\n",
      "3/3 [==============================] - 0s 33ms/step - loss: 13.3861 - val_loss: 16.5939\n",
      "Epoch 54/100\n",
      "3/3 [==============================] - 0s 34ms/step - loss: 13.9714 - val_loss: 14.4273\n",
      "Epoch 55/100\n",
      "3/3 [==============================] - 0s 33ms/step - loss: 13.4396 - val_loss: 14.6269\n",
      "Epoch 56/100\n",
      "3/3 [==============================] - 0s 35ms/step - loss: 14.1353 - val_loss: 15.1391\n",
      "Epoch 57/100\n",
      "3/3 [==============================] - 0s 37ms/step - loss: 13.4790 - val_loss: 15.9028\n",
      "Epoch 58/100\n",
      "3/3 [==============================] - 0s 37ms/step - loss: 14.6306 - val_loss: 18.6919\n",
      "Epoch 59/100\n",
      "3/3 [==============================] - 0s 54ms/step - loss: 15.3696 - val_loss: 15.5204\n",
      "Epoch 60/100\n",
      "3/3 [==============================] - 0s 38ms/step - loss: 14.9083 - val_loss: 14.9021\n",
      "Epoch 61/100\n",
      "3/3 [==============================] - 0s 46ms/step - loss: 14.8171 - val_loss: 21.5449\n",
      "Epoch 62/100\n",
      "3/3 [==============================] - 0s 38ms/step - loss: 18.3165 - val_loss: 17.8078\n",
      "Epoch 63/100\n",
      "3/3 [==============================] - 0s 36ms/step - loss: 15.4973 - val_loss: 16.0078\n",
      "Epoch 64/100\n",
      "3/3 [==============================] - 0s 36ms/step - loss: 15.1804 - val_loss: 14.9970\n",
      "Epoch 65/100\n",
      "3/3 [==============================] - 0s 36ms/step - loss: 14.8537 - val_loss: 14.3974\n",
      "Epoch 66/100\n",
      "3/3 [==============================] - 0s 33ms/step - loss: 14.3363 - val_loss: 15.7676\n",
      "Epoch 67/100\n",
      "3/3 [==============================] - 0s 38ms/step - loss: 14.3702 - val_loss: 15.1374\n",
      "Epoch 68/100\n",
      "3/3 [==============================] - 0s 39ms/step - loss: 14.2026 - val_loss: 15.3848\n",
      "Epoch 69/100\n",
      "3/3 [==============================] - 0s 41ms/step - loss: 14.2821 - val_loss: 13.9363\n",
      "Epoch 70/100\n",
      "3/3 [==============================] - 0s 36ms/step - loss: 14.3278 - val_loss: 16.3227\n",
      "Epoch 71/100\n",
      "3/3 [==============================] - 0s 36ms/step - loss: 14.5152 - val_loss: 16.2303\n",
      "Epoch 72/100\n",
      "3/3 [==============================] - 0s 37ms/step - loss: 15.1110 - val_loss: 16.2179\n",
      "Epoch 73/100\n",
      "3/3 [==============================] - 0s 35ms/step - loss: 14.0070 - val_loss: 15.3020\n",
      "Epoch 74/100\n",
      "3/3 [==============================] - 0s 36ms/step - loss: 14.2683 - val_loss: 15.1708\n",
      "Epoch 75/100\n",
      "3/3 [==============================] - 0s 37ms/step - loss: 13.8281 - val_loss: 15.9716\n",
      "Epoch 76/100\n",
      "3/3 [==============================] - 0s 48ms/step - loss: 13.9251 - val_loss: 14.5917\n",
      "Epoch 77/100\n",
      "3/3 [==============================] - 0s 37ms/step - loss: 13.8716 - val_loss: 16.9715\n",
      "Epoch 78/100\n",
      "3/3 [==============================] - 0s 36ms/step - loss: 14.3465 - val_loss: 14.7396\n",
      "Epoch 79/100\n",
      "3/3 [==============================] - 0s 39ms/step - loss: 14.4824 - val_loss: 16.6639\n",
      "Epoch 80/100\n",
      "3/3 [==============================] - 0s 35ms/step - loss: 15.7060 - val_loss: 18.2548\n",
      "Epoch 81/100\n",
      "3/3 [==============================] - 0s 39ms/step - loss: 15.4330 - val_loss: 13.9657\n",
      "Epoch 82/100\n",
      "3/3 [==============================] - 0s 39ms/step - loss: 14.0387 - val_loss: 14.3217\n",
      "Epoch 83/100\n",
      "3/3 [==============================] - 0s 34ms/step - loss: 13.8558 - val_loss: 15.8050\n",
      "Epoch 84/100\n",
      "3/3 [==============================] - 0s 35ms/step - loss: 14.2549 - val_loss: 14.2633\n",
      "Epoch 85/100\n",
      "3/3 [==============================] - 0s 34ms/step - loss: 14.0594 - val_loss: 17.5423\n",
      "Epoch 86/100\n",
      "3/3 [==============================] - 0s 40ms/step - loss: 15.0068 - val_loss: 15.4641\n",
      "Epoch 87/100\n",
      "3/3 [==============================] - 0s 37ms/step - loss: 14.9356 - val_loss: 17.5644\n",
      "Epoch 88/100\n",
      "3/3 [==============================] - 0s 35ms/step - loss: 16.1936 - val_loss: 19.9548\n",
      "Epoch 89/100\n",
      "3/3 [==============================] - 0s 33ms/step - loss: 16.2101 - val_loss: 16.4345\n",
      "Epoch 90/100\n",
      "3/3 [==============================] - 0s 35ms/step - loss: 15.7970 - val_loss: 15.1238\n",
      "Epoch 91/100\n",
      "3/3 [==============================] - 0s 36ms/step - loss: 15.0016 - val_loss: 17.5970\n",
      "Epoch 92/100\n",
      "3/3 [==============================] - 0s 37ms/step - loss: 16.1311 - val_loss: 18.2885\n",
      "Epoch 93/100\n",
      "3/3 [==============================] - 0s 51ms/step - loss: 16.4738 - val_loss: 16.8602\n",
      "Epoch 94/100\n",
      "3/3 [==============================] - 0s 35ms/step - loss: 14.7816 - val_loss: 14.4197\n",
      "Epoch 95/100\n",
      "3/3 [==============================] - 0s 36ms/step - loss: 14.2632 - val_loss: 15.9813\n",
      "Epoch 96/100\n",
      "3/3 [==============================] - 0s 37ms/step - loss: 15.6076 - val_loss: 16.1006\n",
      "Epoch 97/100\n",
      "3/3 [==============================] - 0s 39ms/step - loss: 13.7571 - val_loss: 15.6501\n",
      "Epoch 98/100\n",
      "3/3 [==============================] - 0s 39ms/step - loss: 14.6094 - val_loss: 14.3390\n",
      "Epoch 99/100\n",
      "3/3 [==============================] - 0s 37ms/step - loss: 13.2796 - val_loss: 14.9851\n",
      "Epoch 100/100\n",
      "3/3 [==============================] - 0s 36ms/step - loss: 13.3930 - val_loss: 14.1499\n",
      "9/9 [==============================] - 0s 4ms/step\n",
      "All Accuracy: 86.34949633130438\n"
     ]
    }
   ],
   "source": [
    "model.fit(ax_train, ay_train, epochs=100, batch_size=400,validation_data=(ax_test, ay_test),callbacks=[EarlyStopping(monitor='val_loss', patience=50, restore_best_weights=True)])\n",
    "print('All Accuracy: ' + str(100 - (mean_absolute_percentage_error(model.predict(ax_test), ay_test)*100)) )"
   ]
  },
  {
   "cell_type": "markdown",
   "metadata": {},
   "source": [
    "<p>RGB Accuracy: 86.4%</p>"
   ]
  },
  {
   "cell_type": "markdown",
   "metadata": {},
   "source": [
    "<p>\n",
    "    Since they had the highest accuracies throughout the model tests, I will be picking the red and RGB datasets to create new models with hyperparameters tuned for the two datasets.\n",
    "</p>"
   ]
  },
  {
   "cell_type": "markdown",
   "metadata": {},
   "source": [
    "<h1>5 - Model Tuning for Red Dataset</h1>"
   ]
  },
  {
   "cell_type": "code",
   "execution_count": 152,
   "metadata": {},
   "outputs": [
    {
     "name": "stdout",
     "output_type": "stream",
     "text": [
      "Red Accuracy: 87.35210415417792\n"
     ]
    }
   ],
   "source": [
    "model = RandomForestRegressor(n_estimators = 390, random_state = 7)\n",
    "trainTest(model,'red')"
   ]
  },
  {
   "cell_type": "code",
   "execution_count": 153,
   "metadata": {},
   "outputs": [
    {
     "name": "stdout",
     "output_type": "stream",
     "text": [
      "Red Accuracy: 84.9332554386511\n"
     ]
    }
   ],
   "source": [
    "model = ElasticNet(alpha=330, l1_ratio=0.45,fit_intercept=False)\n",
    "trainTest(model,'red')"
   ]
  },
  {
   "cell_type": "code",
   "execution_count": 154,
   "metadata": {},
   "outputs": [
    {
     "name": "stdout",
     "output_type": "stream",
     "text": [
      "Red Accuracy: 90.1482720590572\n"
     ]
    }
   ],
   "source": [
    "model = KNeighborsRegressor(n_neighbors=1,p=1,weights='distance')\n",
    "trainTest(model,'red')"
   ]
  },
  {
   "cell_type": "code",
   "execution_count": 155,
   "metadata": {},
   "outputs": [
    {
     "name": "stdout",
     "output_type": "stream",
     "text": [
      "Red Accuracy: 85.50724033286265\n"
     ]
    }
   ],
   "source": [
    "model = SVR(kernel = 'rbf', C = 5000)\n",
    "trainTest(model,'red')"
   ]
  },
  {
   "cell_type": "code",
   "execution_count": 156,
   "metadata": {},
   "outputs": [
    {
     "name": "stdout",
     "output_type": "stream",
     "text": [
      "Red Accuracy: 84.85944582496748\n"
     ]
    }
   ],
   "source": [
    "model = Lasso(alpha=44)\n",
    "trainTest(model,'red')"
   ]
  },
  {
   "cell_type": "code",
   "execution_count": 157,
   "metadata": {},
   "outputs": [
    {
     "name": "stdout",
     "output_type": "stream",
     "text": [
      "Red Accuracy: 85.9893587975879\n"
     ]
    }
   ],
   "source": [
    "model = RadiusNeighborsRegressor(radius=5400,weights='distance',p=2)\n",
    "trainTest(model,'red')"
   ]
  },
  {
   "cell_type": "code",
   "execution_count": 158,
   "metadata": {},
   "outputs": [
    {
     "name": "stdout",
     "output_type": "stream",
     "text": [
      "Red Accuracy: 85.04574389899685\n"
     ]
    }
   ],
   "source": [
    "model = BayesianRidge(n_iter=5,fit_intercept=False)\n",
    "trainTest(model,'red')"
   ]
  },
  {
   "cell_type": "code",
   "execution_count": 159,
   "metadata": {},
   "outputs": [
    {
     "name": "stdout",
     "output_type": "stream",
     "text": [
      "Red Accuracy: 84.9451237675029\n"
     ]
    }
   ],
   "source": [
    "model = TweedieRegressor(power=1,alpha=30,max_iter=100)\n",
    "trainTest(model,'red')"
   ]
  },
  {
   "cell_type": "code",
   "execution_count": 253,
   "metadata": {},
   "outputs": [
    {
     "name": "stdout",
     "output_type": "stream",
     "text": [
      "Red Accuracy: 87.58378841711493\n"
     ]
    }
   ],
   "source": [
    "from xgboost import XGBRegressor\n",
    "\n",
    "model = XGBRegressor(booster='gbtree',eta=0.09,gamma=0.92)\n",
    "trainTest(model,'red')"
   ]
  },
  {
   "cell_type": "code",
   "execution_count": 161,
   "metadata": {},
   "outputs": [
    {
     "name": "stdout",
     "output_type": "stream",
     "text": [
      "Epoch 1/50\n",
      "3/3 [==============================] - 0s 74ms/step - loss: 16052.6846 - val_loss: 11424.8838\n",
      "Epoch 2/50\n",
      "3/3 [==============================] - 0s 35ms/step - loss: 6527.7607 - val_loss: 7737.1577\n",
      "Epoch 3/50\n",
      "3/3 [==============================] - 0s 34ms/step - loss: 7274.3672 - val_loss: 4227.2163\n",
      "Epoch 4/50\n",
      "3/3 [==============================] - 0s 34ms/step - loss: 2376.3806 - val_loss: 1660.5785\n",
      "Epoch 5/50\n",
      "3/3 [==============================] - 0s 32ms/step - loss: 2201.8582 - val_loss: 2222.4822\n",
      "Epoch 6/50\n",
      "3/3 [==============================] - 0s 34ms/step - loss: 1721.6558 - val_loss: 391.5394\n",
      "Epoch 7/50\n",
      "3/3 [==============================] - 0s 33ms/step - loss: 443.3724 - val_loss: 699.2660\n",
      "Epoch 8/50\n",
      "3/3 [==============================] - 0s 34ms/step - loss: 617.6067 - val_loss: 273.3596\n",
      "Epoch 9/50\n",
      "3/3 [==============================] - 0s 51ms/step - loss: 174.1805 - val_loss: 300.1456\n",
      "Epoch 10/50\n",
      "3/3 [==============================] - 0s 36ms/step - loss: 312.2851 - val_loss: 227.9485\n",
      "Epoch 11/50\n",
      "3/3 [==============================] - 0s 34ms/step - loss: 154.4862 - val_loss: 46.0244\n",
      "Epoch 12/50\n",
      "3/3 [==============================] - 0s 34ms/step - loss: 78.2649 - val_loss: 99.6470\n",
      "Epoch 13/50\n",
      "3/3 [==============================] - 0s 33ms/step - loss: 66.5316 - val_loss: 44.9132\n",
      "Epoch 14/50\n",
      "3/3 [==============================] - 0s 34ms/step - loss: 54.6754 - val_loss: 27.6867\n",
      "Epoch 15/50\n",
      "3/3 [==============================] - 0s 32ms/step - loss: 28.7846 - val_loss: 46.5861\n",
      "Epoch 16/50\n",
      "3/3 [==============================] - 0s 32ms/step - loss: 34.9818 - val_loss: 17.0306\n",
      "Epoch 17/50\n",
      "3/3 [==============================] - 0s 32ms/step - loss: 24.1440 - val_loss: 25.5840\n",
      "Epoch 18/50\n",
      "3/3 [==============================] - 0s 32ms/step - loss: 22.1153 - val_loss: 19.0258\n",
      "Epoch 19/50\n",
      "3/3 [==============================] - 0s 31ms/step - loss: 21.3353 - val_loss: 20.4287\n",
      "Epoch 20/50\n",
      "3/3 [==============================] - 0s 32ms/step - loss: 17.7133 - val_loss: 18.3598\n",
      "Epoch 21/50\n",
      "3/3 [==============================] - 0s 33ms/step - loss: 19.2271 - val_loss: 16.1490\n",
      "Epoch 22/50\n",
      "3/3 [==============================] - 0s 30ms/step - loss: 16.5838 - val_loss: 20.0352\n",
      "Epoch 23/50\n",
      "3/3 [==============================] - 0s 32ms/step - loss: 17.8929 - val_loss: 16.7686\n",
      "Epoch 24/50\n",
      "3/3 [==============================] - 0s 34ms/step - loss: 16.2938 - val_loss: 15.7406\n",
      "Epoch 25/50\n",
      "3/3 [==============================] - 0s 33ms/step - loss: 15.8753 - val_loss: 15.5223\n",
      "Epoch 26/50\n",
      "3/3 [==============================] - 0s 56ms/step - loss: 15.8885 - val_loss: 15.5141\n",
      "Epoch 27/50\n",
      "3/3 [==============================] - 0s 35ms/step - loss: 15.6162 - val_loss: 15.1591\n",
      "Epoch 28/50\n",
      "3/3 [==============================] - 0s 33ms/step - loss: 15.2552 - val_loss: 15.8991\n",
      "Epoch 29/50\n",
      "3/3 [==============================] - 0s 32ms/step - loss: 15.5199 - val_loss: 15.9327\n",
      "Epoch 30/50\n",
      "3/3 [==============================] - 0s 35ms/step - loss: 15.2404 - val_loss: 14.9716\n",
      "Epoch 31/50\n",
      "3/3 [==============================] - 0s 33ms/step - loss: 15.3364 - val_loss: 14.8713\n",
      "Epoch 32/50\n",
      "3/3 [==============================] - 0s 31ms/step - loss: 14.6587 - val_loss: 15.0982\n",
      "Epoch 33/50\n",
      "3/3 [==============================] - 0s 32ms/step - loss: 14.6369 - val_loss: 14.7657\n",
      "Epoch 34/50\n",
      "3/3 [==============================] - 0s 32ms/step - loss: 14.4866 - val_loss: 14.7581\n",
      "Epoch 35/50\n",
      "3/3 [==============================] - 0s 33ms/step - loss: 14.3384 - val_loss: 14.5557\n",
      "Epoch 36/50\n",
      "3/3 [==============================] - 0s 34ms/step - loss: 14.2804 - val_loss: 14.7183\n",
      "Epoch 37/50\n",
      "3/3 [==============================] - 0s 32ms/step - loss: 14.1780 - val_loss: 14.8083\n",
      "Epoch 38/50\n",
      "3/3 [==============================] - 0s 33ms/step - loss: 14.1441 - val_loss: 14.4369\n",
      "Epoch 39/50\n",
      "3/3 [==============================] - 0s 33ms/step - loss: 14.0749 - val_loss: 14.8014\n",
      "Epoch 40/50\n",
      "3/3 [==============================] - 0s 32ms/step - loss: 14.1842 - val_loss: 14.4555\n",
      "Epoch 41/50\n",
      "3/3 [==============================] - 0s 34ms/step - loss: 13.9693 - val_loss: 14.4207\n",
      "Epoch 42/50\n",
      "3/3 [==============================] - 0s 31ms/step - loss: 13.8455 - val_loss: 14.7585\n",
      "Epoch 43/50\n",
      "3/3 [==============================] - 0s 48ms/step - loss: 13.8751 - val_loss: 14.2288\n",
      "Epoch 44/50\n",
      "3/3 [==============================] - 0s 36ms/step - loss: 13.7519 - val_loss: 14.9727\n",
      "Epoch 45/50\n",
      "3/3 [==============================] - 0s 33ms/step - loss: 13.7796 - val_loss: 14.3952\n",
      "Epoch 46/50\n",
      "3/3 [==============================] - 0s 34ms/step - loss: 13.6798 - val_loss: 14.6462\n",
      "Epoch 47/50\n",
      "3/3 [==============================] - 0s 32ms/step - loss: 13.8036 - val_loss: 14.6519\n",
      "Epoch 48/50\n",
      "3/3 [==============================] - 0s 34ms/step - loss: 13.7292 - val_loss: 14.4258\n",
      "Epoch 49/50\n",
      "3/3 [==============================] - 0s 32ms/step - loss: 13.7844 - val_loss: 14.3532\n",
      "Epoch 50/50\n",
      "3/3 [==============================] - 0s 32ms/step - loss: 13.7239 - val_loss: 14.4446\n",
      "9/9 [==============================] - 0s 3ms/step\n",
      "All Accuracy: 85.2847872783349\n"
     ]
    }
   ],
   "source": [
    "from keras.callbacks import EarlyStopping\n",
    "from keras.optimizers import adam_v2\n",
    "from keras.models import Sequential\n",
    "from keras.layers import Dense\n",
    "from keras.layers import Dropout\n",
    "\n",
    "\n",
    "model = Sequential()\n",
    "model.add(Dense(1024, input_dim=256, activation='relu'))\n",
    "model.add(Dense(2048, activation='relu'))\n",
    "model.add(Dense(1, activation='linear'))\n",
    "model.compile(loss='mae', optimizer='adam')\n",
    "\n",
    "\n",
    "model.fit(rx_train, ry_train, epochs=50, batch_size=300,validation_data=(rx_test, ry_test),callbacks=[EarlyStopping(monitor='val_loss', patience=50, restore_best_weights=True)])\n",
    "print('All Accuracy: ' + str(100 - (mean_absolute_percentage_error(model.predict(rx_test), ry_test)*100)) )"
   ]
  },
  {
   "cell_type": "markdown",
   "metadata": {},
   "source": [
    "<h1>6 - Model Tuning for RGB Dataset</h1>"
   ]
  },
  {
   "cell_type": "code",
   "execution_count": 162,
   "metadata": {},
   "outputs": [
    {
     "name": "stdout",
     "output_type": "stream",
     "text": [
      "All Accuracy: 88.09739374824147\n"
     ]
    }
   ],
   "source": [
    "model = RandomForestRegressor(n_estimators = 93, random_state = 7)\n",
    "trainTest(model,'all')"
   ]
  },
  {
   "cell_type": "code",
   "execution_count": 163,
   "metadata": {},
   "outputs": [
    {
     "name": "stdout",
     "output_type": "stream",
     "text": [
      "All Accuracy: 83.39535204347638\n"
     ]
    }
   ],
   "source": [
    "model = DecisionTreeRegressor()\n",
    "trainTest(model,'all')"
   ]
  },
  {
   "cell_type": "code",
   "execution_count": 164,
   "metadata": {},
   "outputs": [
    {
     "name": "stdout",
     "output_type": "stream",
     "text": [
      "All Accuracy: 86.15206903518344\n"
     ]
    }
   ],
   "source": [
    "model = ElasticNet(alpha=305, l1_ratio=0.13,fit_intercept=True)\n",
    "trainTest(model,'all')"
   ]
  },
  {
   "cell_type": "code",
   "execution_count": 165,
   "metadata": {},
   "outputs": [
    {
     "name": "stdout",
     "output_type": "stream",
     "text": [
      "All Accuracy: 89.31884257612406\n"
     ]
    }
   ],
   "source": [
    "model = KNeighborsRegressor(n_neighbors=1,p=1,weights='distance')\n",
    "trainTest(model,'all')"
   ]
  },
  {
   "cell_type": "code",
   "execution_count": 166,
   "metadata": {},
   "outputs": [
    {
     "name": "stdout",
     "output_type": "stream",
     "text": [
      "All Accuracy: 86.81872695815929\n"
     ]
    }
   ],
   "source": [
    "model = SVR(kernel = 'rbf', C = 20350)\n",
    "trainTest(model,'all')"
   ]
  },
  {
   "cell_type": "code",
   "execution_count": 167,
   "metadata": {},
   "outputs": [
    {
     "name": "stdout",
     "output_type": "stream",
     "text": [
      "All Accuracy: 86.1536348628427\n"
     ]
    }
   ],
   "source": [
    "model = Lasso(alpha=43)\n",
    "trainTest(model,'all')"
   ]
  },
  {
   "cell_type": "code",
   "execution_count": 168,
   "metadata": {},
   "outputs": [
    {
     "name": "stdout",
     "output_type": "stream",
     "text": [
      "All Accuracy: 86.42703805982265\n"
     ]
    }
   ],
   "source": [
    "model = RadiusNeighborsRegressor(radius=4475,weights='distance',p=5)\n",
    "trainTest(model,'all')"
   ]
  },
  {
   "cell_type": "code",
   "execution_count": 169,
   "metadata": {},
   "outputs": [
    {
     "name": "stdout",
     "output_type": "stream",
     "text": [
      "All Accuracy: 86.24339879239992\n"
     ]
    }
   ],
   "source": [
    "model = BayesianRidge(n_iter=8,fit_intercept=True)\n",
    "trainTest(model,'all')"
   ]
  },
  {
   "cell_type": "code",
   "execution_count": 170,
   "metadata": {},
   "outputs": [
    {
     "name": "stdout",
     "output_type": "stream",
     "text": [
      "All Accuracy: 86.3676540801893\n"
     ]
    }
   ],
   "source": [
    "model = TweedieRegressor(power=0,alpha=53,max_iter=100)\n",
    "trainTest(model,'all')"
   ]
  },
  {
   "cell_type": "code",
   "execution_count": 274,
   "metadata": {},
   "outputs": [
    {
     "name": "stdout",
     "output_type": "stream",
     "text": [
      "All Accuracy: 88.23839832616821\n"
     ]
    }
   ],
   "source": [
    "from xgboost import XGBRegressor\n",
    "\n",
    "model = XGBRegressor(booster='gbtree',eta=0.092,gamma=0.919)\n",
    "trainTest(model,'all')"
   ]
  },
  {
   "cell_type": "code",
   "execution_count": 172,
   "metadata": {},
   "outputs": [
    {
     "name": "stdout",
     "output_type": "stream",
     "text": [
      "Epoch 1/50\n",
      "3/3 [==============================] - 0s 77ms/step - loss: 28175.4785 - val_loss: 5714.5615\n",
      "Epoch 2/50\n",
      "3/3 [==============================] - 0s 36ms/step - loss: 15130.2832 - val_loss: 17000.0488\n",
      "Epoch 3/50\n",
      "3/3 [==============================] - 0s 54ms/step - loss: 9968.0752 - val_loss: 5041.4717\n",
      "Epoch 4/50\n",
      "3/3 [==============================] - 0s 35ms/step - loss: 6581.0713 - val_loss: 5968.3726\n",
      "Epoch 5/50\n",
      "3/3 [==============================] - 0s 37ms/step - loss: 3999.8276 - val_loss: 379.2517\n",
      "Epoch 6/50\n",
      "3/3 [==============================] - 0s 36ms/step - loss: 969.3566 - val_loss: 1027.9929\n",
      "Epoch 7/50\n",
      "3/3 [==============================] - 0s 35ms/step - loss: 595.2012 - val_loss: 453.6356\n",
      "Epoch 8/50\n",
      "3/3 [==============================] - 0s 37ms/step - loss: 399.5600 - val_loss: 32.7340\n",
      "Epoch 9/50\n",
      "3/3 [==============================] - 0s 35ms/step - loss: 136.9313 - val_loss: 100.6702\n",
      "Epoch 10/50\n",
      "3/3 [==============================] - 0s 35ms/step - loss: 103.2627 - val_loss: 101.0841\n",
      "Epoch 11/50\n",
      "3/3 [==============================] - 0s 38ms/step - loss: 74.0407 - val_loss: 107.6341\n",
      "Epoch 12/50\n",
      "3/3 [==============================] - 0s 36ms/step - loss: 69.8225 - val_loss: 67.5981\n",
      "Epoch 13/50\n",
      "3/3 [==============================] - 0s 34ms/step - loss: 48.7365 - val_loss: 54.5011\n",
      "Epoch 14/50\n",
      "3/3 [==============================] - 0s 36ms/step - loss: 41.1691 - val_loss: 37.3537\n",
      "Epoch 15/50\n",
      "3/3 [==============================] - 0s 36ms/step - loss: 32.1367 - val_loss: 31.2713\n",
      "Epoch 16/50\n",
      "3/3 [==============================] - 0s 36ms/step - loss: 26.1872 - val_loss: 26.6429\n",
      "Epoch 17/50\n",
      "3/3 [==============================] - 0s 37ms/step - loss: 22.5531 - val_loss: 23.8496\n",
      "Epoch 18/50\n",
      "3/3 [==============================] - 0s 37ms/step - loss: 19.9672 - val_loss: 22.9527\n",
      "Epoch 19/50\n",
      "3/3 [==============================] - 0s 46ms/step - loss: 19.5895 - val_loss: 23.1797\n",
      "Epoch 20/50\n",
      "3/3 [==============================] - 0s 38ms/step - loss: 19.2453 - val_loss: 22.1937\n",
      "Epoch 21/50\n",
      "3/3 [==============================] - 0s 39ms/step - loss: 18.6352 - val_loss: 21.4693\n",
      "Epoch 22/50\n",
      "3/3 [==============================] - 0s 39ms/step - loss: 17.0114 - val_loss: 18.7173\n",
      "Epoch 23/50\n",
      "3/3 [==============================] - 0s 37ms/step - loss: 16.7263 - val_loss: 18.5264\n",
      "Epoch 24/50\n",
      "3/3 [==============================] - 0s 39ms/step - loss: 16.0207 - val_loss: 16.7012\n",
      "Epoch 25/50\n",
      "3/3 [==============================] - 0s 35ms/step - loss: 15.2821 - val_loss: 17.5535\n",
      "Epoch 26/50\n",
      "3/3 [==============================] - 0s 38ms/step - loss: 15.5491 - val_loss: 16.4736\n",
      "Epoch 27/50\n",
      "3/3 [==============================] - 0s 37ms/step - loss: 14.9221 - val_loss: 15.7679\n",
      "Epoch 28/50\n",
      "3/3 [==============================] - 0s 37ms/step - loss: 14.4585 - val_loss: 14.5763\n",
      "Epoch 29/50\n",
      "3/3 [==============================] - 0s 37ms/step - loss: 14.7854 - val_loss: 14.5329\n",
      "Epoch 30/50\n",
      "3/3 [==============================] - 0s 34ms/step - loss: 14.1785 - val_loss: 16.4566\n",
      "Epoch 31/50\n",
      "3/3 [==============================] - 0s 37ms/step - loss: 14.4785 - val_loss: 14.1932\n",
      "Epoch 32/50\n",
      "3/3 [==============================] - 0s 36ms/step - loss: 13.9026 - val_loss: 14.3559\n",
      "Epoch 33/50\n",
      "3/3 [==============================] - 0s 35ms/step - loss: 13.8227 - val_loss: 14.3184\n",
      "Epoch 34/50\n",
      "3/3 [==============================] - 0s 35ms/step - loss: 13.5243 - val_loss: 14.2815\n",
      "Epoch 35/50\n",
      "3/3 [==============================] - 0s 50ms/step - loss: 13.5421 - val_loss: 14.5044\n",
      "Epoch 36/50\n",
      "3/3 [==============================] - 0s 38ms/step - loss: 13.7265 - val_loss: 14.2370\n",
      "Epoch 37/50\n",
      "3/3 [==============================] - 0s 38ms/step - loss: 13.7016 - val_loss: 13.7697\n",
      "Epoch 38/50\n",
      "3/3 [==============================] - 0s 37ms/step - loss: 13.6632 - val_loss: 14.2353\n",
      "Epoch 39/50\n",
      "3/3 [==============================] - 0s 35ms/step - loss: 13.2708 - val_loss: 14.0432\n",
      "Epoch 40/50\n",
      "3/3 [==============================] - 0s 34ms/step - loss: 13.2730 - val_loss: 16.0871\n",
      "Epoch 41/50\n",
      "3/3 [==============================] - 0s 35ms/step - loss: 13.7292 - val_loss: 14.9050\n",
      "Epoch 42/50\n",
      "3/3 [==============================] - 0s 35ms/step - loss: 13.6195 - val_loss: 13.9890\n",
      "Epoch 43/50\n",
      "3/3 [==============================] - 0s 37ms/step - loss: 13.5502 - val_loss: 13.9727\n",
      "Epoch 44/50\n",
      "3/3 [==============================] - 0s 36ms/step - loss: 13.3492 - val_loss: 14.0842\n",
      "Epoch 45/50\n",
      "3/3 [==============================] - 0s 38ms/step - loss: 13.8079 - val_loss: 13.7267\n",
      "Epoch 46/50\n",
      "3/3 [==============================] - 0s 36ms/step - loss: 13.3941 - val_loss: 14.5186\n",
      "Epoch 47/50\n",
      "3/3 [==============================] - 0s 35ms/step - loss: 13.3404 - val_loss: 15.4357\n",
      "Epoch 48/50\n",
      "3/3 [==============================] - 0s 35ms/step - loss: 13.4967 - val_loss: 13.8554\n",
      "Epoch 49/50\n",
      "3/3 [==============================] - 0s 36ms/step - loss: 13.0888 - val_loss: 13.9426\n",
      "Epoch 50/50\n",
      "3/3 [==============================] - 0s 34ms/step - loss: 13.1697 - val_loss: 13.9396\n",
      "9/9 [==============================] - 0s 4ms/step\n",
      "All Accuracy: 86.71729592151668\n"
     ]
    }
   ],
   "source": [
    "from keras.callbacks import EarlyStopping\n",
    "from keras.optimizers import adam_v2\n",
    "from keras.models import Sequential\n",
    "from keras.layers import Dense\n",
    "from keras.layers import Dropout\n",
    "\n",
    "\n",
    "model = Sequential()\n",
    "model.add(Dense(1024, input_dim=768, activation='relu'))\n",
    "model.add(Dense(2048, activation='relu'))\n",
    "model.add(Dense(1, activation='linear'))\n",
    "model.compile(loss='mae', optimizer='adam')\n",
    "\n",
    "\n",
    "model.fit(ax_train, ay_train, epochs=50, batch_size=300,validation_data=(ax_test, ay_test),callbacks=[EarlyStopping(monitor='val_loss', patience=50, restore_best_weights=True)])\n",
    "print('All Accuracy: ' + str(100 - (mean_absolute_percentage_error(model.predict(ax_test), ay_test)*100)) )"
   ]
  },
  {
   "cell_type": "markdown",
   "metadata": {},
   "source": [
    "<h1>7 - Model Summary</h1>"
   ]
  },
  {
   "cell_type": "markdown",
   "metadata": {},
   "source": [
    "<p>\n",
    "    <strong>Datasets with Highest Accuracies Across All Models:</strong> RGB Dataset \n",
    "    <br>\n",
    "    <strong>Dataset with Highest Single Accuracy:</strong> Red Dataset - 90.15%\n",
    "    <br>\n",
    "    <br>\n",
    "    <strong>Model with Highest Accuracies Overall:</strong> KNeighbors Regressor\n",
    "    <br>\n",
    "    <strong>Model with Highest Accuracies:</strong> KNeighbors Regressor - 90.15%\n",
    "</p>"
   ]
  },
  {
   "cell_type": "code",
   "execution_count": 173,
   "metadata": {},
   "outputs": [],
   "source": [
    "import pickle\n",
    "\n",
    "model = KNeighborsRegressor(n_neighbors=1,p=1,weights='distance')\n",
    "model.fit(rx_train,ry_train)\n",
    "\n",
    "pickle.dump(model, open('final_model.sav', 'wb'))"
   ]
  },
  {
   "cell_type": "code",
   "execution_count": 174,
   "metadata": {},
   "outputs": [
    {
     "name": "stdout",
     "output_type": "stream",
     "text": [
      "Mean Absolute Error: 9.88 mg/dl\n",
      "Accuracy: 90.15 %\n"
     ]
    }
   ],
   "source": [
    "from sklearn.metrics import mean_absolute_error\n",
    "\n",
    "loaded_model = pickle.load(open('final_model.sav', 'rb'))\n",
    "preds = loaded_model.predict(rx_test)\n",
    "\n",
    "print('Mean Absolute Error: ' + str( round(mean_absolute_error(preds,ry_test),2) ) + ' mg/dl' )\n",
    "print('Accuracy: ' + str( round(100 - (mean_absolute_percentage_error(preds, ry_test)*100),2)) + ' %' )"
   ]
  },
  {
   "cell_type": "markdown",
   "metadata": {},
   "source": [
    "<h1>8 - Ensemble Learning</h1>"
   ]
  },
  {
   "cell_type": "markdown",
   "metadata": {},
   "source": [
    "<p>\n",
    "    To increase the overall accuracy of this project, we considered creating an ensemble learning using the three highest accuracy models with two datasets (red and RGB) to see what combination would provide the highest overall accuracy. To achieve this, we picked the three highest performing models for each dataset and created an ensemble learner that takes the mean of their predictions.\n",
    "    <br>\n",
    "    <p>\n",
    "        <strong>Red Dataset Models:</strong> XG Boost, Random Forest, and KNeighbors.\n",
    "        <br>\n",
    "        <strong>RGB Dataset Models:</strong> XG Boost, Random Forest, and KNeighbors.\n",
    "    </p>\n",
    "</p>"
   ]
  },
  {
   "cell_type": "markdown",
   "metadata": {},
   "source": [
    "<h4>Training Red Dataset Ensemble Learner</h4>"
   ]
  },
  {
   "cell_type": "code",
   "execution_count": 275,
   "metadata": {},
   "outputs": [
    {
     "data": {
      "text/html": [
       "<style>#sk-container-id-2 {color: black;background-color: white;}#sk-container-id-2 pre{padding: 0;}#sk-container-id-2 div.sk-toggleable {background-color: white;}#sk-container-id-2 label.sk-toggleable__label {cursor: pointer;display: block;width: 100%;margin-bottom: 0;padding: 0.3em;box-sizing: border-box;text-align: center;}#sk-container-id-2 label.sk-toggleable__label-arrow:before {content: \"▸\";float: left;margin-right: 0.25em;color: #696969;}#sk-container-id-2 label.sk-toggleable__label-arrow:hover:before {color: black;}#sk-container-id-2 div.sk-estimator:hover label.sk-toggleable__label-arrow:before {color: black;}#sk-container-id-2 div.sk-toggleable__content {max-height: 0;max-width: 0;overflow: hidden;text-align: left;background-color: #f0f8ff;}#sk-container-id-2 div.sk-toggleable__content pre {margin: 0.2em;color: black;border-radius: 0.25em;background-color: #f0f8ff;}#sk-container-id-2 input.sk-toggleable__control:checked~div.sk-toggleable__content {max-height: 200px;max-width: 100%;overflow: auto;}#sk-container-id-2 input.sk-toggleable__control:checked~label.sk-toggleable__label-arrow:before {content: \"▾\";}#sk-container-id-2 div.sk-estimator input.sk-toggleable__control:checked~label.sk-toggleable__label {background-color: #d4ebff;}#sk-container-id-2 div.sk-label input.sk-toggleable__control:checked~label.sk-toggleable__label {background-color: #d4ebff;}#sk-container-id-2 input.sk-hidden--visually {border: 0;clip: rect(1px 1px 1px 1px);clip: rect(1px, 1px, 1px, 1px);height: 1px;margin: -1px;overflow: hidden;padding: 0;position: absolute;width: 1px;}#sk-container-id-2 div.sk-estimator {font-family: monospace;background-color: #f0f8ff;border: 1px dotted black;border-radius: 0.25em;box-sizing: border-box;margin-bottom: 0.5em;}#sk-container-id-2 div.sk-estimator:hover {background-color: #d4ebff;}#sk-container-id-2 div.sk-parallel-item::after {content: \"\";width: 100%;border-bottom: 1px solid gray;flex-grow: 1;}#sk-container-id-2 div.sk-label:hover label.sk-toggleable__label {background-color: #d4ebff;}#sk-container-id-2 div.sk-serial::before {content: \"\";position: absolute;border-left: 1px solid gray;box-sizing: border-box;top: 0;bottom: 0;left: 50%;z-index: 0;}#sk-container-id-2 div.sk-serial {display: flex;flex-direction: column;align-items: center;background-color: white;padding-right: 0.2em;padding-left: 0.2em;position: relative;}#sk-container-id-2 div.sk-item {position: relative;z-index: 1;}#sk-container-id-2 div.sk-parallel {display: flex;align-items: stretch;justify-content: center;background-color: white;position: relative;}#sk-container-id-2 div.sk-item::before, #sk-container-id-2 div.sk-parallel-item::before {content: \"\";position: absolute;border-left: 1px solid gray;box-sizing: border-box;top: 0;bottom: 0;left: 50%;z-index: -1;}#sk-container-id-2 div.sk-parallel-item {display: flex;flex-direction: column;z-index: 1;position: relative;background-color: white;}#sk-container-id-2 div.sk-parallel-item:first-child::after {align-self: flex-end;width: 50%;}#sk-container-id-2 div.sk-parallel-item:last-child::after {align-self: flex-start;width: 50%;}#sk-container-id-2 div.sk-parallel-item:only-child::after {width: 0;}#sk-container-id-2 div.sk-dashed-wrapped {border: 1px dashed gray;margin: 0 0.4em 0.5em 0.4em;box-sizing: border-box;padding-bottom: 0.4em;background-color: white;}#sk-container-id-2 div.sk-label label {font-family: monospace;font-weight: bold;display: inline-block;line-height: 1.2em;}#sk-container-id-2 div.sk-label-container {text-align: center;}#sk-container-id-2 div.sk-container {/* jupyter's `normalize.less` sets `[hidden] { display: none; }` but bootstrap.min.css set `[hidden] { display: none !important; }` so we also need the `!important` here to be able to override the default hidden behavior on the sphinx rendered scikit-learn.org. See: https://github.com/scikit-learn/scikit-learn/issues/21755 */display: inline-block !important;position: relative;}#sk-container-id-2 div.sk-text-repr-fallback {display: none;}</style><div id=\"sk-container-id-2\" class=\"sk-top-container\"><div class=\"sk-text-repr-fallback\"><pre>XGBRegressor(base_score=0.5, booster=&#x27;gbtree&#x27;, callbacks=None,\n",
       "             colsample_bylevel=1, colsample_bynode=1, colsample_bytree=1,\n",
       "             early_stopping_rounds=None, enable_categorical=False, eta=0.09,\n",
       "             eval_metric=None, gamma=0.92, gpu_id=-1, grow_policy=&#x27;depthwise&#x27;,\n",
       "             importance_type=None, interaction_constraints=&#x27;&#x27;,\n",
       "             learning_rate=0.0900000036, max_bin=256, max_cat_to_onehot=4,\n",
       "             max_delta_step=0, max_depth=6, max_leaves=0, min_child_weight=1,\n",
       "             missing=nan, monotone_constraints=&#x27;()&#x27;, n_estimators=100, n_jobs=0,\n",
       "             num_parallel_tree=1, predictor=&#x27;auto&#x27;, random_state=0, reg_alpha=0, ...)</pre><b>In a Jupyter environment, please rerun this cell to show the HTML representation or trust the notebook. <br />On GitHub, the HTML representation is unable to render, please try loading this page with nbviewer.org.</b></div><div class=\"sk-container\" hidden><div class=\"sk-item\"><div class=\"sk-estimator sk-toggleable\"><input class=\"sk-toggleable__control sk-hidden--visually\" id=\"sk-estimator-id-2\" type=\"checkbox\" checked><label for=\"sk-estimator-id-2\" class=\"sk-toggleable__label sk-toggleable__label-arrow\">XGBRegressor</label><div class=\"sk-toggleable__content\"><pre>XGBRegressor(base_score=0.5, booster=&#x27;gbtree&#x27;, callbacks=None,\n",
       "             colsample_bylevel=1, colsample_bynode=1, colsample_bytree=1,\n",
       "             early_stopping_rounds=None, enable_categorical=False, eta=0.09,\n",
       "             eval_metric=None, gamma=0.92, gpu_id=-1, grow_policy=&#x27;depthwise&#x27;,\n",
       "             importance_type=None, interaction_constraints=&#x27;&#x27;,\n",
       "             learning_rate=0.0900000036, max_bin=256, max_cat_to_onehot=4,\n",
       "             max_delta_step=0, max_depth=6, max_leaves=0, min_child_weight=1,\n",
       "             missing=nan, monotone_constraints=&#x27;()&#x27;, n_estimators=100, n_jobs=0,\n",
       "             num_parallel_tree=1, predictor=&#x27;auto&#x27;, random_state=0, reg_alpha=0, ...)</pre></div></div></div></div></div>"
      ],
      "text/plain": [
       "XGBRegressor(base_score=0.5, booster='gbtree', callbacks=None,\n",
       "             colsample_bylevel=1, colsample_bynode=1, colsample_bytree=1,\n",
       "             early_stopping_rounds=None, enable_categorical=False, eta=0.09,\n",
       "             eval_metric=None, gamma=0.92, gpu_id=-1, grow_policy='depthwise',\n",
       "             importance_type=None, interaction_constraints='',\n",
       "             learning_rate=0.0900000036, max_bin=256, max_cat_to_onehot=4,\n",
       "             max_delta_step=0, max_depth=6, max_leaves=0, min_child_weight=1,\n",
       "             missing=nan, monotone_constraints='()', n_estimators=100, n_jobs=0,\n",
       "             num_parallel_tree=1, predictor='auto', random_state=0, reg_alpha=0, ...)"
      ]
     },
     "execution_count": 275,
     "metadata": {},
     "output_type": "execute_result"
    }
   ],
   "source": [
    "model = RandomForestRegressor(n_estimators = 390, random_state = 7)\n",
    "model2 = KNeighborsRegressor(n_neighbors=1,p=1,weights='distance')\n",
    "model3 = XGBRegressor(booster='gbtree',eta=0.09,gamma=0.92)\n",
    "\n",
    "model.fit(rx_train,ry_train)\n",
    "model2.fit(rx_train,ry_train)\n",
    "model3.fit(rx_train,ry_train)"
   ]
  },
  {
   "cell_type": "code",
   "execution_count": 301,
   "metadata": {},
   "outputs": [
    {
     "name": "stdout",
     "output_type": "stream",
     "text": [
      "Accuracy: 89.0 %\n"
     ]
    }
   ],
   "source": [
    "preds = model.predict(rx_test)\n",
    "preds2 = model2.predict(rx_test)\n",
    "preds3 = model3.predict(rx_test)\n",
    "\n",
    "preds_final = []\n",
    "\n",
    "for x in range(0,282):\n",
    "    sum = int(preds[x] + preds2[x] + preds3[x])\n",
    "    preds_final.append( sum/3 )\n",
    "    \n",
    "print('Accuracy: ' + str( round(100 - (mean_absolute_percentage_error(preds_final, ry_test)*100),2)) + ' %' )"
   ]
  },
  {
   "cell_type": "markdown",
   "metadata": {},
   "source": [
    "<h4>Training RGB Dataset Ensemble Learner</h4>"
   ]
  },
  {
   "cell_type": "code",
   "execution_count": 302,
   "metadata": {},
   "outputs": [
    {
     "data": {
      "text/html": [
       "<style>#sk-container-id-3 {color: black;background-color: white;}#sk-container-id-3 pre{padding: 0;}#sk-container-id-3 div.sk-toggleable {background-color: white;}#sk-container-id-3 label.sk-toggleable__label {cursor: pointer;display: block;width: 100%;margin-bottom: 0;padding: 0.3em;box-sizing: border-box;text-align: center;}#sk-container-id-3 label.sk-toggleable__label-arrow:before {content: \"▸\";float: left;margin-right: 0.25em;color: #696969;}#sk-container-id-3 label.sk-toggleable__label-arrow:hover:before {color: black;}#sk-container-id-3 div.sk-estimator:hover label.sk-toggleable__label-arrow:before {color: black;}#sk-container-id-3 div.sk-toggleable__content {max-height: 0;max-width: 0;overflow: hidden;text-align: left;background-color: #f0f8ff;}#sk-container-id-3 div.sk-toggleable__content pre {margin: 0.2em;color: black;border-radius: 0.25em;background-color: #f0f8ff;}#sk-container-id-3 input.sk-toggleable__control:checked~div.sk-toggleable__content {max-height: 200px;max-width: 100%;overflow: auto;}#sk-container-id-3 input.sk-toggleable__control:checked~label.sk-toggleable__label-arrow:before {content: \"▾\";}#sk-container-id-3 div.sk-estimator input.sk-toggleable__control:checked~label.sk-toggleable__label {background-color: #d4ebff;}#sk-container-id-3 div.sk-label input.sk-toggleable__control:checked~label.sk-toggleable__label {background-color: #d4ebff;}#sk-container-id-3 input.sk-hidden--visually {border: 0;clip: rect(1px 1px 1px 1px);clip: rect(1px, 1px, 1px, 1px);height: 1px;margin: -1px;overflow: hidden;padding: 0;position: absolute;width: 1px;}#sk-container-id-3 div.sk-estimator {font-family: monospace;background-color: #f0f8ff;border: 1px dotted black;border-radius: 0.25em;box-sizing: border-box;margin-bottom: 0.5em;}#sk-container-id-3 div.sk-estimator:hover {background-color: #d4ebff;}#sk-container-id-3 div.sk-parallel-item::after {content: \"\";width: 100%;border-bottom: 1px solid gray;flex-grow: 1;}#sk-container-id-3 div.sk-label:hover label.sk-toggleable__label {background-color: #d4ebff;}#sk-container-id-3 div.sk-serial::before {content: \"\";position: absolute;border-left: 1px solid gray;box-sizing: border-box;top: 0;bottom: 0;left: 50%;z-index: 0;}#sk-container-id-3 div.sk-serial {display: flex;flex-direction: column;align-items: center;background-color: white;padding-right: 0.2em;padding-left: 0.2em;position: relative;}#sk-container-id-3 div.sk-item {position: relative;z-index: 1;}#sk-container-id-3 div.sk-parallel {display: flex;align-items: stretch;justify-content: center;background-color: white;position: relative;}#sk-container-id-3 div.sk-item::before, #sk-container-id-3 div.sk-parallel-item::before {content: \"\";position: absolute;border-left: 1px solid gray;box-sizing: border-box;top: 0;bottom: 0;left: 50%;z-index: -1;}#sk-container-id-3 div.sk-parallel-item {display: flex;flex-direction: column;z-index: 1;position: relative;background-color: white;}#sk-container-id-3 div.sk-parallel-item:first-child::after {align-self: flex-end;width: 50%;}#sk-container-id-3 div.sk-parallel-item:last-child::after {align-self: flex-start;width: 50%;}#sk-container-id-3 div.sk-parallel-item:only-child::after {width: 0;}#sk-container-id-3 div.sk-dashed-wrapped {border: 1px dashed gray;margin: 0 0.4em 0.5em 0.4em;box-sizing: border-box;padding-bottom: 0.4em;background-color: white;}#sk-container-id-3 div.sk-label label {font-family: monospace;font-weight: bold;display: inline-block;line-height: 1.2em;}#sk-container-id-3 div.sk-label-container {text-align: center;}#sk-container-id-3 div.sk-container {/* jupyter's `normalize.less` sets `[hidden] { display: none; }` but bootstrap.min.css set `[hidden] { display: none !important; }` so we also need the `!important` here to be able to override the default hidden behavior on the sphinx rendered scikit-learn.org. See: https://github.com/scikit-learn/scikit-learn/issues/21755 */display: inline-block !important;position: relative;}#sk-container-id-3 div.sk-text-repr-fallback {display: none;}</style><div id=\"sk-container-id-3\" class=\"sk-top-container\"><div class=\"sk-text-repr-fallback\"><pre>XGBRegressor(base_score=0.5, booster=&#x27;gbtree&#x27;, callbacks=None,\n",
       "             colsample_bylevel=1, colsample_bynode=1, colsample_bytree=1,\n",
       "             early_stopping_rounds=None, enable_categorical=False, eta=0.092,\n",
       "             eval_metric=None, gamma=0.919, gpu_id=-1, grow_policy=&#x27;depthwise&#x27;,\n",
       "             importance_type=None, interaction_constraints=&#x27;&#x27;,\n",
       "             learning_rate=0.0920000002, max_bin=256, max_cat_to_onehot=4,\n",
       "             max_delta_step=0, max_depth=6, max_leaves=0, min_child_weight=1,\n",
       "             missing=nan, monotone_constraints=&#x27;()&#x27;, n_estimators=100, n_jobs=0,\n",
       "             num_parallel_tree=1, predictor=&#x27;auto&#x27;, random_state=0, reg_alpha=0, ...)</pre><b>In a Jupyter environment, please rerun this cell to show the HTML representation or trust the notebook. <br />On GitHub, the HTML representation is unable to render, please try loading this page with nbviewer.org.</b></div><div class=\"sk-container\" hidden><div class=\"sk-item\"><div class=\"sk-estimator sk-toggleable\"><input class=\"sk-toggleable__control sk-hidden--visually\" id=\"sk-estimator-id-3\" type=\"checkbox\" checked><label for=\"sk-estimator-id-3\" class=\"sk-toggleable__label sk-toggleable__label-arrow\">XGBRegressor</label><div class=\"sk-toggleable__content\"><pre>XGBRegressor(base_score=0.5, booster=&#x27;gbtree&#x27;, callbacks=None,\n",
       "             colsample_bylevel=1, colsample_bynode=1, colsample_bytree=1,\n",
       "             early_stopping_rounds=None, enable_categorical=False, eta=0.092,\n",
       "             eval_metric=None, gamma=0.919, gpu_id=-1, grow_policy=&#x27;depthwise&#x27;,\n",
       "             importance_type=None, interaction_constraints=&#x27;&#x27;,\n",
       "             learning_rate=0.0920000002, max_bin=256, max_cat_to_onehot=4,\n",
       "             max_delta_step=0, max_depth=6, max_leaves=0, min_child_weight=1,\n",
       "             missing=nan, monotone_constraints=&#x27;()&#x27;, n_estimators=100, n_jobs=0,\n",
       "             num_parallel_tree=1, predictor=&#x27;auto&#x27;, random_state=0, reg_alpha=0, ...)</pre></div></div></div></div></div>"
      ],
      "text/plain": [
       "XGBRegressor(base_score=0.5, booster='gbtree', callbacks=None,\n",
       "             colsample_bylevel=1, colsample_bynode=1, colsample_bytree=1,\n",
       "             early_stopping_rounds=None, enable_categorical=False, eta=0.092,\n",
       "             eval_metric=None, gamma=0.919, gpu_id=-1, grow_policy='depthwise',\n",
       "             importance_type=None, interaction_constraints='',\n",
       "             learning_rate=0.0920000002, max_bin=256, max_cat_to_onehot=4,\n",
       "             max_delta_step=0, max_depth=6, max_leaves=0, min_child_weight=1,\n",
       "             missing=nan, monotone_constraints='()', n_estimators=100, n_jobs=0,\n",
       "             num_parallel_tree=1, predictor='auto', random_state=0, reg_alpha=0, ...)"
      ]
     },
     "execution_count": 302,
     "metadata": {},
     "output_type": "execute_result"
    }
   ],
   "source": [
    "model = RandomForestRegressor(n_estimators = 93, random_state = 7)\n",
    "model2 = KNeighborsRegressor(n_neighbors=1,p=1,weights='distance')\n",
    "model3 = XGBRegressor(booster='gbtree',eta=0.092,gamma=0.919)\n",
    "\n",
    "model.fit(ax_train,ay_train)\n",
    "model2.fit(ax_train,ay_train)\n",
    "model3.fit(ax_train,ay_train)"
   ]
  },
  {
   "cell_type": "code",
   "execution_count": 304,
   "metadata": {},
   "outputs": [
    {
     "name": "stdout",
     "output_type": "stream",
     "text": [
      "Accuracy: 89.34 %\n"
     ]
    }
   ],
   "source": [
    "preds = model.predict(ax_test)\n",
    "preds2 = model2.predict(ax_test)\n",
    "preds3 = model3.predict(ax_test)\n",
    "\n",
    "preds_final = []\n",
    "\n",
    "for x in range(0,282):\n",
    "    sum = int(preds[x] + preds2[x] + preds3[x])\n",
    "    preds_final.append( sum/3 )\n",
    "    \n",
    "print('Accuracy: ' + str( round(100 - (mean_absolute_percentage_error(preds_final, ay_test)*100),2)) + ' %' )"
   ]
  }
 ],
 "metadata": {
  "kernelspec": {
   "display_name": "Python 3.10.4 64-bit",
   "language": "python",
   "name": "python3"
  },
  "language_info": {
   "codemirror_mode": {
    "name": "ipython",
    "version": 3
   },
   "file_extension": ".py",
   "mimetype": "text/x-python",
   "name": "python",
   "nbconvert_exporter": "python",
   "pygments_lexer": "ipython3",
   "version": "3.10.4"
  },
  "orig_nbformat": 4,
  "vscode": {
   "interpreter": {
    "hash": "d7e511bb055a27718d407294509d84e74fb2f34536121bedbf546583a06842a9"
   }
  }
 },
 "nbformat": 4,
 "nbformat_minor": 2
}
