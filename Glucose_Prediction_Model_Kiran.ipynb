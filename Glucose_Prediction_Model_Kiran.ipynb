{
 "cells": [
  {
   "cell_type": "markdown",
   "id": "cc835f67",
   "metadata": {},
   "source": [
    "D:\\KSU Classes\\GRA\\Kiran\\Datasets\\Images with Glucose Values"
   ]
  },
  {
   "cell_type": "markdown",
   "id": "797002c3",
   "metadata": {},
   "source": [
    "## 1) Get the data"
   ]
  },
  {
   "cell_type": "code",
   "execution_count": 89,
   "id": "1cddf2dd",
   "metadata": {},
   "outputs": [],
   "source": [
    "import numpy as np\n",
    "import pandas as pd\n",
    "from pathlib import Path\n",
    "import os.path\n",
    "\n",
    "from sklearn.model_selection import train_test_split\n",
    "\n",
    "import tensorflow as tf\n",
    "\n",
    "from sklearn.metrics import r2_score"
   ]
  },
  {
   "cell_type": "code",
   "execution_count": 90,
   "id": "8fc9c922",
   "metadata": {},
   "outputs": [],
   "source": [
    "image_dir = Path('D:/KSU Classes/GRA/Kiran/Datasets/Images with Glucose Values')"
   ]
  },
  {
   "cell_type": "code",
   "execution_count": 91,
   "id": "7c4ccdb4",
   "metadata": {},
   "outputs": [],
   "source": [
    "filepaths = pd.Series(list(image_dir.glob(r'**/*.jpg')), name='Filepath').astype(str)"
   ]
  },
  {
   "cell_type": "code",
   "execution_count": 92,
   "id": "04514212",
   "metadata": {},
   "outputs": [],
   "source": [
    "filepaths = pd.Series(list(image_dir.glob(r'**/*.jpg')), name='Filepath').astype(str)\n",
    "glucose_values = pd.Series(filepaths.apply(lambda x: os.path.split(os.path.split(x)[0])[1]), name='Glucose_values').astype(int)\n",
    "glucose_categories = pd.Series(filepaths.apply(lambda x: os.path.split(os.path.split(os.path.split(x)[0])[0])[1]), name='Glucose_categories').astype(str)\n",
    "\n",
    "images = pd.concat([filepaths, glucose_categories, glucose_values], axis=1).sample(frac=1.0, random_state=1).reset_index(drop=True)"
   ]
  },
  {
   "cell_type": "code",
   "execution_count": 93,
   "id": "37cf3f03",
   "metadata": {},
   "outputs": [
    {
     "data": {
      "text/html": [
       "<div>\n",
       "<style scoped>\n",
       "    .dataframe tbody tr th:only-of-type {\n",
       "        vertical-align: middle;\n",
       "    }\n",
       "\n",
       "    .dataframe tbody tr th {\n",
       "        vertical-align: top;\n",
       "    }\n",
       "\n",
       "    .dataframe thead th {\n",
       "        text-align: right;\n",
       "    }\n",
       "</style>\n",
       "<table border=\"1\" class=\"dataframe\">\n",
       "  <thead>\n",
       "    <tr style=\"text-align: right;\">\n",
       "      <th></th>\n",
       "      <th>Filepath</th>\n",
       "      <th>Glucose_categories</th>\n",
       "      <th>Glucose_values</th>\n",
       "    </tr>\n",
       "  </thead>\n",
       "  <tbody>\n",
       "    <tr>\n",
       "      <th>0</th>\n",
       "      <td>D:\\KSU Classes\\GRA\\Kiran\\Datasets\\Images with ...</td>\n",
       "      <td>90-99</td>\n",
       "      <td>96</td>\n",
       "    </tr>\n",
       "    <tr>\n",
       "      <th>1</th>\n",
       "      <td>D:\\KSU Classes\\GRA\\Kiran\\Datasets\\Images with ...</td>\n",
       "      <td>110-119</td>\n",
       "      <td>113</td>\n",
       "    </tr>\n",
       "    <tr>\n",
       "      <th>2</th>\n",
       "      <td>D:\\KSU Classes\\GRA\\Kiran\\Datasets\\Images with ...</td>\n",
       "      <td>70-79</td>\n",
       "      <td>71</td>\n",
       "    </tr>\n",
       "    <tr>\n",
       "      <th>3</th>\n",
       "      <td>D:\\KSU Classes\\GRA\\Kiran\\Datasets\\Images with ...</td>\n",
       "      <td>80-89</td>\n",
       "      <td>87</td>\n",
       "    </tr>\n",
       "    <tr>\n",
       "      <th>4</th>\n",
       "      <td>D:\\KSU Classes\\GRA\\Kiran\\Datasets\\Images with ...</td>\n",
       "      <td>80-89</td>\n",
       "      <td>85</td>\n",
       "    </tr>\n",
       "    <tr>\n",
       "      <th>...</th>\n",
       "      <td>...</td>\n",
       "      <td>...</td>\n",
       "      <td>...</td>\n",
       "    </tr>\n",
       "    <tr>\n",
       "      <th>980</th>\n",
       "      <td>D:\\KSU Classes\\GRA\\Kiran\\Datasets\\Images with ...</td>\n",
       "      <td>80-89</td>\n",
       "      <td>87</td>\n",
       "    </tr>\n",
       "    <tr>\n",
       "      <th>981</th>\n",
       "      <td>D:\\KSU Classes\\GRA\\Kiran\\Datasets\\Images with ...</td>\n",
       "      <td>100-109</td>\n",
       "      <td>101</td>\n",
       "    </tr>\n",
       "    <tr>\n",
       "      <th>982</th>\n",
       "      <td>D:\\KSU Classes\\GRA\\Kiran\\Datasets\\Images with ...</td>\n",
       "      <td>90-99</td>\n",
       "      <td>95</td>\n",
       "    </tr>\n",
       "    <tr>\n",
       "      <th>983</th>\n",
       "      <td>D:\\KSU Classes\\GRA\\Kiran\\Datasets\\Images with ...</td>\n",
       "      <td>110-119</td>\n",
       "      <td>113</td>\n",
       "    </tr>\n",
       "    <tr>\n",
       "      <th>984</th>\n",
       "      <td>D:\\KSU Classes\\GRA\\Kiran\\Datasets\\Images with ...</td>\n",
       "      <td>100-109</td>\n",
       "      <td>100</td>\n",
       "    </tr>\n",
       "  </tbody>\n",
       "</table>\n",
       "<p>985 rows × 3 columns</p>\n",
       "</div>"
      ],
      "text/plain": [
       "                                              Filepath Glucose_categories  \\\n",
       "0    D:\\KSU Classes\\GRA\\Kiran\\Datasets\\Images with ...              90-99   \n",
       "1    D:\\KSU Classes\\GRA\\Kiran\\Datasets\\Images with ...            110-119   \n",
       "2    D:\\KSU Classes\\GRA\\Kiran\\Datasets\\Images with ...              70-79   \n",
       "3    D:\\KSU Classes\\GRA\\Kiran\\Datasets\\Images with ...              80-89   \n",
       "4    D:\\KSU Classes\\GRA\\Kiran\\Datasets\\Images with ...              80-89   \n",
       "..                                                 ...                ...   \n",
       "980  D:\\KSU Classes\\GRA\\Kiran\\Datasets\\Images with ...              80-89   \n",
       "981  D:\\KSU Classes\\GRA\\Kiran\\Datasets\\Images with ...            100-109   \n",
       "982  D:\\KSU Classes\\GRA\\Kiran\\Datasets\\Images with ...              90-99   \n",
       "983  D:\\KSU Classes\\GRA\\Kiran\\Datasets\\Images with ...            110-119   \n",
       "984  D:\\KSU Classes\\GRA\\Kiran\\Datasets\\Images with ...            100-109   \n",
       "\n",
       "     Glucose_values  \n",
       "0                96  \n",
       "1               113  \n",
       "2                71  \n",
       "3                87  \n",
       "4                85  \n",
       "..              ...  \n",
       "980              87  \n",
       "981             101  \n",
       "982              95  \n",
       "983             113  \n",
       "984             100  \n",
       "\n",
       "[985 rows x 3 columns]"
      ]
     },
     "execution_count": 93,
     "metadata": {},
     "output_type": "execute_result"
    }
   ],
   "source": [
    "images"
   ]
  },
  {
   "cell_type": "markdown",
   "id": "eb1e2e80",
   "metadata": {},
   "source": [
    "## 2) Explore and Visualize the data"
   ]
  },
  {
   "cell_type": "code",
   "execution_count": 94,
   "id": "5b6cf64c",
   "metadata": {},
   "outputs": [
    {
     "name": "stdout",
     "output_type": "stream",
     "text": [
      "<class 'pandas.core.frame.DataFrame'>\n",
      "RangeIndex: 985 entries, 0 to 984\n",
      "Data columns (total 3 columns):\n",
      " #   Column              Non-Null Count  Dtype \n",
      "---  ------              --------------  ----- \n",
      " 0   Filepath            985 non-null    object\n",
      " 1   Glucose_categories  985 non-null    object\n",
      " 2   Glucose_values      985 non-null    int32 \n",
      "dtypes: int32(1), object(2)\n",
      "memory usage: 19.4+ KB\n"
     ]
    }
   ],
   "source": [
    "images.info()"
   ]
  },
  {
   "cell_type": "code",
   "execution_count": 95,
   "id": "a1805354",
   "metadata": {},
   "outputs": [
    {
     "data": {
      "text/html": [
       "<div>\n",
       "<style scoped>\n",
       "    .dataframe tbody tr th:only-of-type {\n",
       "        vertical-align: middle;\n",
       "    }\n",
       "\n",
       "    .dataframe tbody tr th {\n",
       "        vertical-align: top;\n",
       "    }\n",
       "\n",
       "    .dataframe thead th {\n",
       "        text-align: right;\n",
       "    }\n",
       "</style>\n",
       "<table border=\"1\" class=\"dataframe\">\n",
       "  <thead>\n",
       "    <tr style=\"text-align: right;\">\n",
       "      <th></th>\n",
       "      <th>Glucose_values</th>\n",
       "    </tr>\n",
       "  </thead>\n",
       "  <tbody>\n",
       "    <tr>\n",
       "      <th>count</th>\n",
       "      <td>985.000000</td>\n",
       "    </tr>\n",
       "    <tr>\n",
       "      <th>mean</th>\n",
       "      <td>101.320812</td>\n",
       "    </tr>\n",
       "    <tr>\n",
       "      <th>std</th>\n",
       "      <td>18.997182</td>\n",
       "    </tr>\n",
       "    <tr>\n",
       "      <th>min</th>\n",
       "      <td>71.000000</td>\n",
       "    </tr>\n",
       "    <tr>\n",
       "      <th>25%</th>\n",
       "      <td>85.000000</td>\n",
       "    </tr>\n",
       "    <tr>\n",
       "      <th>50%</th>\n",
       "      <td>98.000000</td>\n",
       "    </tr>\n",
       "    <tr>\n",
       "      <th>75%</th>\n",
       "      <td>113.000000</td>\n",
       "    </tr>\n",
       "    <tr>\n",
       "      <th>max</th>\n",
       "      <td>147.000000</td>\n",
       "    </tr>\n",
       "  </tbody>\n",
       "</table>\n",
       "</div>"
      ],
      "text/plain": [
       "       Glucose_values\n",
       "count      985.000000\n",
       "mean       101.320812\n",
       "std         18.997182\n",
       "min         71.000000\n",
       "25%         85.000000\n",
       "50%         98.000000\n",
       "75%        113.000000\n",
       "max        147.000000"
      ]
     },
     "execution_count": 95,
     "metadata": {},
     "output_type": "execute_result"
    }
   ],
   "source": [
    "images.describe()"
   ]
  },
  {
   "cell_type": "code",
   "execution_count": 96,
   "id": "14606fa6",
   "metadata": {},
   "outputs": [
    {
     "data": {
      "text/plain": [
       "80-89      240\n",
       "100-109    179\n",
       "90-99      178\n",
       "120-129    119\n",
       "70-79       90\n",
       "110-119     75\n",
       "140-149     59\n",
       "130-139     45\n",
       "Name: Glucose_categories, dtype: int64"
      ]
     },
     "execution_count": 96,
     "metadata": {},
     "output_type": "execute_result"
    }
   ],
   "source": [
    "images['Glucose_categories'].value_counts()"
   ]
  },
  {
   "cell_type": "code",
   "execution_count": 97,
   "id": "f3f1477f",
   "metadata": {},
   "outputs": [
    {
     "data": {
      "image/png": "[encoded data removed]",
      "text/plain": [
       "<Figure size 720x360 with 1 Axes>"
      ]
     },
     "metadata": {
      "needs_background": "light"
     },
     "output_type": "display_data"
    }
   ],
   "source": [
    "#visualize distribution of numerical attributes by histogram\n",
    "import matplotlib.pyplot as plt\n",
    "\n",
    "images.hist(bins=9, figsize=(10,5))\n",
    "plt.show()"
   ]
  },
  {
   "cell_type": "markdown",
   "id": "249fa4e9",
   "metadata": {},
   "source": [
    "## 3) Stratified shuffle spliting into training and testing data"
   ]
  },
  {
   "cell_type": "code",
   "execution_count": 98,
   "id": "c376f19e",
   "metadata": {},
   "outputs": [],
   "source": [
    "# Stratified shuffle splitting based on categories\n",
    "from sklearn.model_selection import StratifiedShuffleSplit\n",
    "\n",
    "split = StratifiedShuffleSplit(n_splits=1, test_size=0.2, random_state=42)\n",
    "for train_index, test_index in split.split(images, images['Glucose_categories']):\n",
    "    train_df = images.loc[train_index]\n",
    "    test_df = images.loc[test_index]"
   ]
  },
  {
   "cell_type": "code",
   "execution_count": 99,
   "id": "698654b6",
   "metadata": {},
   "outputs": [
    {
     "data": {
      "text/plain": [
       "(788, 3)"
      ]
     },
     "execution_count": 99,
     "metadata": {},
     "output_type": "execute_result"
    }
   ],
   "source": [
    "train_df.shape"
   ]
  },
  {
   "cell_type": "markdown",
   "id": "0c4b00d2",
   "metadata": {},
   "source": [
    "## 4) Preprocess the training data"
   ]
  },
  {
   "cell_type": "code",
   "execution_count": 100,
   "id": "b95c4953",
   "metadata": {},
   "outputs": [],
   "source": [
    "train_generator = tf.keras.preprocessing.image.ImageDataGenerator(\n",
    "    rescale=1./255,\n",
    "    validation_split=0.2\n",
    ")\n",
    "\n",
    "test_generator = tf.keras.preprocessing.image.ImageDataGenerator(\n",
    "    rescale=1./255\n",
    ")"
   ]
  },
  {
   "cell_type": "code",
   "execution_count": 101,
   "id": "f10066a3",
   "metadata": {},
   "outputs": [
    {
     "name": "stdout",
     "output_type": "stream",
     "text": [
      "Found 631 validated image filenames.\n",
      "Found 157 validated image filenames.\n",
      "Found 197 validated image filenames.\n"
     ]
    }
   ],
   "source": [
    "train_images = train_generator.flow_from_dataframe(\n",
    "    dataframe=train_df,\n",
    "    x_col='Filepath',\n",
    "    y_col='Glucose_values',\n",
    "    target_size=(240, 320),\n",
    "    color_mode='rgb',\n",
    "    class_mode='raw',\n",
    "    batch_size=32,\n",
    "    shuffle=True,\n",
    "    seed=42,\n",
    "    subset='training'\n",
    ")\n",
    "\n",
    "val_images = train_generator.flow_from_dataframe(\n",
    "    dataframe=train_df,\n",
    "    x_col='Filepath',\n",
    "    y_col='Glucose_values',\n",
    "    target_size=(240, 320),\n",
    "    color_mode='rgb',\n",
    "    class_mode='raw',\n",
    "    batch_size=32,\n",
    "    shuffle=True,\n",
    "    seed=42,\n",
    "    subset='validation'\n",
    ")\n",
    "\n",
    "test_images = test_generator.flow_from_dataframe(\n",
    "    dataframe=test_df,\n",
    "    x_col='Filepath',\n",
    "    y_col='Glucose_values',\n",
    "    target_size=(240, 320),\n",
    "    color_mode='rgb',\n",
    "    class_mode='raw',\n",
    "    batch_size=32,\n",
    "    shuffle=False\n",
    ")"
   ]
  },
  {
   "cell_type": "markdown",
   "id": "22f55835",
   "metadata": {},
   "source": [
    "## 5) Training"
   ]
  },
  {
   "cell_type": "code",
   "execution_count": 102,
   "id": "d4edbbb4",
   "metadata": {},
   "outputs": [
    {
     "name": "stdout",
     "output_type": "stream",
     "text": [
      "Epoch 1/100\n",
      "20/20 [==============================] - 22s 1s/step - loss: 10556.1719 - val_loss: 9505.5645\n",
      "Epoch 2/100\n",
      "20/20 [==============================] - 20s 1s/step - loss: 8708.1592 - val_loss: 5480.9409\n",
      "Epoch 3/100\n",
      "20/20 [==============================] - 20s 996ms/step - loss: 2344.2056 - val_loss: 1157.5708\n",
      "Epoch 4/100\n",
      "20/20 [==============================] - 22s 1s/step - loss: 636.8917 - val_loss: 481.9298\n",
      "Epoch 5/100\n",
      "20/20 [==============================] - 24s 1s/step - loss: 425.0880 - val_loss: 483.8144\n",
      "Epoch 6/100\n",
      "20/20 [==============================] - 22s 1s/step - loss: 412.7010 - val_loss: 493.3076\n",
      "Epoch 7/100\n",
      "20/20 [==============================] - 21s 1s/step - loss: 410.2497 - val_loss: 468.5491\n",
      "Epoch 8/100\n",
      "20/20 [==============================] - 21s 1s/step - loss: 410.0044 - val_loss: 473.9440\n",
      "Epoch 9/100\n",
      "20/20 [==============================] - 20s 1s/step - loss: 410.3756 - val_loss: 492.0699\n",
      "Epoch 10/100\n",
      "20/20 [==============================] - 20s 1s/step - loss: 410.6808 - val_loss: 468.5654\n",
      "Epoch 11/100\n",
      "20/20 [==============================] - 20s 991ms/step - loss: 408.1191 - val_loss: 469.9519\n",
      "Epoch 12/100\n",
      "20/20 [==============================] - 20s 998ms/step - loss: 409.4173 - val_loss: 464.3474\n",
      "Epoch 13/100\n",
      "20/20 [==============================] - 20s 1s/step - loss: 406.8553 - val_loss: 488.9440\n",
      "Epoch 14/100\n",
      "20/20 [==============================] - 20s 1s/step - loss: 408.3882 - val_loss: 471.7553\n",
      "Epoch 15/100\n",
      "20/20 [==============================] - 20s 1s/step - loss: 408.6273 - val_loss: 479.5154\n",
      "Epoch 16/100\n",
      "20/20 [==============================] - 20s 1s/step - loss: 406.9589 - val_loss: 462.6910\n",
      "Epoch 17/100\n",
      "20/20 [==============================] - 21s 1s/step - loss: 411.0204 - val_loss: 474.4658\n",
      "Epoch 18/100\n",
      "20/20 [==============================] - 20s 991ms/step - loss: 407.9969 - val_loss: 465.2251\n",
      "Epoch 19/100\n",
      "20/20 [==============================] - 20s 990ms/step - loss: 407.0484 - val_loss: 496.0287\n",
      "Epoch 20/100\n",
      "20/20 [==============================] - 20s 991ms/step - loss: 407.4817 - val_loss: 459.7901\n",
      "Epoch 21/100\n",
      "20/20 [==============================] - 20s 992ms/step - loss: 407.7249 - val_loss: 470.0002\n",
      "Epoch 22/100\n",
      "20/20 [==============================] - 20s 983ms/step - loss: 409.7836 - val_loss: 457.9735\n",
      "Epoch 23/100\n",
      "20/20 [==============================] - 20s 992ms/step - loss: 407.9542 - val_loss: 470.8776\n",
      "Epoch 24/100\n",
      "20/20 [==============================] - 20s 995ms/step - loss: 405.9718 - val_loss: 459.8008\n",
      "Epoch 25/100\n",
      "20/20 [==============================] - 20s 1s/step - loss: 408.0927 - val_loss: 461.7996\n",
      "Epoch 26/100\n",
      "20/20 [==============================] - 20s 987ms/step - loss: 404.5626 - val_loss: 487.6748\n",
      "Epoch 27/100\n",
      "20/20 [==============================] - 20s 972ms/step - loss: 405.7922 - val_loss: 462.9258\n"
     ]
    }
   ],
   "source": [
    "inputs = tf.keras.Input(shape=(240, 320, 3))\n",
    "x = tf.keras.layers.Conv2D(filters=16, kernel_size=(3, 3), activation='relu')(inputs)\n",
    "x = tf.keras.layers.MaxPool2D()(x)\n",
    "x = tf.keras.layers.Conv2D(filters=32, kernel_size=(3, 3), activation='relu')(x)\n",
    "x = tf.keras.layers.MaxPool2D()(x)\n",
    "x = tf.keras.layers.GlobalAveragePooling2D()(x)\n",
    "x = tf.keras.layers.Dense(64, activation='relu')(x)\n",
    "x = tf.keras.layers.Dense(64, activation='relu')(x)\n",
    "outputs = tf.keras.layers.Dense(1, activation='linear')(x)\n",
    "\n",
    "model = tf.keras.Model(inputs=inputs, outputs=outputs)\n",
    "\n",
    "model.compile(\n",
    "    optimizer='adam',\n",
    "    loss='mse'\n",
    ")\n",
    "\n",
    "history = model.fit(\n",
    "    train_images,\n",
    "    validation_data=val_images,\n",
    "    epochs=100,\n",
    "    callbacks=[\n",
    "        tf.keras.callbacks.EarlyStopping(\n",
    "            monitor='val_loss',\n",
    "            patience=5,\n",
    "            restore_best_weights=True\n",
    "        )\n",
    "    ]\n",
    ")"
   ]
  },
  {
   "cell_type": "markdown",
   "id": "c06ce8e7",
   "metadata": {},
   "source": [
    "## 6) Testing"
   ]
  },
  {
   "cell_type": "code",
   "execution_count": 103,
   "id": "91f724a1",
   "metadata": {},
   "outputs": [
    {
     "name": "stdout",
     "output_type": "stream",
     "text": [
      "7/7 [==============================] - 4s 486ms/step\n",
      "[ 99.78588   97.39409   97.93022   98.46853  100.21061   97.76885\n",
      "  97.48328   97.54413   96.47728   98.140236  92.23916   96.82459\n",
      "  98.99328   99.3292    99.01741   97.378     97.41903   92.89184\n",
      "  97.96673   98.35871   98.766884  98.75588   99.06569  100.730225\n",
      "  97.600044  97.21061   86.5917    96.11931   99.281105 100.026726\n",
      "  97.781425  97.01666   98.137    100.37885  100.86143   99.09005\n",
      "  99.56489   98.20304   98.42263   98.64871   98.15834  102.113686\n",
      "  98.45606   97.90602   97.99627  101.355156  90.158134  97.92298\n",
      "  99.413826  99.9781    98.56798   96.982956  96.72946   97.50434\n",
      "  81.77297   98.68679   97.297485  98.11143   99.61208   97.47517\n",
      "  97.53981   98.14052   96.35456   98.63071   99.87376   97.34031\n",
      "  99.21408   97.49366   92.035225  99.543816  99.45141   98.50257\n",
      "  97.59283   99.86642  102.39045   96.70113  101.37063   99.00894\n",
      "  98.90425   97.71064   86.85702   96.12207   91.730034  75.627815\n",
      "  97.71351   94.43935   98.242455  96.30294   78.15991   96.85775\n",
      "  97.27981   96.26406   97.71595  102.61871   99.28723   97.88913\n",
      "  94.474     97.56649   97.12187   98.468315  98.56359   97.750145\n",
      "  95.66216   97.006905  99.358574  99.65034   95.38965   98.138756\n",
      "  99.17393   97.52558   95.70406   98.45471   96.74973   99.30671\n",
      "  97.799614  97.134224  98.650185  98.45606   96.315895  98.46244\n",
      " 100.61146  101.03024   98.38424   86.72014   97.61049   99.533485\n",
      "  98.7602    99.124565  98.158195  99.294914  96.82918   90.87678\n",
      "  98.84746   98.24178   97.8658    97.27768  100.530785  99.394554\n",
      "  97.96612   98.24532   98.89124   94.73904   91.92178   95.87119\n",
      "  99.125755 101.750496  98.540535  98.20443   98.51963   97.52726\n",
      "  98.202965  98.43991   98.23838  100.57068   98.47095   90.31414\n",
      "  98.84672   97.961945  98.079575  98.93603   99.62856  101.582405\n",
      "  98.28152   98.00054  101.32612   98.65758   97.92269   99.46952\n",
      "  98.757576  97.197395  98.48057   97.46308   97.55093   99.930954\n",
      "  97.29352   94.49557   99.078285 100.22817   97.92555   98.78598\n",
      " 101.94257  100.27543   99.62976   98.44022  100.50967   98.30078\n",
      "  97.13215   97.14237   98.03034   94.601585  98.73843   99.842155\n",
      "  97.579796 101.453835  97.88034   99.105965  99.03765 ]\n"
     ]
    }
   ],
   "source": [
    "predicted_glucose_values = np.squeeze(model.predict(test_images))\n",
    "true_glucose_values = test_images.labels\n",
    "print(predicted_glucose_values)"
   ]
  },
  {
   "cell_type": "code",
   "execution_count": 104,
   "id": "fc967439",
   "metadata": {},
   "outputs": [
    {
     "data": {
      "image/png": "[encoded data removed]",
      "text/plain": [
       "<Figure size 432x288 with 1 Axes>"
      ]
     },
     "metadata": {
      "needs_background": "light"
     },
     "output_type": "display_data"
    }
   ],
   "source": [
    "plt.hist(predicted_glucose_values, 10)\n",
    "plt.show()"
   ]
  },
  {
   "cell_type": "code",
   "execution_count": 105,
   "id": "a4278e12",
   "metadata": {},
   "outputs": [
    {
     "name": "stdout",
     "output_type": "stream",
     "text": [
      "     Test RMSE: 19.87062\n",
      "Test R^2 Score: -0.10307\n"
     ]
    }
   ],
   "source": [
    "rmse = np.sqrt(model.evaluate(test_images, verbose=0))\n",
    "print(\"     Test RMSE: {:.5f}\".format(rmse))\n",
    "\n",
    "r2 = r2_score(true_glucose_values, predicted_glucose_values)\n",
    "print(\"Test R^2 Score: {:.5f}\".format(r2))"
   ]
  },
  {
   "cell_type": "code",
   "execution_count": null,
   "id": "e622ebbe",
   "metadata": {},
   "outputs": [],
   "source": []
  }
 ],
 "metadata": {
  "kernelspec": {
   "display_name": "Python 3 (ipykernel)",
   "language": "python",
   "name": "python3"
  },
  "language_info": {
   "codemirror_mode": {
    "name": "ipython",
    "version": 3
   },
   "file_extension": ".py",
   "mimetype": "text/x-python",
   "name": "python",
   "nbconvert_exporter": "python",
   "pygments_lexer": "ipython3",
   "version": "3.9.7"
  }
 },
 "nbformat": 4,
 "nbformat_minor": 5
}
